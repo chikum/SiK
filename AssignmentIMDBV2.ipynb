{
  "nbformat": 4,
  "nbformat_minor": 0,
  "metadata": {
    "colab": {
      "name": "AssignmentIMDBV2.ipynb",
      "provenance": [],
      "collapsed_sections": [],
      "authorship_tag": "ABX9TyM3Che1HMnBZBXMrDkORiIw",
      "include_colab_link": true
    },
    "kernelspec": {
      "display_name": "Python 3",
      "name": "python3"
    },
    "language_info": {
      "name": "python"
    },
    "accelerator": "GPU"
  },
  "cells": [
    {
      "cell_type": "markdown",
      "metadata": {
        "id": "view-in-github",
        "colab_type": "text"
      },
      "source": [
        "<a href=\"https://colab.research.google.com/github/chikum/SiK/blob/AES/AssignmentIMDBV2.ipynb\" target=\"_parent\"><img src=\"https://colab.research.google.com/assets/colab-badge.svg\" alt=\"Open In Colab\"/></a>"
      ]
    },
    {
      "cell_type": "markdown",
      "metadata": {
        "id": "GH2WVvSW7tOt"
      },
      "source": [
        "**Import Libraries/Dataset (0 mark)**"
      ]
    },
    {
      "cell_type": "code",
      "metadata": {
        "colab": {
          "base_uri": "https://localhost:8080/"
        },
        "id": "tHgkyhxuVMRH",
        "outputId": "4bc5324f-0224-41a8-9263-8cdb7302ce55"
      },
      "source": [
        "from google.colab import drive\n",
        "drive.mount('/content/drive')\n"
      ],
      "execution_count": 201,
      "outputs": [
        {
          "output_type": "stream",
          "text": [
            "Drive already mounted at /content/drive; to attempt to forcibly remount, call drive.mount(\"/content/drive\", force_remount=True).\n"
          ],
          "name": "stdout"
        }
      ]
    },
    {
      "cell_type": "code",
      "metadata": {
        "id": "48is9jwHcgHd"
      },
      "source": [
        "import io\n",
        "import time\n",
        "import os\n",
        "\n",
        "import pandas as pd\n",
        "import numpy as np\n",
        "import matplotlib.pyplot as plt\n",
        "import seaborn as sns\n",
        "import tensorflow as tf\n",
        "\n",
        "from keras.layers import Dense\n",
        "import tensorflow_hub as hub\n",
        "import tensorflow.keras as keras \n",
        "from tensorflow.keras import models\n",
        "from tensorflow.keras import layers\n",
        "from tensorflow.keras.layers import LeakyReLU\n",
        "\n",
        "from tensorflow.keras import regularizers\n",
        "from tensorflow.keras.callbacks import EarlyStopping\n",
        "\n",
        "%matplotlib inline"
      ],
      "execution_count": 202,
      "outputs": []
    },
    {
      "cell_type": "markdown",
      "metadata": {
        "id": "FhXd4qqfu0N3"
      },
      "source": [
        "a. Import the required libraries and the dataset (use Google Drive if required).\n",
        "\n",
        "b. Check the GPU available (recommended- use free GPU provided by Google Colab)."
      ]
    },
    {
      "cell_type": "code",
      "metadata": {
        "id": "1G6GM-NwbM7w"
      },
      "source": [
        "path = \"/content/drive/MyDrive/Data/IMDBDataset.csv\"\n",
        "data = pd.read_csv(path)"
      ],
      "execution_count": 203,
      "outputs": []
    },
    {
      "cell_type": "code",
      "metadata": {
        "colab": {
          "base_uri": "https://localhost:8080/",
          "height": 198
        },
        "id": "6d22OWNbbsnL",
        "outputId": "541a1f9f-8282-4fd0-d1f2-1692d1879476"
      },
      "source": [
        "data.head()"
      ],
      "execution_count": 204,
      "outputs": [
        {
          "output_type": "execute_result",
          "data": {
            "text/html": [
              "<div>\n",
              "<style scoped>\n",
              "    .dataframe tbody tr th:only-of-type {\n",
              "        vertical-align: middle;\n",
              "    }\n",
              "\n",
              "    .dataframe tbody tr th {\n",
              "        vertical-align: top;\n",
              "    }\n",
              "\n",
              "    .dataframe thead th {\n",
              "        text-align: right;\n",
              "    }\n",
              "</style>\n",
              "<table border=\"1\" class=\"dataframe\">\n",
              "  <thead>\n",
              "    <tr style=\"text-align: right;\">\n",
              "      <th></th>\n",
              "      <th>review</th>\n",
              "      <th>sentiment</th>\n",
              "    </tr>\n",
              "  </thead>\n",
              "  <tbody>\n",
              "    <tr>\n",
              "      <th>0</th>\n",
              "      <td>One of the other reviewers has mentioned that ...</td>\n",
              "      <td>positive</td>\n",
              "    </tr>\n",
              "    <tr>\n",
              "      <th>1</th>\n",
              "      <td>A wonderful little production. &lt;br /&gt;&lt;br /&gt;The...</td>\n",
              "      <td>positive</td>\n",
              "    </tr>\n",
              "    <tr>\n",
              "      <th>2</th>\n",
              "      <td>I thought this was a wonderful way to spend ti...</td>\n",
              "      <td>positive</td>\n",
              "    </tr>\n",
              "    <tr>\n",
              "      <th>3</th>\n",
              "      <td>Basically there's a family where a little boy ...</td>\n",
              "      <td>negative</td>\n",
              "    </tr>\n",
              "    <tr>\n",
              "      <th>4</th>\n",
              "      <td>Petter Mattei's \"Love in the Time of Money\" is...</td>\n",
              "      <td>positive</td>\n",
              "    </tr>\n",
              "  </tbody>\n",
              "</table>\n",
              "</div>"
            ],
            "text/plain": [
              "                                              review sentiment\n",
              "0  One of the other reviewers has mentioned that ...  positive\n",
              "1  A wonderful little production. <br /><br />The...  positive\n",
              "2  I thought this was a wonderful way to spend ti...  positive\n",
              "3  Basically there's a family where a little boy ...  negative\n",
              "4  Petter Mattei's \"Love in the Time of Money\" is...  positive"
            ]
          },
          "metadata": {
            "tags": []
          },
          "execution_count": 204
        }
      ]
    },
    {
      "cell_type": "code",
      "metadata": {
        "colab": {
          "base_uri": "https://localhost:8080/"
        },
        "id": "UjwvgM5zexnZ",
        "outputId": "abddf8f0-eae2-4cfe-f73a-1f29a0da533d"
      },
      "source": [
        "print(data.shape)"
      ],
      "execution_count": 205,
      "outputs": [
        {
          "output_type": "stream",
          "text": [
            "(50000, 2)\n"
          ],
          "name": "stdout"
        }
      ]
    },
    {
      "cell_type": "markdown",
      "metadata": {
        "id": "TR2_FMfJ8R4k"
      },
      "source": [
        "**2. Data Visualization (0.75 mark)**\n",
        "\n",
        " a. Print at least two movie reviews from each class of the dataset, for a sanity check that labels match the text."
      ]
    },
    {
      "cell_type": "code",
      "metadata": {
        "colab": {
          "base_uri": "https://localhost:8080/"
        },
        "id": "Bl9rB8AJiJmu",
        "outputId": "4410d4dc-7c2d-4486-8eef-ee3a848daf45"
      },
      "source": [
        "df = data.to_numpy()\n",
        "print(df.shape)\n",
        "\n",
        "print('Sample 2 positive reviews : ')\n",
        "print('=============================')\n",
        "count=0\n",
        "for i in range(1,50000):\n",
        "  if count ==2:\n",
        "    break\n",
        "\n",
        "  if df[i][1]=='positive':    \n",
        "    print(df[i][0])\n",
        "    print(df[i][1])\n",
        "    count=count+1\n",
        "\n",
        "print('===============================================================')\n",
        "print()"
      ],
      "execution_count": 206,
      "outputs": [
        {
          "output_type": "stream",
          "text": [
            "(50000, 2)\n",
            "Sample 2 positive reviews : \n",
            "=============================\n",
            "A wonderful little production. <br /><br />The filming technique is very unassuming- very old-time-BBC fashion and gives a comforting, and sometimes discomforting, sense of realism to the entire piece. <br /><br />The actors are extremely well chosen- Michael Sheen not only \"has got all the polari\" but he has all the voices down pat too! You can truly see the seamless editing guided by the references to Williams' diary entries, not only is it well worth the watching but it is a terrificly written and performed piece. A masterful production about one of the great master's of comedy and his life. <br /><br />The realism really comes home with the little things: the fantasy of the guard which, rather than use the traditional 'dream' techniques remains solid then disappears. It plays on our knowledge and our senses, particularly with the scenes concerning Orton and Halliwell and the sets (particularly of their flat with Halliwell's murals decorating every surface) are terribly well done.\n",
            "positive\n",
            "I thought this was a wonderful way to spend time on a too hot summer weekend, sitting in the air conditioned theater and watching a light-hearted comedy. The plot is simplistic, but the dialogue is witty and the characters are likable (even the well bread suspected serial killer). While some may be disappointed when they realize this is not Match Point 2: Risk Addiction, I thought it was proof that Woody Allen is still fully in control of the style many of us have grown to love.<br /><br />This was the most I'd laughed at one of Woody's comedies in years (dare I say a decade?). While I've never been impressed with Scarlet Johanson, in this she managed to tone down her \"sexy\" image and jumped right into a average, but spirited young woman.<br /><br />This may not be the crown jewel of his career, but it was wittier than \"Devil Wears Prada\" and more interesting than \"Superman\" a great comedy to go see with friends.\n",
            "positive\n",
            "===============================================================\n",
            "\n"
          ],
          "name": "stdout"
        }
      ]
    },
    {
      "cell_type": "code",
      "metadata": {
        "colab": {
          "base_uri": "https://localhost:8080/"
        },
        "id": "-xhMmkWmDxXh",
        "outputId": "8db33694-aebe-4458-91b3-7df64e691f24"
      },
      "source": [
        "print('Sample 2 Negative reviews : ')\n",
        "print('=============================')\n",
        "count=0\n",
        "for i in range(1,50000):\n",
        "  if count ==2:\n",
        "    break\n",
        "\n",
        "  if df[i][1]=='negative':    \n",
        "    print(df[i][0])\n",
        "    print(df[i][1])\n",
        "    count=count+1\n",
        "\n",
        "print('===============================================================')\n",
        "print()"
      ],
      "execution_count": 207,
      "outputs": [
        {
          "output_type": "stream",
          "text": [
            "Sample 2 Negative reviews : \n",
            "=============================\n",
            "Basically there's a family where a little boy (Jake) thinks there's a zombie in his closet & his parents are fighting all the time.<br /><br />This movie is slower than a soap opera... and suddenly, Jake decides to become Rambo and kill the zombie.<br /><br />OK, first of all when you're going to make a film you must Decide if its a thriller or a drama! As a drama the movie is watchable. Parents are divorcing & arguing like in real life. And then we have Jake with his closet which totally ruins all the film! I expected to see a BOOGEYMAN similar movie, and instead i watched a drama with some meaningless thriller spots.<br /><br />3 out of 10 just for the well playing parents & descent dialogs. As for the shots with Jake: just ignore them.\n",
            "negative\n",
            "This show was an amazing, fresh & innovative idea in the 70's when it first aired. The first 7 or 8 years were brilliant, but things dropped off after that. By 1990, the show was not really funny anymore, and it's continued its decline further to the complete waste of time it is today.<br /><br />It's truly disgraceful how far this show has fallen. The writing is painfully bad, the performances are almost as bad - if not for the mildly entertaining respite of the guest-hosts, this show probably wouldn't still be on the air. I find it so hard to believe that the same creator that hand-selected the original cast also chose the band of hacks that followed. How can one recognize such brilliance and then see fit to replace it with such mediocrity? I felt I must give 2 stars out of respect for the original cast that made this show such a huge success. As it is now, the show is just awful. I can't believe it's still on the air.\n",
            "negative\n",
            "===============================================================\n",
            "\n"
          ],
          "name": "stdout"
        }
      ]
    },
    {
      "cell_type": "markdown",
      "metadata": {
        "id": "x9nwEGQ48b1g"
      },
      "source": [
        "**b**. Plot a bar graph of class distribution in a dataset. Each bar depicts the number of tweets belonging to a particular sentiment. (recommended - matplotlib/seaborn libraries)"
      ]
    },
    {
      "cell_type": "code",
      "metadata": {
        "colab": {
          "base_uri": "https://localhost:8080/",
          "height": 405
        },
        "id": "d0QP7aoUfOwh",
        "outputId": "e51fb6d1-084a-4dba-cd48-315d3aa48489"
      },
      "source": [
        "# print(data['sentiment'].value_counts())\n",
        "\n",
        "fig = plt.figure(figsize = (10,6))\n",
        "sns.countplot(data=data, x='sentiment', palette = [\"green\",\"red\"])"
      ],
      "execution_count": 208,
      "outputs": [
        {
          "output_type": "execute_result",
          "data": {
            "text/plain": [
              "<matplotlib.axes._subplots.AxesSubplot at 0x7f3fdef4b310>"
            ]
          },
          "metadata": {
            "tags": []
          },
          "execution_count": 208
        },
        {
          "output_type": "display_data",
          "data": {
            "image/png": "[encoded data removed]",
            "text/plain": [
              "<Figure size 720x432 with 1 Axes>"
            ]
          },
          "metadata": {
            "tags": [],
            "needs_background": "light"
          }
        }
      ]
    },
    {
      "cell_type": "code",
      "metadata": {
        "id": "opGBZRL1uV2E"
      },
      "source": [
        "data['sentiment'] = [1 if sentiment == 'positive' else 0 for sentiment in data['sentiment'].values]"
      ],
      "execution_count": 209,
      "outputs": []
    },
    {
      "cell_type": "code",
      "metadata": {
        "colab": {
          "base_uri": "https://localhost:8080/",
          "height": 198
        },
        "id": "AtNw0ibKueAI",
        "outputId": "2c7e724f-9cdd-4b3d-fe30-9b619f330d02"
      },
      "source": [
        "data.head()"
      ],
      "execution_count": 210,
      "outputs": [
        {
          "output_type": "execute_result",
          "data": {
            "text/html": [
              "<div>\n",
              "<style scoped>\n",
              "    .dataframe tbody tr th:only-of-type {\n",
              "        vertical-align: middle;\n",
              "    }\n",
              "\n",
              "    .dataframe tbody tr th {\n",
              "        vertical-align: top;\n",
              "    }\n",
              "\n",
              "    .dataframe thead th {\n",
              "        text-align: right;\n",
              "    }\n",
              "</style>\n",
              "<table border=\"1\" class=\"dataframe\">\n",
              "  <thead>\n",
              "    <tr style=\"text-align: right;\">\n",
              "      <th></th>\n",
              "      <th>review</th>\n",
              "      <th>sentiment</th>\n",
              "    </tr>\n",
              "  </thead>\n",
              "  <tbody>\n",
              "    <tr>\n",
              "      <th>0</th>\n",
              "      <td>One of the other reviewers has mentioned that ...</td>\n",
              "      <td>1</td>\n",
              "    </tr>\n",
              "    <tr>\n",
              "      <th>1</th>\n",
              "      <td>A wonderful little production. &lt;br /&gt;&lt;br /&gt;The...</td>\n",
              "      <td>1</td>\n",
              "    </tr>\n",
              "    <tr>\n",
              "      <th>2</th>\n",
              "      <td>I thought this was a wonderful way to spend ti...</td>\n",
              "      <td>1</td>\n",
              "    </tr>\n",
              "    <tr>\n",
              "      <th>3</th>\n",
              "      <td>Basically there's a family where a little boy ...</td>\n",
              "      <td>0</td>\n",
              "    </tr>\n",
              "    <tr>\n",
              "      <th>4</th>\n",
              "      <td>Petter Mattei's \"Love in the Time of Money\" is...</td>\n",
              "      <td>1</td>\n",
              "    </tr>\n",
              "  </tbody>\n",
              "</table>\n",
              "</div>"
            ],
            "text/plain": [
              "                                              review  sentiment\n",
              "0  One of the other reviewers has mentioned that ...          1\n",
              "1  A wonderful little production. <br /><br />The...          1\n",
              "2  I thought this was a wonderful way to spend ti...          1\n",
              "3  Basically there's a family where a little boy ...          0\n",
              "4  Petter Mattei's \"Love in the Time of Money\" is...          1"
            ]
          },
          "metadata": {
            "tags": []
          },
          "execution_count": 210
        }
      ]
    },
    {
      "cell_type": "markdown",
      "metadata": {
        "id": "0Ptn3NPD7ZeF"
      },
      "source": [
        "Train Test Split"
      ]
    },
    {
      "cell_type": "code",
      "metadata": {
        "id": "HWTzeDxYmxBu"
      },
      "source": [
        "from sklearn.model_selection import train_test_split\n",
        "\n",
        "Xtrain,Xtest,Ytrain ,Ytest = train_test_split(data['review'],data['sentiment'],test_size=0.33,random_state=0 )"
      ],
      "execution_count": 211,
      "outputs": []
    },
    {
      "cell_type": "markdown",
      "metadata": {
        "id": "Q9bTzSG2-VqR"
      },
      "source": [
        "## Shapes of train and test data."
      ]
    },
    {
      "cell_type": "code",
      "metadata": {
        "colab": {
          "base_uri": "https://localhost:8080/"
        },
        "id": "OtJidYE37AzP",
        "outputId": "82e53e88-9bf5-449f-c1c1-57429d5eefc4"
      },
      "source": [
        "print(\"Shapes To Train Data :\")\n",
        "print(Xtrain.shape)\n",
        "print(Ytrain.shape)\n",
        "print(\"Shapes To Test  Data :\")\n",
        "print(Xtest.shape)\n",
        "\n",
        "print(Ytest.shape)"
      ],
      "execution_count": 212,
      "outputs": [
        {
          "output_type": "stream",
          "text": [
            "Shapes To Train Data :\n",
            "(33500,)\n",
            "(33500,)\n",
            "Shapes To Test  Data :\n",
            "(16500,)\n",
            "(16500,)\n"
          ],
          "name": "stdout"
        }
      ]
    },
    {
      "cell_type": "code",
      "metadata": {
        "colab": {
          "base_uri": "https://localhost:8080/"
        },
        "id": "to6xmELe7OvX",
        "outputId": "269b3dd4-bbbe-4559-bdff-1f02c954019c"
      },
      "source": [
        "# print a sample data\n",
        "\n",
        "print('Xtrain \\n', Xtrain[10])\n",
        "print('Ytrain \\n', Ytrain[10])\n",
        "\n",
        "print('Xtest \\n', Xtest[1])\n",
        "print('Ytest \\n', Ytest[1])"
      ],
      "execution_count": 213,
      "outputs": [
        {
          "output_type": "stream",
          "text": [
            "Xtrain \n",
            " Phil the Alien is one of those quirky films where the humour is based around the oddness of everything rather than actual punchlines.<br /><br />At first it was very odd and pretty funny but as the movie progressed I didn't find the jokes or oddness funny anymore.<br /><br />Its a low budget film (thats never a problem in itself), there were some pretty interesting characters, but eventually I just lost interest.<br /><br />I imagine this film would appeal to a stoner who is currently partaking.<br /><br />For something similar but better try \"Brother from another planet\"\n",
            "Ytrain \n",
            " 0\n",
            "Xtest \n",
            " A wonderful little production. <br /><br />The filming technique is very unassuming- very old-time-BBC fashion and gives a comforting, and sometimes discomforting, sense of realism to the entire piece. <br /><br />The actors are extremely well chosen- Michael Sheen not only \"has got all the polari\" but he has all the voices down pat too! You can truly see the seamless editing guided by the references to Williams' diary entries, not only is it well worth the watching but it is a terrificly written and performed piece. A masterful production about one of the great master's of comedy and his life. <br /><br />The realism really comes home with the little things: the fantasy of the guard which, rather than use the traditional 'dream' techniques remains solid then disappears. It plays on our knowledge and our senses, particularly with the scenes concerning Orton and Halliwell and the sets (particularly of their flat with Halliwell's murals decorating every surface) are terribly well done.\n",
            "Ytest \n",
            " 1\n"
          ],
          "name": "stdout"
        }
      ]
    },
    {
      "cell_type": "markdown",
      "metadata": {
        "id": "k7PZ1HiN8zDe"
      },
      "source": [
        "**3. Data Pre-processing (0.25 mark) **\n",
        "\n",
        "**a.**Need for this Step - Since the models we use cannot accept string inputs or cannot be of the string format. We have to come up with a way of handling this step. The discussion of different ways of handling this step is out of the scope of this assignment.\n",
        "\n",
        "\n",
        "**b.** Please use this pre-trained embedding layer from TensorFlow hub for this assignment. This link also has a code snippet on how to convert a sentence to a vector. Refer to that for further clarity on this subject.\n"
      ]
    },
    {
      "cell_type": "code",
      "metadata": {
        "id": "PVr9CHNCdOpN",
        "colab": {
          "base_uri": "https://localhost:8080/"
        },
        "outputId": "48c17ef7-51e7-4e9b-889c-3604bbb52fd4"
      },
      "source": [
        "oXtrain = Xtrain\n",
        "oXtest = Xtest\n",
        "\n",
        "embed = hub.load(\"https://tfhub.dev/google/nnlm-en-dim128/2\")\n",
        "#embeddings = embed([\"cat is on the mat\", \"dog is in the fog\"])\n",
        "embeddingXtrain = embed(Xtrain)\n",
        "embeddingXtest = embed(Xtest)"
      ],
      "execution_count": 214,
      "outputs": [
        {
          "output_type": "stream",
          "text": [
            "WARNING:tensorflow:9 out of the last 11 calls to <function recreate_function.<locals>.restored_function_body at 0x7f3f4012b680> triggered tf.function retracing. Tracing is expensive and the excessive number of tracings could be due to (1) creating @tf.function repeatedly in a loop, (2) passing tensors with different shapes, (3) passing Python objects instead of tensors. For (1), please define your @tf.function outside of the loop. For (2), @tf.function has experimental_relax_shapes=True option that relaxes argument shapes that can avoid unnecessary retracing. For (3), please refer to https://www.tensorflow.org/guide/function#controlling_retracing and https://www.tensorflow.org/api_docs/python/tf/function for  more details.\n"
          ],
          "name": "stdout"
        },
        {
          "output_type": "stream",
          "text": [
            "WARNING:tensorflow:9 out of the last 11 calls to <function recreate_function.<locals>.restored_function_body at 0x7f3f4012b680> triggered tf.function retracing. Tracing is expensive and the excessive number of tracings could be due to (1) creating @tf.function repeatedly in a loop, (2) passing tensors with different shapes, (3) passing Python objects instead of tensors. For (1), please define your @tf.function outside of the loop. For (2), @tf.function has experimental_relax_shapes=True option that relaxes argument shapes that can avoid unnecessary retracing. For (3), please refer to https://www.tensorflow.org/guide/function#controlling_retracing and https://www.tensorflow.org/api_docs/python/tf/function for  more details.\n"
          ],
          "name": "stderr"
        },
        {
          "output_type": "stream",
          "text": [
            "WARNING:tensorflow:9 out of the last 11 calls to <function recreate_function.<locals>.restored_function_body at 0x7f3f4012bd40> triggered tf.function retracing. Tracing is expensive and the excessive number of tracings could be due to (1) creating @tf.function repeatedly in a loop, (2) passing tensors with different shapes, (3) passing Python objects instead of tensors. For (1), please define your @tf.function outside of the loop. For (2), @tf.function has experimental_relax_shapes=True option that relaxes argument shapes that can avoid unnecessary retracing. For (3), please refer to https://www.tensorflow.org/guide/function#controlling_retracing and https://www.tensorflow.org/api_docs/python/tf/function for  more details.\n"
          ],
          "name": "stdout"
        },
        {
          "output_type": "stream",
          "text": [
            "WARNING:tensorflow:9 out of the last 11 calls to <function recreate_function.<locals>.restored_function_body at 0x7f3f4012bd40> triggered tf.function retracing. Tracing is expensive and the excessive number of tracings could be due to (1) creating @tf.function repeatedly in a loop, (2) passing tensors with different shapes, (3) passing Python objects instead of tensors. For (1), please define your @tf.function outside of the loop. For (2), @tf.function has experimental_relax_shapes=True option that relaxes argument shapes that can avoid unnecessary retracing. For (3), please refer to https://www.tensorflow.org/guide/function#controlling_retracing and https://www.tensorflow.org/api_docs/python/tf/function for  more details.\n"
          ],
          "name": "stderr"
        },
        {
          "output_type": "stream",
          "text": [
            "WARNING:tensorflow:10 out of the last 12 calls to <function recreate_function.<locals>.restored_function_body at 0x7f3f40118c20> triggered tf.function retracing. Tracing is expensive and the excessive number of tracings could be due to (1) creating @tf.function repeatedly in a loop, (2) passing tensors with different shapes, (3) passing Python objects instead of tensors. For (1), please define your @tf.function outside of the loop. For (2), @tf.function has experimental_relax_shapes=True option that relaxes argument shapes that can avoid unnecessary retracing. For (3), please refer to https://www.tensorflow.org/guide/function#controlling_retracing and https://www.tensorflow.org/api_docs/python/tf/function for  more details.\n"
          ],
          "name": "stdout"
        },
        {
          "output_type": "stream",
          "text": [
            "WARNING:tensorflow:10 out of the last 12 calls to <function recreate_function.<locals>.restored_function_body at 0x7f3f40118c20> triggered tf.function retracing. Tracing is expensive and the excessive number of tracings could be due to (1) creating @tf.function repeatedly in a loop, (2) passing tensors with different shapes, (3) passing Python objects instead of tensors. For (1), please define your @tf.function outside of the loop. For (2), @tf.function has experimental_relax_shapes=True option that relaxes argument shapes that can avoid unnecessary retracing. For (3), please refer to https://www.tensorflow.org/guide/function#controlling_retracing and https://www.tensorflow.org/api_docs/python/tf/function for  more details.\n"
          ],
          "name": "stderr"
        }
      ]
    },
    {
      "cell_type": "markdown",
      "metadata": {
        "id": "-_SKvoVj9bHk"
      },
      "source": [
        "**c.** Bring the train and test data in the required format."
      ]
    },
    {
      "cell_type": "code",
      "metadata": {
        "colab": {
          "base_uri": "https://localhost:8080/"
        },
        "id": "EdRvINno9Ri1",
        "outputId": "11023da1-6f6b-455b-eb3c-12f7363f103e"
      },
      "source": [
        "Xtrain = embeddingXtrain\n",
        "Xtest = embeddingXtest\n",
        "\n",
        "\n",
        "\n",
        "print(Xtrain.shape)\n",
        "print(Ytrain.shape)\n",
        "\n",
        "print(Xtest.shape)\n",
        "print(Ytest.shape)\n",
        "y_test = Ytest\n"
      ],
      "execution_count": 215,
      "outputs": [
        {
          "output_type": "stream",
          "text": [
            "(33500, 128)\n",
            "(33500,)\n",
            "(16500, 128)\n",
            "(16500,)\n"
          ],
          "name": "stdout"
        }
      ]
    },
    {
      "cell_type": "code",
      "metadata": {
        "id": "SoKNYvHcA6j3"
      },
      "source": [
        "Ytrain = tf.keras.utils.to_categorical(Ytrain)\n",
        "Ytest = tf.keras.utils.to_categorical(Ytest)"
      ],
      "execution_count": 216,
      "outputs": []
    },
    {
      "cell_type": "code",
      "metadata": {
        "colab": {
          "base_uri": "https://localhost:8080/"
        },
        "id": "KSizYmmu4uw1",
        "outputId": "83f2e43c-3009-47a1-a2c5-e8914602b421"
      },
      "source": [
        "print(Xtest.shape)\n",
        "print(Ytest.shape)\n",
        "\n",
        "print(Ytrain[:-10])\n",
        "print(Ytest[:-10])"
      ],
      "execution_count": 217,
      "outputs": [
        {
          "output_type": "stream",
          "text": [
            "(16500, 128)\n",
            "(16500, 2)\n",
            "[[0. 1.]\n",
            " [1. 0.]\n",
            " [0. 1.]\n",
            " ...\n",
            " [1. 0.]\n",
            " [0. 1.]\n",
            " [1. 0.]]\n",
            "[[0. 1.]\n",
            " [1. 0.]\n",
            " [1. 0.]\n",
            " ...\n",
            " [0. 1.]\n",
            " [0. 1.]\n",
            " [1. 0.]]\n"
          ],
          "name": "stdout"
        }
      ]
    },
    {
      "cell_type": "code",
      "metadata": {
        "colab": {
          "base_uri": "https://localhost:8080/"
        },
        "id": "Gfu6KJLFHj7c",
        "outputId": "de673b42-df9f-4507-90cf-2c63f8014ae1"
      },
      "source": [
        "print(Xtrain.shape)\n",
        "print(Ytrain.shape)\n",
        "\n",
        "print(Xtest.shape)\n",
        "print(Ytest.shape)"
      ],
      "execution_count": 218,
      "outputs": [
        {
          "output_type": "stream",
          "text": [
            "(33500, 128)\n",
            "(33500, 2)\n",
            "(16500, 128)\n",
            "(16500, 2)\n"
          ],
          "name": "stdout"
        }
      ]
    },
    {
      "cell_type": "markdown",
      "metadata": {
        "id": "gN3ddPq49kbn"
      },
      "source": [
        "##4. Model Building "
      ]
    },
    {
      "cell_type": "markdown",
      "metadata": {
        "id": "TgMYNeDc99O2"
      },
      "source": [
        "##a.Sequential Model layers- Use AT LEAST 3 hidden layers with appropriate input for each. Choose the best number for hidden units and give reasons.\n",
        "\n"
      ]
    },
    {
      "cell_type": "code",
      "metadata": {
        "id": "z3clU7SCfu42"
      },
      "source": [
        "dnnModel = models.Sequential()"
      ],
      "execution_count": 219,
      "outputs": []
    },
    {
      "cell_type": "markdown",
      "metadata": {
        "id": "Uh4hy2I1X98b"
      },
      "source": [
        "**Activation Function: Relu is most useful for hidden layer as this helps in training the hdden layer quickly .**\n",
        "It does not activate all the neurons at the same time.\n",
        "This means that the neurons will only be deactivated if the output of the linear transformation is less than 0.\n",
        "\n",
        "We found that when we use Leaky Relu it helps in improving the Accuracy of the Training set as it does not make any negative neuron dead. it keep them small but alive.\n",
        "Softwmax is used for the final Output layer as that selects that neuron whose weight means probablity is heighest amongst all.\n",
        "\n",
        "\n",
        "\n"
      ]
    },
    {
      "cell_type": "code",
      "metadata": {
        "id": "f-brZAhVgHEA"
      },
      "source": [
        "# Layer 1 Hidden layer \n",
        "# adding Relu activation function as  # LeakyRelu\n",
        "#dnnModel.add(layers.Dense(40, activation='relu', input_shape= (128,)))\n",
        "dnnModel.add(layers.Dense(40, activation=keras.layers.LeakyReLU(alpha=0.03), input_shape= (128,)))"
      ],
      "execution_count": 220,
      "outputs": []
    },
    {
      "cell_type": "code",
      "metadata": {
        "id": "UpDaz4shgWDb"
      },
      "source": [
        "# Layer 2 = hidden layer  with Regularizers\n",
        "#dnnModel.add(layers.Dense(60, activation='relu', kernel_regularizer=regularizers.l2(0.01), activity_regularizer=regularizers.l2(0.01)) )\n",
        "dnnModel.add(layers.Dense(60, activation=keras.layers.LeakyReLU(alpha=0.02)))"
      ],
      "execution_count": 221,
      "outputs": []
    },
    {
      "cell_type": "markdown",
      "metadata": {
        "id": "2bZfiDguKvId"
      },
      "source": [
        "##d. Choose the appropriate activation function for all the layers."
      ]
    },
    {
      "cell_type": "code",
      "metadata": {
        "id": "hMy827TGgZlo"
      },
      "source": [
        "#Layer 3 Hidden Layer\n",
        "dnnModel.add(layers.Dense(30, activation=keras.layers.LeakyReLU(alpha=0.01)))"
      ],
      "execution_count": 222,
      "outputs": []
    },
    {
      "cell_type": "markdown",
      "metadata": {
        "id": "oQAKXvHyKk9U"
      },
      "source": [
        "##c. Add one layer of dropout at the appropriate position and give reasons."
      ]
    },
    {
      "cell_type": "markdown",
      "metadata": {
        "id": "iN4G_CNObhSl"
      },
      "source": [
        "**As this probem is Binary classification so Sigmoid Activation should be used as that give  output bw 0 and 1 .\n",
        "It is useful in the binary classfication problem**"
      ]
    },
    {
      "cell_type": "code",
      "metadata": {
        "id": "TSWuueG0gb-J"
      },
      "source": [
        "#Layer 4 Output Layer\n",
        "#dnnModel.add(layers.Dense(2, activation='softmax'))\n",
        "dnnModel.add(layers.Dense(2, activation='sigmoid'))"
      ],
      "execution_count": 223,
      "outputs": []
    },
    {
      "cell_type": "markdown",
      "metadata": {
        "id": "T-NlmoJHKrGi"
      },
      "source": [
        "##e. Print the model summary."
      ]
    },
    {
      "cell_type": "code",
      "metadata": {
        "colab": {
          "base_uri": "https://localhost:8080/"
        },
        "id": "krFiw8Zhgcnh",
        "outputId": "0ac91c1e-3002-4157-b241-d9faa0eb7b59"
      },
      "source": [
        "dnnModel.summary()"
      ],
      "execution_count": 224,
      "outputs": [
        {
          "output_type": "stream",
          "text": [
            "Model: \"sequential_18\"\n",
            "_________________________________________________________________\n",
            "Layer (type)                 Output Shape              Param #   \n",
            "=================================================================\n",
            "dense_92 (Dense)             (None, 40)                5160      \n",
            "_________________________________________________________________\n",
            "dense_93 (Dense)             (None, 60)                2460      \n",
            "_________________________________________________________________\n",
            "dense_94 (Dense)             (None, 30)                1830      \n",
            "_________________________________________________________________\n",
            "dense_95 (Dense)             (None, 2)                 62        \n",
            "=================================================================\n",
            "Total params: 9,512\n",
            "Trainable params: 9,512\n",
            "Non-trainable params: 0\n",
            "_________________________________________________________________\n"
          ],
          "name": "stdout"
        }
      ]
    },
    {
      "cell_type": "markdown",
      "metadata": {
        "id": "B9a8fWHAf4ey"
      },
      "source": [
        "**Optimization function**: Gradient Descent has disadvantage that it can stuck in Local Minima. \n",
        "Other Optimization functions learning rate is constant for all parameters and for each cycle. We found when we use **Adagrad** which changes the learning rate automatically internally for each cycle for optimum result gives better results in the accuracy and finding the better results.\n",
        "**Adagrad tends to benefit from higher initial learning rate values compared to other optimizers. To match the exact form in the original paper, use 1.0.**\n"
      ]
    },
    {
      "cell_type": "code",
      "metadata": {
        "colab": {
          "base_uri": "https://localhost:8080/"
        },
        "id": "S7Hy2giLgniq",
        "outputId": "a8ca7f16-1cb3-45fa-b17b-bcb7e2e850a9"
      },
      "source": [
        "# Configure  the model for training, by using appropriate optimizers and regularizations\n",
        "# Available optimizer: adam, rmsprop, adagrad, sgd\n",
        "# loss:  objective that the model will try to minimize. \n",
        "# Available loss: categorical_crossentropy, binary_crossentropy, mean_squared_error\n",
        "# metrics: List of metrics to be evaluated by the model during training and testing. \n",
        "\n",
        "opt = keras.optimizers.Adam(learning_rate=0.06)\n",
        "\n",
        "rms = tf.keras.optimizers.RMSprop(\n",
        "    learning_rate=0.06,\n",
        "    rho=0.9,\n",
        "    momentum=0.0,\n",
        "    epsilon=1e-07,\n",
        "    centered=False,\n",
        "    name=\"RMSprop\"\n",
        ")\n",
        "# Adagrad tends to benefit from higher initial learning rate values compared to other optimizers. To match the exact form in the original paper, use 1.0.\n",
        "adg = tf.keras.optimizers.Adagrad(\n",
        "    learning_rate=1.0,\n",
        "    initial_accumulator_value=0.1,\n",
        "    epsilon=1e-07,\n",
        "    name=\"Adagrad\", \n",
        ")\n",
        "\n",
        "dnnModel.compile( optimizer = adg, loss = 'binary_crossentropy', metrics=['accuracy'] )\n",
        "#dnnModel.compile( optimizer = 'adam', loss = 'binary_crossentropy', metrics=['accuracy'] )\n",
        "print(Xtrain.shape)\n",
        "print(Ytrain.shape)\n",
        "\n",
        "print(Xtrain[0])\n",
        "print(Ytrain[0])\n",
        "\n"
      ],
      "execution_count": 225,
      "outputs": [
        {
          "output_type": "stream",
          "text": [
            "(33500, 128)\n",
            "(33500, 2)\n",
            "tf.Tensor(\n",
            "[ 1.47242510e+00 -1.60027221e-01  1.47459224e-01  4.85372335e-01\n",
            "  9.34651494e-02 -2.93215156e-01  4.27043065e-02 -3.20206851e-01\n",
            " -2.11031377e-01 -5.66693693e-02  5.47432639e-02 -6.85985982e-01\n",
            " -2.83679128e-01 -5.21231234e-01 -1.89524174e-01 -3.57939526e-02\n",
            " -1.63974568e-01  1.46641387e-02 -1.72429025e-01  9.96929944e-01\n",
            "  1.14356034e-01  1.68717623e-01 -3.91296782e-02  1.86212704e-01\n",
            " -1.25741526e-01 -3.25104058e-01 -4.42002788e-02  1.25886230e-02\n",
            " -2.18402594e-02 -4.23970446e-02  1.60016567e-01  1.72809049e-01\n",
            "  3.28686357e-01 -5.12002893e-02  3.03797364e-01 -5.04753031e-02\n",
            " -3.31442505e-01 -4.63478148e-01 -1.65949285e-01  4.00649399e-01\n",
            " -1.10821307e-01  5.88939004e-02 -1.34986505e-01 -1.15372628e-01\n",
            "  2.43344948e-01  9.67528373e-02  8.97682384e-02 -3.76606554e-01\n",
            " -3.37005824e-01  9.92517918e-02 -3.45435031e-02  2.25428164e-01\n",
            " -1.27526522e-01  2.87392765e-01 -1.74793005e-01 -3.16415668e-01\n",
            " -1.43903434e-01 -7.64355063e-02  2.84669966e-01  6.62018284e-02\n",
            " -3.57499599e-01  2.90056199e-01  1.74480721e-01 -8.62062424e-02\n",
            " -1.42619818e-01  9.70088691e-02 -7.43612796e-02 -2.19667971e-01\n",
            "  3.86816472e-01  1.24044120e-01 -3.73896062e-01 -2.23864466e-02\n",
            "  1.14205629e-02  8.03102776e-02  2.57116467e-01  3.82217556e-01\n",
            " -3.00660193e-01 -4.87322837e-01 -2.66585857e-01  5.55894226e-02\n",
            "  9.75660458e-02 -1.11705050e-01 -1.69928372e-01  1.07009321e-01\n",
            "  3.00905183e-02 -3.72425616e-02 -1.09174110e-01  2.82359719e-01\n",
            "  8.76196802e-01  3.58409047e-01 -1.24051735e-01  5.86377382e-02\n",
            "  6.03928056e-04 -1.74729303e-01 -2.14157719e-02  1.26241922e-01\n",
            "  2.23910093e-01 -2.47138202e-01  3.08378100e-01  1.52112931e-01\n",
            "  2.23845303e-01 -1.00709856e-01  4.91933882e-01  1.30708620e-01\n",
            "  2.79738784e-01 -5.09668708e-01 -3.41640823e-02 -4.47872914e-02\n",
            " -3.91830981e-01  6.14267401e-02 -3.96775812e-01 -1.55321822e-01\n",
            " -4.51932520e-01 -3.17023158e-01 -1.60745606e-01 -4.34169054e-01\n",
            " -2.57560253e-01  3.55012804e-01 -6.49808869e-02  1.32666565e-02\n",
            "  1.94953263e-01 -1.52905121e-01  1.79769918e-01 -1.09092392e-01\n",
            "  7.30402842e-02 -1.63312986e-01 -1.50191829e-01  2.37441748e-01], shape=(128,), dtype=float32)\n",
            "[0. 1.]\n"
          ],
          "name": "stdout"
        }
      ]
    },
    {
      "cell_type": "code",
      "metadata": {
        "id": "62MOH4uyGChD"
      },
      "source": [
        "#es = EarlyStopping(monitor='val_loss', mode='min', verbose=1)"
      ],
      "execution_count": 226,
      "outputs": []
    },
    {
      "cell_type": "code",
      "metadata": {
        "colab": {
          "base_uri": "https://localhost:8080/"
        },
        "id": "PJ0TyuAggqDZ",
        "outputId": "cb2c5a51-7ccc-4f6b-b6b4-5e30c42284c0"
      },
      "source": [
        "start = time.time()\n",
        "h  = dnnModel.fit( Xtrain, Ytrain,validation_split=0.2, epochs=25, batch_size=64)\n",
        "print(\"Total time: \", time.time() - start, \"seconds\")\n",
        "# fit model\n",
        "#hes = dnnModel.fit(Xtrain, Ytrain, validation_split=0.2, epochs=25, verbose=0, callbacks=[es])"
      ],
      "execution_count": 227,
      "outputs": [
        {
          "output_type": "stream",
          "text": [
            "Epoch 1/25\n",
            "419/419 [==============================] - 2s 3ms/step - loss: 0.6980 - accuracy: 0.5176 - val_loss: 0.6952 - val_accuracy: 0.4999\n",
            "Epoch 2/25\n",
            "419/419 [==============================] - 1s 2ms/step - loss: 0.6932 - accuracy: 0.5020 - val_loss: 0.6836 - val_accuracy: 0.5660\n",
            "Epoch 3/25\n",
            "419/419 [==============================] - 1s 2ms/step - loss: 0.6598 - accuracy: 0.6069 - val_loss: 0.4856 - val_accuracy: 0.7879\n",
            "Epoch 4/25\n",
            "419/419 [==============================] - 1s 2ms/step - loss: 0.4978 - accuracy: 0.7622 - val_loss: 0.4504 - val_accuracy: 0.7875\n",
            "Epoch 5/25\n",
            "419/419 [==============================] - 1s 2ms/step - loss: 0.4646 - accuracy: 0.7827 - val_loss: 0.4421 - val_accuracy: 0.7904\n",
            "Epoch 6/25\n",
            "419/419 [==============================] - 1s 2ms/step - loss: 0.4477 - accuracy: 0.7910 - val_loss: 0.4415 - val_accuracy: 0.7896\n",
            "Epoch 7/25\n",
            "419/419 [==============================] - 1s 3ms/step - loss: 0.4539 - accuracy: 0.7900 - val_loss: 0.4433 - val_accuracy: 0.7928\n",
            "Epoch 8/25\n",
            "419/419 [==============================] - 1s 2ms/step - loss: 0.4420 - accuracy: 0.7952 - val_loss: 0.4415 - val_accuracy: 0.7861\n",
            "Epoch 9/25\n",
            "419/419 [==============================] - 1s 2ms/step - loss: 0.4375 - accuracy: 0.7952 - val_loss: 0.4352 - val_accuracy: 0.7921\n",
            "Epoch 10/25\n",
            "419/419 [==============================] - 1s 2ms/step - loss: 0.4378 - accuracy: 0.7948 - val_loss: 0.4389 - val_accuracy: 0.7901\n",
            "Epoch 11/25\n",
            "419/419 [==============================] - 1s 2ms/step - loss: 0.4386 - accuracy: 0.7923 - val_loss: 0.4373 - val_accuracy: 0.7940\n",
            "Epoch 12/25\n",
            "419/419 [==============================] - 1s 2ms/step - loss: 0.4430 - accuracy: 0.7941 - val_loss: 0.4384 - val_accuracy: 0.7922\n",
            "Epoch 13/25\n",
            "419/419 [==============================] - 1s 2ms/step - loss: 0.4408 - accuracy: 0.7919 - val_loss: 0.4447 - val_accuracy: 0.7939\n",
            "Epoch 14/25\n",
            "419/419 [==============================] - 1s 2ms/step - loss: 0.4388 - accuracy: 0.7944 - val_loss: 0.4443 - val_accuracy: 0.7815\n",
            "Epoch 15/25\n",
            "419/419 [==============================] - 1s 2ms/step - loss: 0.4423 - accuracy: 0.7906 - val_loss: 0.4364 - val_accuracy: 0.7931\n",
            "Epoch 16/25\n",
            "419/419 [==============================] - 1s 2ms/step - loss: 0.4330 - accuracy: 0.8004 - val_loss: 0.4346 - val_accuracy: 0.7922\n",
            "Epoch 17/25\n",
            "419/419 [==============================] - 1s 2ms/step - loss: 0.4300 - accuracy: 0.7979 - val_loss: 0.4333 - val_accuracy: 0.7936\n",
            "Epoch 18/25\n",
            "419/419 [==============================] - 1s 2ms/step - loss: 0.4359 - accuracy: 0.7949 - val_loss: 0.4326 - val_accuracy: 0.7948\n",
            "Epoch 19/25\n",
            "419/419 [==============================] - 1s 2ms/step - loss: 0.4296 - accuracy: 0.7986 - val_loss: 0.4315 - val_accuracy: 0.7964\n",
            "Epoch 20/25\n",
            "419/419 [==============================] - 1s 2ms/step - loss: 0.4275 - accuracy: 0.8001 - val_loss: 0.4407 - val_accuracy: 0.7913\n",
            "Epoch 21/25\n",
            "419/419 [==============================] - 1s 2ms/step - loss: 0.4244 - accuracy: 0.8020 - val_loss: 0.4367 - val_accuracy: 0.7951\n",
            "Epoch 22/25\n",
            "419/419 [==============================] - 1s 2ms/step - loss: 0.4263 - accuracy: 0.8038 - val_loss: 0.4430 - val_accuracy: 0.7934\n",
            "Epoch 23/25\n",
            "419/419 [==============================] - 1s 2ms/step - loss: 0.4283 - accuracy: 0.7985 - val_loss: 0.4414 - val_accuracy: 0.7954\n",
            "Epoch 24/25\n",
            "419/419 [==============================] - 1s 2ms/step - loss: 0.4233 - accuracy: 0.8027 - val_loss: 0.4374 - val_accuracy: 0.7954\n",
            "Epoch 25/25\n",
            "419/419 [==============================] - 1s 2ms/step - loss: 0.4211 - accuracy: 0.8037 - val_loss: 0.4549 - val_accuracy: 0.7993\n",
            "Total time:  26.328497648239136 seconds\n"
          ],
          "name": "stdout"
        }
      ]
    },
    {
      "cell_type": "markdown",
      "metadata": {
        "id": "7FucaeofaPLx"
      },
      "source": [
        "##Total Time In Training "
      ]
    },
    {
      "cell_type": "code",
      "metadata": {
        "colab": {
          "base_uri": "https://localhost:8080/"
        },
        "id": "ykI8ioOvaSSa",
        "outputId": "adbff480-7e93-43c8-f3d7-d7b6f7b6e2b4"
      },
      "source": [
        "print(\"Total time: \", time.time() - start, \"seconds\")"
      ],
      "execution_count": 228,
      "outputs": [
        {
          "output_type": "stream",
          "text": [
            "Total time:  26.335622549057007 seconds\n"
          ],
          "name": "stdout"
        }
      ]
    },
    {
      "cell_type": "code",
      "metadata": {
        "colab": {
          "base_uri": "https://localhost:8080/"
        },
        "id": "BNYZ2aZleKPN",
        "outputId": "e75d8b2e-f088-4a21-990f-4c0934cd0576"
      },
      "source": [
        "print('Final training loss \\t', h.history['loss'][-1])\n",
        "print('Final training accuracy ', h.history['accuracy'][-1])"
      ],
      "execution_count": 229,
      "outputs": [
        {
          "output_type": "stream",
          "text": [
            "Final training loss \t 0.4211912155151367\n",
            "Final training accuracy  0.8038805723190308\n"
          ],
          "name": "stdout"
        }
      ]
    },
    {
      "cell_type": "code",
      "metadata": {
        "colab": {
          "base_uri": "https://localhost:8080/",
          "height": 295
        },
        "id": "OycnytJneMwc",
        "outputId": "bca8504b-a9f2-48c5-8614-a45584c80c15"
      },
      "source": [
        "# plot the training  accuracy  \n",
        "import matplotlib.pyplot as plt\n",
        "\n",
        "plt.plot(h.history['accuracy'], label='train')\n",
        "plt.plot(h.history['val_accuracy'], label='validation')\n",
        "plt.xlabel('Epochs')\n",
        "plt.ylabel('Loss')\n",
        "plt.title('Plot of Accuracy')\n",
        "plt.legend()\n",
        "plt.show()"
      ],
      "execution_count": 230,
      "outputs": [
        {
          "output_type": "display_data",
          "data": {
            "image/png": "[encoded data removed]",
            "text/plain": [
              "<Figure size 432x288 with 1 Axes>"
            ]
          },
          "metadata": {
            "tags": [],
            "needs_background": "light"
          }
        }
      ]
    },
    {
      "cell_type": "code",
      "metadata": {
        "colab": {
          "base_uri": "https://localhost:8080/",
          "height": 295
        },
        "id": "uaOwPQcVjVLX",
        "outputId": "5d62c0e2-fbf3-43f6-dc76-0a5ea345c427"
      },
      "source": [
        "# plot the traininig loss \n",
        "\n",
        "\n",
        "plt.plot(h.history['loss'], label='train')\n",
        "plt.plot(h.history['val_loss'], label='validation')\n",
        "plt.xlabel('Epochs')\n",
        "plt.ylabel('Loss')\n",
        "plt.title('Plot of Loss')\n",
        "plt.legend()\n",
        "plt.show()"
      ],
      "execution_count": 231,
      "outputs": [
        {
          "output_type": "display_data",
          "data": {
            "image/png": "[encoded data removed]",
            "text/plain": [
              "<Figure size 432x288 with 1 Axes>"
            ]
          },
          "metadata": {
            "tags": [],
            "needs_background": "light"
          }
        }
      ]
    },
    {
      "cell_type": "code",
      "metadata": {
        "colab": {
          "base_uri": "https://localhost:8080/"
        },
        "id": "RdJUN_WY_fW0",
        "outputId": "7dc2e120-f249-49f0-9d22-0d2924beaa7e"
      },
      "source": [
        "# testing the model\n",
        "\n",
        "testLoss, testAccuracy = dnnModel.evaluate( Xtest, Ytest)\n",
        "print('Testing loss \\t', testLoss)\n",
        "print('Testing accuracy ', testAccuracy)"
      ],
      "execution_count": 232,
      "outputs": [
        {
          "output_type": "stream",
          "text": [
            "516/516 [==============================] - 1s 2ms/step - loss: 0.4622 - accuracy: 0.7940\n",
            "Testing loss \t 0.4621540606021881\n",
            "Testing accuracy  0.7940000295639038\n"
          ],
          "name": "stdout"
        }
      ]
    },
    {
      "cell_type": "code",
      "metadata": {
        "colab": {
          "base_uri": "https://localhost:8080/"
        },
        "id": "XaFUtQKJn05a",
        "outputId": "3e5bf3bc-c38d-4ebe-8c89-0de4d2341bc7"
      },
      "source": [
        "from sklearn.metrics import precision_score\n",
        "from sklearn.metrics import recall_score\n",
        "from sklearn.metrics import f1_score\n",
        "from sklearn.metrics import cohen_kappa_score\n",
        "from sklearn.metrics import roc_auc_score\n",
        "from sklearn.metrics import confusion_matrix\n",
        "from sklearn.metrics import accuracy_score\n",
        "\n",
        "\n",
        "#Ypred\n",
        "yhat_probs  = dnnModel.predict(Xtest,verbose=1)\n",
        "yhat_classes  = dnnModel.predict_classes(Xtest,verbose=1)\n",
        "from sklearn.datasets import make_circles"
      ],
      "execution_count": 233,
      "outputs": [
        {
          "output_type": "stream",
          "text": [
            "516/516 [==============================] - 1s 988us/step\n",
            "158/516 [========>.....................] - ETA: 0s"
          ],
          "name": "stdout"
        },
        {
          "output_type": "stream",
          "text": [
            "/usr/local/lib/python3.7/dist-packages/tensorflow/python/keras/engine/sequential.py:450: UserWarning: `model.predict_classes()` is deprecated and will be removed after 2021-01-01. Please use instead:* `np.argmax(model.predict(x), axis=-1)`,   if your model does multi-class classification   (e.g. if it uses a `softmax` last-layer activation).* `(model.predict(x) > 0.5).astype(\"int32\")`,   if your model does binary classification   (e.g. if it uses a `sigmoid` last-layer activation).\n",
            "  warnings.warn('`model.predict_classes()` is deprecated and '\n"
          ],
          "name": "stderr"
        },
        {
          "output_type": "stream",
          "text": [
            "516/516 [==============================] - 1s 959us/step\n"
          ],
          "name": "stdout"
        }
      ]
    },
    {
      "cell_type": "code",
      "metadata": {
        "colab": {
          "base_uri": "https://localhost:8080/"
        },
        "id": "aLuDLy04vA3t",
        "outputId": "930b6f8b-b3ba-4b11-c0b4-c9d8272e325b"
      },
      "source": [
        "# reduce to 1d array\n",
        "print(yhat_probs.shape)\n",
        "print(yhat_probs[:5])\n",
        "print(yhat_classes.shape)\n",
        "print(yhat_classes[:5])\n",
        "#yhat_probs = yhat_probs[:, 0]\n",
        "#yhat_classes = yhat_classes[:, 0]"
      ],
      "execution_count": 234,
      "outputs": [
        {
          "output_type": "stream",
          "text": [
            "(16500, 2)\n",
            "[[0.5656362  0.4341456 ]\n",
            " [0.88845086 0.11144111]\n",
            " [0.14200711 0.8580116 ]\n",
            " [0.28227288 0.717427  ]\n",
            " [0.20949213 0.79049426]]\n",
            "(16500,)\n",
            "[0 0 1 1 1]\n"
          ],
          "name": "stdout"
        }
      ]
    },
    {
      "cell_type": "code",
      "metadata": {
        "colab": {
          "base_uri": "https://localhost:8080/"
        },
        "id": "GpeHRnlt3uZY",
        "outputId": "2cbfe6b8-49bb-405d-b136-fcd2baaa13cb"
      },
      "source": [
        "print(Ytest.shape)\n",
        "#print(Ytest[16499])\n",
        "\n",
        "print(y_test.shape)\n",
        "#print(y_test[:10])\n"
      ],
      "execution_count": 235,
      "outputs": [
        {
          "output_type": "stream",
          "text": [
            "(16500, 2)\n",
            "(16500,)\n"
          ],
          "name": "stdout"
        }
      ]
    },
    {
      "cell_type": "markdown",
      "metadata": {
        "id": "hE0dLHW1Frnl"
      },
      "source": [
        "#Metrics : Accuracy, F1 Score"
      ]
    },
    {
      "cell_type": "code",
      "metadata": {
        "colab": {
          "base_uri": "https://localhost:8080/"
        },
        "id": "ggto9t05vzr9",
        "outputId": "206cf4cc-18a3-4e0c-ce43-9a84edf05f0b"
      },
      "source": [
        "# accuracy: (tp + tn) / (p + n)\n",
        "accuracy = accuracy_score(y_test,yhat_classes)\n",
        "print('Accuracy: %f' % accuracy)\n",
        "\n",
        "# precision tp / (tp + fp)\n",
        "precision = precision_score(y_test, yhat_classes)\n",
        "print('Precision: %f' % precision)\n",
        "# recall: tp / (tp + fn)\n",
        "recall = recall_score(y_test, yhat_classes)\n",
        "print('Recall: %f' % recall)\n",
        "# f1: 2 tp / (2 tp + fp + fn)\n",
        "f1 = f1_score(y_test, yhat_classes)\n",
        "print('F1 score: %f' % f1)\n",
        "\n"
      ],
      "execution_count": 236,
      "outputs": [
        {
          "output_type": "stream",
          "text": [
            "Accuracy: 0.794000\n",
            "Precision: 0.771396\n",
            "Recall: 0.833435\n",
            "F1 score: 0.801216\n"
          ],
          "name": "stdout"
        }
      ]
    },
    {
      "cell_type": "markdown",
      "metadata": {
        "id": "64LO6KUdEqQ_"
      },
      "source": [
        "##Confusion Matrix:\n",
        "![image.png](data:image/png;base64,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)"
      ]
    },
    {
      "cell_type": "code",
      "metadata": {
        "colab": {
          "base_uri": "https://localhost:8080/"
        },
        "id": "7ZGuuFrBDxnm",
        "outputId": "91eec6ca-3c37-430c-a381-fae1d0af7f31"
      },
      "source": [
        "print(y_test.shape)\n",
        "# kappa\n",
        "kappa = cohen_kappa_score(y_test, yhat_classes)\n",
        "print('Cohens kappa: %f' % kappa)\n",
        "# ROC AUC\n",
        "#auc = roc_auc_score(y_test, yhat_probs)\n",
        "#print('ROC AUC: %f' % auc)\n",
        "# confusion matrix\n",
        "print(\"Confusion Matrix\")\n",
        "matrix = confusion_matrix(y_test, yhat_classes)\n",
        "print(matrix)"
      ],
      "execution_count": 237,
      "outputs": [
        {
          "output_type": "stream",
          "text": [
            "(16500,)\n",
            "Cohens kappa: 0.588118\n",
            "Confusion Matrix\n",
            "[[6251 2030]\n",
            " [1369 6850]]\n"
          ],
          "name": "stdout"
        }
      ]
    },
    {
      "cell_type": "markdown",
      "metadata": {
        "id": "37CEqS4KK2OV"
      },
      "source": [
        "#Classifier Analysis :\n",
        "We can see that Precision value is 80% means Out of all Positive cases reported 80% are TP .\n",
        "\n",
        "Recall : 79% means out of all Positive reviewes we are able to Detect 79% cases.\n",
        "\n",
        "For Movie recommender system Presision is more important as if User will get Bad movie review as positive then again he will not use our Recommender system.\n",
        "So we can say that Our Classification Model is good classifier for th eall Positive review.\n"
      ]
    },
    {
      "cell_type": "code",
      "metadata": {
        "colab": {
          "base_uri": "https://localhost:8080/"
        },
        "id": "vUfk0SZLQvUA",
        "outputId": "11dde1b7-6d2b-4f9e-9acb-b594448f8de1"
      },
      "source": [
        "print(Xtest.shape)\n",
        "print(y_test.shape)\n",
        "print(yhat_probs.shape)"
      ],
      "execution_count": 238,
      "outputs": [
        {
          "output_type": "stream",
          "text": [
            "(16500, 128)\n",
            "(16500,)\n",
            "(16500, 2)\n"
          ],
          "name": "stdout"
        }
      ]
    },
    {
      "cell_type": "code",
      "metadata": {
        "colab": {
          "base_uri": "https://localhost:8080/"
        },
        "id": "3o_mSWfJNAsz",
        "outputId": "36f499bc-93f4-4b4b-ea29-720fe586ee88"
      },
      "source": [
        "#svm.predict([item])\n",
        "y_test1 = y_test.to_numpy()\n",
        "#yhat_probs = yhat_probs.to_numpy()\n",
        "count =0\n",
        "for item in range(0,16499):\n",
        "    if count >=2:\n",
        "      break\n",
        "\n",
        "    if y_test1[item] != yhat_probs[item][1]:\n",
        "      print(\"Misclassified Review are : ===========\")      \n",
        "      print(oXtest.to_numpy()[item])\n",
        "      count = count + 1\n",
        "    "
      ],
      "execution_count": 239,
      "outputs": [
        {
          "output_type": "stream",
          "text": [
            "Misclassified Review are : ===========\n",
            "John Cassavetes is on the run from the law. He is at the bottom of the heap. He sees Negro Sidney Poitier as his equal and they quickly become friends, forming a sort of alliance against a bully of a foreman played by Jack Warden.<br /><br />As someone who has worked in a warehouse myself when I was younger, I can tell you that the warehouse fights, complete with tumbling packing cases and flailing grappling hooks are as realistic as it gets. I've been in fights like these myself, although no one got killed.<br /><br />The introduction of Sidney Poitier's widow is a variation on Shakespeare's Shylock \"Do I not bleed?\" This is an anti racist film, which, at the time, was much needed.<br /><br />All the three principle characters - Warden, Cassavetes and Poitier - are superb, with Warden the most outstanding of the three.\n",
            "Misclassified Review are : ===========\n",
            "It's not just that the movie is lame. It's more than that. This movie is just unnecessary. Do we need another Western? How about a western with afro-Americans in the titles roles? Sound stupid, implausible and a lame attempt at modernizing the genre? It is. Incredibly lame and simple minded. It's like that lame Baz Luhrman film \"Romeo and Juliet\" where he set it in modern times to attract young folks and create some hype with his revamping of a classic tale. Well, Baz Luhrman failed miserably and so does this mess. The story is actually not bad however the whole idea of removing the racism out of a racist genre by casting an all afro-American cast is racist in itself. It's also puerile and simple minded (like Baz Luhrman-man he's a bad director). Hey (I hear you say) this was directed by Mario Van Peebles! He's also IN the film! How can it be racist? It's not. I said the idea of casting all afro-Americans instead of Caucasians was. The film isn't racist, it's just pointless, stupid and very very boring.\n"
          ],
          "name": "stdout"
        }
      ]
    },
    {
      "cell_type": "markdown",
      "metadata": {
        "id": "SBsWVQJOeXdX"
      },
      "source": [
        "##As per the above graph we can see that Accuracy is very good for training Data but for validation data it is not good. Our Model is overfitting. For that We will apply the L2 and L1 Regularization techniques ##\n",
        "\n"
      ]
    },
    {
      "cell_type": "markdown",
      "metadata": {
        "id": "kzIVrIhtBD3D"
      },
      "source": [
        "##L2 Regularisation "
      ]
    },
    {
      "cell_type": "code",
      "metadata": {
        "colab": {
          "base_uri": "https://localhost:8080/"
        },
        "id": "IVlneOVKmiee",
        "outputId": "5f36a11c-cd0c-49fe-9105-a14505f5932e"
      },
      "source": [
        "dnnModel = models.Sequential()\n",
        "# Layer 1 Hidden layer \n",
        "dnnModel.add(layers.Dense(40, activation=keras.layers.LeakyReLU(alpha=0.05), input_shape= (128,)))\n",
        "#Layer 2 Hidden Layer\n",
        "dnnModel.add(layers.Dense(60, activation=keras.layers.LeakyReLU(alpha=0.03), kernel_regularizer=regularizers.l2(0.020), activity_regularizer=regularizers.l2(0.02)) )\n",
        "\n",
        "#Layer 3 Hidden Layer\n",
        "dnnModel.add(layers.Dense(30, activation=keras.layers.LeakyReLU(alpha=0.02), kernel_regularizer=regularizers.l2(0.020), activity_regularizer=regularizers.l2(0.02))) \n",
        "\n",
        "#Layer 4 Hidden Layer\n",
        "# Add dropout of 20% to layer 4 as we can see that there ios overfitting in the above training accuracy to test accuracy\n",
        "dnnModel.add(layers.Dropout(0.2))\n",
        "\n",
        "dnnModel.add(layers.Dense(2, activation='sigmoid'))\n",
        "#dnnModel.add(layers.Dense(2, activation='softmax'))\n",
        "dnnModel.summary()\n",
        "\n",
        "# Available optimizer: adam, rmsprop, adagrad, sgd\n",
        "# loss:  objective that the model will try to minimize. \n",
        "# Available loss: categorical_crossentropy, binary_crossentropy, mean_squared_error\n",
        "\n",
        "opt = keras.optimizers.Adam(learning_rate=0.06)\n",
        "\n",
        "rms = tf.keras.optimizers.RMSprop(\n",
        "    learning_rate=0.09,\n",
        "    rho=0.9,\n",
        "    momentum=0.0,\n",
        "    epsilon=1e-07,\n",
        "    centered=False,\n",
        "    name=\"RMSprop\"\n",
        ")\n",
        "\n",
        "adg = tf.keras.optimizers.Adagrad(\n",
        "    learning_rate=1.0,\n",
        "    initial_accumulator_value=0.1,\n",
        "    epsilon=1e-07,\n",
        "    name=\"Adagrad\", \n",
        ")\n",
        "\n",
        "dnnModel.compile( optimizer = opt, loss = 'binary_crossentropy', metrics=['accuracy'] )\n",
        "\n",
        "es = EarlyStopping(monitor='val_loss', mode='min', verbose=1)\n",
        "start = time.time()\n",
        "\n",
        "hes = dnnModel.fit(Xtrain, Ytrain, validation_split=0.2, epochs=25, verbose=1, callbacks=[es])\n",
        "print(\"Total time: \", time.time() - start, \"seconds\")\n",
        "\n"
      ],
      "execution_count": 240,
      "outputs": [
        {
          "output_type": "stream",
          "text": [
            "Model: \"sequential_19\"\n",
            "_________________________________________________________________\n",
            "Layer (type)                 Output Shape              Param #   \n",
            "=================================================================\n",
            "dense_96 (Dense)             (None, 40)                5160      \n",
            "_________________________________________________________________\n",
            "dense_97 (Dense)             (None, 60)                2460      \n",
            "_________________________________________________________________\n",
            "dense_98 (Dense)             (None, 30)                1830      \n",
            "_________________________________________________________________\n",
            "dropout_24 (Dropout)         (None, 30)                0         \n",
            "_________________________________________________________________\n",
            "dense_99 (Dense)             (None, 2)                 62        \n",
            "=================================================================\n",
            "Total params: 9,512\n",
            "Trainable params: 9,512\n",
            "Non-trainable params: 0\n",
            "_________________________________________________________________\n",
            "Epoch 1/25\n",
            "838/838 [==============================] - 3s 3ms/step - loss: 0.7400 - accuracy: 0.4966 - val_loss: 0.6938 - val_accuracy: 0.5001\n",
            "Epoch 2/25\n",
            "838/838 [==============================] - 3s 3ms/step - loss: 0.6947 - accuracy: 0.4968 - val_loss: 0.6947 - val_accuracy: 0.4999\n",
            "Epoch 00002: early stopping\n",
            "Total time:  5.934737920761108 seconds\n"
          ],
          "name": "stdout"
        }
      ]
    },
    {
      "cell_type": "code",
      "metadata": {
        "id": "H_jbh2CvG46u",
        "colab": {
          "base_uri": "https://localhost:8080/",
          "height": 295
        },
        "outputId": "9b8eae81-a347-40bb-e201-2cd40f483709"
      },
      "source": [
        "# plot the training loss\n",
        "\n",
        "plt.plot(hes.history['loss'], label='Train loss')\n",
        "plt.plot(hes.history['val_loss'], label='Val loss') \n",
        "plt.xlabel('Epochs')\n",
        "plt.ylabel('Loss')\n",
        "plt.title('Plot of Training Loss -- Early Stopping')\n",
        "plt.legend()\n",
        "plt.show()"
      ],
      "execution_count": 241,
      "outputs": [
        {
          "output_type": "display_data",
          "data": {
            "image/png": "[encoded data removed]",
            "text/plain": [
              "<Figure size 432x288 with 1 Axes>"
            ]
          },
          "metadata": {
            "tags": [],
            "needs_background": "light"
          }
        }
      ]
    },
    {
      "cell_type": "code",
      "metadata": {
        "id": "AMdsey9OHDCj",
        "colab": {
          "base_uri": "https://localhost:8080/",
          "height": 295
        },
        "outputId": "df492196-ce86-4e1c-def8-2bf5e2d1fcd5"
      },
      "source": [
        "# plot the training accuracy\n",
        "\n",
        "plt.plot(hes.history['accuracy'], label='Train Acc')\n",
        "plt.plot(hes.history['val_accuracy'], label='Val Acc')\n",
        "plt.xlabel('Epochs')\n",
        "plt.ylabel('Loss')\n",
        "plt.title('Plot of Training Accuracy With L2 Regularization')\n",
        "plt.legend()\n",
        "plt.show()"
      ],
      "execution_count": 242,
      "outputs": [
        {
          "output_type": "display_data",
          "data": {
            "image/png": "[encoded data removed]",
            "text/plain": [
              "<Figure size 432x288 with 1 Axes>"
            ]
          },
          "metadata": {
            "tags": [],
            "needs_background": "light"
          }
        }
      ]
    },
    {
      "cell_type": "code",
      "metadata": {
        "id": "gm4HldTr_Q5x",
        "colab": {
          "base_uri": "https://localhost:8080/"
        },
        "outputId": "4a90e878-7bba-4d87-ccf7-49832e8d3f29"
      },
      "source": [
        "# testing the model\n",
        "testLoss, testAccuracy = dnnModel.evaluate( Xtest, Ytest)\n"
      ],
      "execution_count": 243,
      "outputs": [
        {
          "output_type": "stream",
          "text": [
            "516/516 [==============================] - 1s 2ms/step - loss: 0.6948 - accuracy: 0.4981\n"
          ],
          "name": "stdout"
        }
      ]
    },
    {
      "cell_type": "code",
      "metadata": {
        "id": "8Xr68j-F_nJj",
        "colab": {
          "base_uri": "https://localhost:8080/"
        },
        "outputId": "865d8b25-75aa-4379-db10-cc8a97e0de26"
      },
      "source": [
        "print('Testing loss \\t', testLoss)\n",
        "print('Testing accuracy ', testAccuracy)"
      ],
      "execution_count": 244,
      "outputs": [
        {
          "output_type": "stream",
          "text": [
            "Testing loss \t 0.6948473453521729\n",
            "Testing accuracy  0.4981212019920349\n"
          ],
          "name": "stdout"
        }
      ]
    },
    {
      "cell_type": "markdown",
      "metadata": {
        "id": "Ol_CXiALzvED"
      },
      "source": [
        "Testing the Model"
      ]
    },
    {
      "cell_type": "markdown",
      "metadata": {
        "id": "iiHZE6josTTA"
      },
      "source": [
        "## L1 Regularization "
      ]
    },
    {
      "cell_type": "code",
      "metadata": {
        "id": "LZDkfKjEsSWT",
        "colab": {
          "base_uri": "https://localhost:8080/"
        },
        "outputId": "3ffe0c15-d57f-4811-afcf-5135dc768749"
      },
      "source": [
        "dnnModel = models.Sequential()\n",
        "# Layer 1 Hidden layer \n",
        "dnnModel.add(layers.Dense(40, activation=keras.layers.LeakyReLU(alpha=0.01), input_shape= (128,)))\n",
        "#Layer 2 Hidden Layer\n",
        "dnnModel.add(layers.Dense(60, activation=keras.layers.LeakyReLU(alpha=0.01), kernel_regularizer=regularizers.l1(0.10), activity_regularizer=regularizers.l1(0.05)) )\n",
        "\n",
        "#Layer 3 Hidden Layer\n",
        "dnnModel.add(layers.Dense(30, activation=keras.layers.LeakyReLU(alpha=0.01), kernel_regularizer=regularizers.l1(0.10), activity_regularizer=regularizers.l1(0.05)) )\n",
        "#Layer 4 Hidden Layer\n",
        "\n",
        "# Add dropout of 20% to layer 4 as we can see that there ios overfitting in the above training accuracy to test accuracy\n",
        "dnnModel.add(layers.Dropout(0.2))\n",
        "\n",
        "\n",
        "#Layer 4 Hidden Layer\n",
        "#dnnModel.add(layers.Dense(2, activation='softmax'))\n",
        "dnnModel.add(layers.Dense(2, activation='sigmoid'))\n",
        "dnnModel.summary()\n",
        "\n",
        "# Available optimizer: adam, rmsprop, adagrad, sgd\n",
        "# loss:  objective that the model will try to minimize. \n",
        "# Available loss: categorical_crossentropy, binary_crossentropy, mean_squared_error\n",
        "\n",
        "opt = keras.optimizers.Adam(learning_rate=0.06)\n",
        "\n",
        "rms = tf.keras.optimizers.RMSprop(\n",
        "    learning_rate=0.001,\n",
        "    rho=0.9,\n",
        "    momentum=0.0,\n",
        "    epsilon=1e-07,\n",
        "    centered=False,\n",
        "    name=\"RMSprop\"\n",
        ")\n",
        "\n",
        "adg = tf.keras.optimizers.Adagrad(\n",
        "    learning_rate=1.0,\n",
        "    initial_accumulator_value=0.1,\n",
        "    epsilon=1e-07,\n",
        "    name=\"Adagrad\", \n",
        ")\n",
        "\n",
        "dnnModel.compile( optimizer = adg, loss = 'binary_crossentropy', metrics=['accuracy'] )\n",
        "es = EarlyStopping(monitor='val_loss', mode='min', verbose=1)\n",
        "start = time.time()\n",
        "hes = dnnModel.fit(Xtrain, Ytrain, validation_split=0.2, epochs=25, verbose=1, callbacks=[es])\n",
        "print(\"Total time: \", time.time() - start, \"seconds\")"
      ],
      "execution_count": 245,
      "outputs": [
        {
          "output_type": "stream",
          "text": [
            "Model: \"sequential_20\"\n",
            "_________________________________________________________________\n",
            "Layer (type)                 Output Shape              Param #   \n",
            "=================================================================\n",
            "dense_100 (Dense)            (None, 40)                5160      \n",
            "_________________________________________________________________\n",
            "dense_101 (Dense)            (None, 60)                2460      \n",
            "_________________________________________________________________\n",
            "dense_102 (Dense)            (None, 30)                1830      \n",
            "_________________________________________________________________\n",
            "dropout_25 (Dropout)         (None, 30)                0         \n",
            "_________________________________________________________________\n",
            "dense_103 (Dense)            (None, 2)                 62        \n",
            "=================================================================\n",
            "Total params: 9,512\n",
            "Trainable params: 9,512\n",
            "Non-trainable params: 0\n",
            "_________________________________________________________________\n",
            "Epoch 1/25\n",
            "WARNING:tensorflow:9 out of the last 11 calls to <function recreate_function.<locals>.restored_function_body at 0x7f3f40607050> triggered tf.function retracing. Tracing is expensive and the excessive number of tracings could be due to (1) creating @tf.function repeatedly in a loop, (2) passing tensors with different shapes, (3) passing Python objects instead of tensors. For (1), please define your @tf.function outside of the loop. For (2), @tf.function has experimental_relax_shapes=True option that relaxes argument shapes that can avoid unnecessary retracing. For (3), please refer to https://www.tensorflow.org/guide/function#controlling_retracing and https://www.tensorflow.org/api_docs/python/tf/function for  more details.\n"
          ],
          "name": "stdout"
        },
        {
          "output_type": "stream",
          "text": [
            "WARNING:tensorflow:9 out of the last 11 calls to <function recreate_function.<locals>.restored_function_body at 0x7f3f40607050> triggered tf.function retracing. Tracing is expensive and the excessive number of tracings could be due to (1) creating @tf.function repeatedly in a loop, (2) passing tensors with different shapes, (3) passing Python objects instead of tensors. For (1), please define your @tf.function outside of the loop. For (2), @tf.function has experimental_relax_shapes=True option that relaxes argument shapes that can avoid unnecessary retracing. For (3), please refer to https://www.tensorflow.org/guide/function#controlling_retracing and https://www.tensorflow.org/api_docs/python/tf/function for  more details.\n"
          ],
          "name": "stderr"
        },
        {
          "output_type": "stream",
          "text": [
            "838/838 [==============================] - 3s 3ms/step - loss: 21.4932 - accuracy: 0.4954 - val_loss: 6.5331 - val_accuracy: 0.4999\n",
            "Epoch 2/25\n",
            "838/838 [==============================] - 2s 3ms/step - loss: 7.2151 - accuracy: 0.5007 - val_loss: 4.8836 - val_accuracy: 0.5001\n",
            "Epoch 3/25\n",
            "838/838 [==============================] - 2s 3ms/step - loss: 5.5314 - accuracy: 0.4968 - val_loss: 4.1867 - val_accuracy: 0.4999\n",
            "Epoch 4/25\n",
            "838/838 [==============================] - 2s 3ms/step - loss: 4.7151 - accuracy: 0.5086 - val_loss: 3.7713 - val_accuracy: 0.4999\n",
            "Epoch 5/25\n",
            "838/838 [==============================] - 3s 3ms/step - loss: 4.2100 - accuracy: 0.4997 - val_loss: 3.5845 - val_accuracy: 0.4999\n",
            "Epoch 6/25\n",
            "838/838 [==============================] - 2s 3ms/step - loss: 3.8581 - accuracy: 0.4980 - val_loss: 3.4113 - val_accuracy: 0.4999\n",
            "Epoch 7/25\n",
            "838/838 [==============================] - 2s 3ms/step - loss: 3.5944 - accuracy: 0.4984 - val_loss: 3.2472 - val_accuracy: 0.4999\n",
            "Epoch 8/25\n",
            "838/838 [==============================] - 2s 3ms/step - loss: 3.3872 - accuracy: 0.4973 - val_loss: 3.1375 - val_accuracy: 0.4999\n",
            "Epoch 9/25\n",
            "838/838 [==============================] - 3s 3ms/step - loss: 3.2189 - accuracy: 0.5004 - val_loss: 3.0109 - val_accuracy: 0.4999\n",
            "Epoch 10/25\n",
            "838/838 [==============================] - 2s 3ms/step - loss: 3.0785 - accuracy: 0.5029 - val_loss: 2.8930 - val_accuracy: 0.4999\n",
            "Epoch 11/25\n",
            "838/838 [==============================] - 2s 3ms/step - loss: 2.9592 - accuracy: 0.5018 - val_loss: 2.7790 - val_accuracy: 0.4999\n",
            "Epoch 12/25\n",
            "838/838 [==============================] - 2s 3ms/step - loss: 2.8562 - accuracy: 0.4987 - val_loss: 2.7154 - val_accuracy: 0.4999\n",
            "Epoch 13/25\n",
            "838/838 [==============================] - 2s 3ms/step - loss: 2.7659 - accuracy: 0.5062 - val_loss: 2.6471 - val_accuracy: 0.5001\n",
            "Epoch 14/25\n",
            "838/838 [==============================] - 2s 3ms/step - loss: 2.6863 - accuracy: 0.5031 - val_loss: 2.6278 - val_accuracy: 0.4999\n",
            "Epoch 15/25\n",
            "838/838 [==============================] - 3s 3ms/step - loss: 2.6154 - accuracy: 0.4987 - val_loss: 2.5154 - val_accuracy: 0.4999\n",
            "Epoch 16/25\n",
            "838/838 [==============================] - 2s 3ms/step - loss: 2.5513 - accuracy: 0.4929 - val_loss: 2.4839 - val_accuracy: 0.5001\n",
            "Epoch 17/25\n",
            "838/838 [==============================] - 3s 3ms/step - loss: 2.4933 - accuracy: 0.5013 - val_loss: 2.4061 - val_accuracy: 0.4999\n",
            "Epoch 18/25\n",
            "838/838 [==============================] - 2s 3ms/step - loss: 2.4402 - accuracy: 0.5025 - val_loss: 2.3308 - val_accuracy: 0.5001\n",
            "Epoch 19/25\n",
            "838/838 [==============================] - 2s 3ms/step - loss: 2.3914 - accuracy: 0.5071 - val_loss: 2.2986 - val_accuracy: 0.4999\n",
            "Epoch 20/25\n",
            "838/838 [==============================] - 2s 3ms/step - loss: 2.3472 - accuracy: 0.4925 - val_loss: 2.2409 - val_accuracy: 0.5001\n",
            "Epoch 21/25\n",
            "838/838 [==============================] - 2s 3ms/step - loss: 2.3060 - accuracy: 0.4943 - val_loss: 2.2249 - val_accuracy: 0.4999\n",
            "Epoch 22/25\n",
            "838/838 [==============================] - 3s 3ms/step - loss: 2.2676 - accuracy: 0.5039 - val_loss: 2.1908 - val_accuracy: 0.4999\n",
            "Epoch 23/25\n",
            "838/838 [==============================] - 2s 3ms/step - loss: 2.2319 - accuracy: 0.4999 - val_loss: 2.1592 - val_accuracy: 0.4999\n",
            "Epoch 24/25\n",
            "838/838 [==============================] - 2s 3ms/step - loss: 2.1984 - accuracy: 0.5007 - val_loss: 2.1244 - val_accuracy: 0.4999\n",
            "Epoch 25/25\n",
            "838/838 [==============================] - 2s 3ms/step - loss: 2.1671 - accuracy: 0.5032 - val_loss: 2.1016 - val_accuracy: 0.5001\n",
            "Total time:  63.14727544784546 seconds\n"
          ],
          "name": "stdout"
        }
      ]
    },
    {
      "cell_type": "code",
      "metadata": {
        "id": "gjV4hM5U6P6B",
        "colab": {
          "base_uri": "https://localhost:8080/",
          "height": 295
        },
        "outputId": "6af36d94-5459-4d57-a410-49c17d6a3973"
      },
      "source": [
        "# plot the training loss\n",
        "\n",
        "plt.plot(hes.history['loss'], label='Train loss')\n",
        "plt.plot(hes.history['val_loss'], label='Val loss') \n",
        "plt.xlabel('Epochs')\n",
        "plt.ylabel('Loss')\n",
        "plt.title('Plot of Training Loss --  L1 Regularisation with Early Stopping ')\n",
        "plt.legend()\n",
        "plt.show()"
      ],
      "execution_count": 246,
      "outputs": [
        {
          "output_type": "display_data",
          "data": {
            "image/png": "[encoded data removed]",
            "text/plain": [
              "<Figure size 432x288 with 1 Axes>"
            ]
          },
          "metadata": {
            "tags": [],
            "needs_background": "light"
          }
        }
      ]
    },
    {
      "cell_type": "code",
      "metadata": {
        "id": "3in2JrnJ6U7r",
        "colab": {
          "base_uri": "https://localhost:8080/",
          "height": 295
        },
        "outputId": "d940d130-f583-4e8c-a10a-74b3cd930028"
      },
      "source": [
        "# plot the training accuracy\n",
        "\n",
        "plt.plot(hes.history['accuracy'], label='Train Acc')\n",
        "plt.plot(hes.history['val_accuracy'], label='Val Acc')\n",
        "plt.xlabel('Epochs')\n",
        "plt.ylabel('Loss')\n",
        "plt.title('Plot of Training Accuracy L1 Regularisation with Early Stopping ')\n",
        "plt.legend()\n",
        "plt.show()"
      ],
      "execution_count": 247,
      "outputs": [
        {
          "output_type": "display_data",
          "data": {
            "image/png": "[encoded data removed]",
            "text/plain": [
              "<Figure size 432x288 with 1 Axes>"
            ]
          },
          "metadata": {
            "tags": [],
            "needs_background": "light"
          }
        }
      ]
    },
    {
      "cell_type": "code",
      "metadata": {
        "id": "J2yEl8W_zy9t",
        "colab": {
          "base_uri": "https://localhost:8080/"
        },
        "outputId": "614c8ddf-a1fb-465c-a793-5adb6a5956e4"
      },
      "source": [
        "# testing the model\n",
        "\n",
        "testLoss, testAccuracy = dnnModel.evaluate( Xtest, Ytest)\n",
        "print('Testing loss \\t', testLoss)\n",
        "print('Testing accuracy ', testAccuracy)"
      ],
      "execution_count": 248,
      "outputs": [
        {
          "output_type": "stream",
          "text": [
            "516/516 [==============================] - 1s 2ms/step - loss: 2.1016 - accuracy: 0.5019\n",
            "Testing loss \t 2.1015734672546387\n",
            "Testing accuracy  0.5018787980079651\n"
          ],
          "name": "stdout"
        }
      ]
    },
    {
      "cell_type": "code",
      "metadata": {
        "id": "cBCW7Wtlz59v",
        "colab": {
          "base_uri": "https://localhost:8080/"
        },
        "outputId": "0b976087-1804-4577-d203-eb3f15d8b5a8"
      },
      "source": [
        "print('Testing loss \\t', testLoss)\n",
        "print('Testing accuracy ', testAccuracy)"
      ],
      "execution_count": 249,
      "outputs": [
        {
          "output_type": "stream",
          "text": [
            "Testing loss \t 2.1015734672546387\n",
            "Testing accuracy  0.5018787980079651\n"
          ],
          "name": "stdout"
        }
      ]
    },
    {
      "cell_type": "code",
      "metadata": {
        "id": "PrAyAxqVV5Lj"
      },
      "source": [
        ""
      ],
      "execution_count": 249,
      "outputs": []
    },
    {
      "cell_type": "markdown",
      "metadata": {
        "id": "rm9j6tvUQIQ1"
      },
      "source": [
        "##Here we can see that L2 Regularisation gives better results it is because \n",
        "##L1’s effect on pushing towards 0 (sparsity) or we can say that reducing the number of features"
      ]
    },
    {
      "cell_type": "markdown",
      "metadata": {
        "id": "6wt107ujV216"
      },
      "source": [
        "#Hyperparameter Tuning-\n",
        "1. Dropout: Change the position and value of dropout layer\n",
        "2. Batch Size: Change the value of batch size in model training\n",
        "\n",
        "## New Model-1 with changes in Dropouts and Batch Size "
      ]
    },
    {
      "cell_type": "code",
      "metadata": {
        "colab": {
          "base_uri": "https://localhost:8080/"
        },
        "id": "0TBzB6NOcWVR",
        "outputId": "9bc25a32-8ec1-4664-bbc7-9b88a5b46821"
      },
      "source": [
        "print(Xtrain.shape)\n",
        "print(Ytrain.shape)"
      ],
      "execution_count": 250,
      "outputs": [
        {
          "output_type": "stream",
          "text": [
            "(33500, 128)\n",
            "(33500, 2)\n"
          ],
          "name": "stdout"
        }
      ]
    },
    {
      "cell_type": "code",
      "metadata": {
        "colab": {
          "base_uri": "https://localhost:8080/"
        },
        "id": "zkT0_zXbV_-b",
        "outputId": "1496703e-5e4f-450e-d705-d4a5725804a6"
      },
      "source": [
        "dnnModel = models.Sequential()\n",
        "# Layer 1 Hidden layer \n",
        "dnnModel.add(layers.Dense(100, activation=keras.layers.LeakyReLU(alpha=0.01), input_shape= (128,)))\n",
        "#Layer 2 Hidden Layer\n",
        "dnnModel.add(layers.Dense(120, activation=keras.layers.LeakyReLU(alpha=0.01)) )\n",
        "\n",
        "#Layer 3 Hidden Layer\n",
        "#dnnModel.add(layers.Dense(100, activation=keras.layers.LeakyReLU(alpha=0.02), kernel_regularizer=regularizers.l2(0.060))) \n",
        "dnnModel.add(layers.Dense(100, activation=keras.layers.LeakyReLU(alpha=0.5))) \n",
        "\n",
        "#Layer 4 Hidden Layer\n",
        "dnnModel.add(layers.Dense(80, activation=keras.layers.LeakyReLU(alpha=0.03))) \n",
        "\n",
        "\n",
        "#Layer 4 Hidden Layer\n",
        "# Add dropout of 20% to layer 4 as we can see that there ios overfitting in the above training accuracy to test accuracy\n",
        "dnnModel.add(layers.Dropout(0.5))\n",
        "#Layer 4 Hidden Layer\n",
        "dnnModel.add(layers.Dense(40, activation=keras.layers.LeakyReLU(alpha=0.02), kernel_regularizer=regularizers.l2(0.020))) \n",
        "\n",
        "dnnModel.add(layers.Dense(2, activation='sigmoid'))\n",
        "#dnnModel.add(layers.Dense(2, activation='softmax'))\n",
        "dnnModel.summary()\n",
        "\n",
        "# Available optimizer: adam, rmsprop, adagrad, sgd\n",
        "# loss:  objective that the model will try to minimize. \n",
        "# Available loss: categorical_crossentropy, binary_crossentropy, mean_squared_error\n",
        "\n",
        "opt = keras.optimizers.Adam(learning_rate=0.09)\n",
        "\n",
        "rms = tf.keras.optimizers.RMSprop(\n",
        "    learning_rate=0.09,\n",
        "    rho=0.9,\n",
        "    momentum=0.0,\n",
        "    epsilon=1e-07,\n",
        "    centered=False,\n",
        "    name=\"RMSprop\"\n",
        ")\n",
        "\n",
        "adg = tf.keras.optimizers.Adagrad(\n",
        "    learning_rate=.5,\n",
        "    initial_accumulator_value=0.1,\n",
        "    epsilon=1e-07,\n",
        "    name=\"Adagrad\", \n",
        ")\n",
        "\n",
        "dnnModel.compile( optimizer = adg, loss = 'binary_crossentropy', metrics=['accuracy'] )\n",
        "\n",
        "#es = EarlyStopping(monitor='val_loss',min_delta=0, mode='min', verbose=1)\n",
        "\n",
        "#hes = dnnModel.fit(Xtrain, Ytrain, validation_split=0.3, epochs=64, verbose=1, callbacks=[es])\n",
        "hes = dnnModel.fit(Xtrain, Ytrain, validation_split=0.3, epochs=32, verbose=1)\n"
      ],
      "execution_count": 251,
      "outputs": [
        {
          "output_type": "stream",
          "text": [
            "Model: \"sequential_21\"\n",
            "_________________________________________________________________\n",
            "Layer (type)                 Output Shape              Param #   \n",
            "=================================================================\n",
            "dense_104 (Dense)            (None, 100)               12900     \n",
            "_________________________________________________________________\n",
            "dense_105 (Dense)            (None, 120)               12120     \n",
            "_________________________________________________________________\n",
            "dense_106 (Dense)            (None, 100)               12100     \n",
            "_________________________________________________________________\n",
            "dense_107 (Dense)            (None, 80)                8080      \n",
            "_________________________________________________________________\n",
            "dropout_26 (Dropout)         (None, 80)                0         \n",
            "_________________________________________________________________\n",
            "dense_108 (Dense)            (None, 40)                3240      \n",
            "_________________________________________________________________\n",
            "dense_109 (Dense)            (None, 2)                 82        \n",
            "=================================================================\n",
            "Total params: 48,522\n",
            "Trainable params: 48,522\n",
            "Non-trainable params: 0\n",
            "_________________________________________________________________\n",
            "Epoch 1/32\n",
            "733/733 [==============================] - 3s 3ms/step - loss: 0.7555 - accuracy: 0.4998 - val_loss: 0.6938 - val_accuracy: 0.5010\n",
            "Epoch 2/32\n",
            "733/733 [==============================] - 2s 3ms/step - loss: 0.6936 - accuracy: 0.4974 - val_loss: 0.6932 - val_accuracy: 0.5010\n",
            "Epoch 3/32\n",
            "733/733 [==============================] - 2s 3ms/step - loss: 0.6936 - accuracy: 0.4959 - val_loss: 0.6934 - val_accuracy: 0.4990\n",
            "Epoch 4/32\n",
            "733/733 [==============================] - 2s 3ms/step - loss: 0.6934 - accuracy: 0.5000 - val_loss: 0.6935 - val_accuracy: 0.4990\n",
            "Epoch 5/32\n",
            "733/733 [==============================] - 2s 3ms/step - loss: 0.6935 - accuracy: 0.4960 - val_loss: 0.6934 - val_accuracy: 0.5010\n",
            "Epoch 6/32\n",
            "733/733 [==============================] - 2s 3ms/step - loss: 0.6933 - accuracy: 0.5031 - val_loss: 0.6935 - val_accuracy: 0.5010\n",
            "Epoch 7/32\n",
            "733/733 [==============================] - 2s 3ms/step - loss: 0.6934 - accuracy: 0.5007 - val_loss: 0.6931 - val_accuracy: 0.5010\n",
            "Epoch 8/32\n",
            "733/733 [==============================] - 2s 3ms/step - loss: 0.6933 - accuracy: 0.5005 - val_loss: 0.6931 - val_accuracy: 0.5010\n",
            "Epoch 9/32\n",
            "733/733 [==============================] - 2s 3ms/step - loss: 0.6933 - accuracy: 0.5011 - val_loss: 0.6933 - val_accuracy: 0.5010\n",
            "Epoch 10/32\n",
            "733/733 [==============================] - 2s 3ms/step - loss: 0.6932 - accuracy: 0.5043 - val_loss: 0.6931 - val_accuracy: 0.5010\n",
            "Epoch 11/32\n",
            "733/733 [==============================] - 2s 3ms/step - loss: 0.6932 - accuracy: 0.5036 - val_loss: 0.6936 - val_accuracy: 0.4990\n",
            "Epoch 12/32\n",
            "733/733 [==============================] - 2s 3ms/step - loss: 0.6933 - accuracy: 0.4993 - val_loss: 0.6932 - val_accuracy: 0.4990\n",
            "Epoch 13/32\n",
            "733/733 [==============================] - 2s 3ms/step - loss: 0.6932 - accuracy: 0.5054 - val_loss: 0.6936 - val_accuracy: 0.5010\n",
            "Epoch 14/32\n",
            "733/733 [==============================] - 2s 3ms/step - loss: 0.6934 - accuracy: 0.5004 - val_loss: 0.6932 - val_accuracy: 0.5010\n",
            "Epoch 15/32\n",
            "733/733 [==============================] - 2s 3ms/step - loss: 0.6933 - accuracy: 0.4895 - val_loss: 0.6935 - val_accuracy: 0.4990\n",
            "Epoch 16/32\n",
            "733/733 [==============================] - 2s 3ms/step - loss: 0.6935 - accuracy: 0.4935 - val_loss: 0.6932 - val_accuracy: 0.4990\n",
            "Epoch 17/32\n",
            "733/733 [==============================] - 2s 3ms/step - loss: 0.6932 - accuracy: 0.5036 - val_loss: 0.6933 - val_accuracy: 0.5010\n",
            "Epoch 18/32\n",
            "733/733 [==============================] - 2s 3ms/step - loss: 0.6932 - accuracy: 0.5062 - val_loss: 0.6932 - val_accuracy: 0.5010\n",
            "Epoch 19/32\n",
            "733/733 [==============================] - 2s 3ms/step - loss: 0.6933 - accuracy: 0.4908 - val_loss: 0.6932 - val_accuracy: 0.4990\n",
            "Epoch 20/32\n",
            "733/733 [==============================] - 2s 3ms/step - loss: 0.6932 - accuracy: 0.5014 - val_loss: 0.6933 - val_accuracy: 0.5010\n",
            "Epoch 21/32\n",
            "733/733 [==============================] - 2s 3ms/step - loss: 0.6932 - accuracy: 0.5045 - val_loss: 0.6932 - val_accuracy: 0.4990\n",
            "Epoch 22/32\n",
            "733/733 [==============================] - 2s 3ms/step - loss: 0.6932 - accuracy: 0.5014 - val_loss: 0.6935 - val_accuracy: 0.4990\n",
            "Epoch 23/32\n",
            "733/733 [==============================] - 2s 3ms/step - loss: 0.6932 - accuracy: 0.4988 - val_loss: 0.6931 - val_accuracy: 0.5010\n",
            "Epoch 24/32\n",
            "733/733 [==============================] - 2s 3ms/step - loss: 0.6932 - accuracy: 0.4973 - val_loss: 0.6935 - val_accuracy: 0.4990\n",
            "Epoch 25/32\n",
            "733/733 [==============================] - 2s 3ms/step - loss: 0.6932 - accuracy: 0.5045 - val_loss: 0.6931 - val_accuracy: 0.5010\n",
            "Epoch 26/32\n",
            "733/733 [==============================] - 2s 3ms/step - loss: 0.6932 - accuracy: 0.5033 - val_loss: 0.6939 - val_accuracy: 0.4990\n",
            "Epoch 27/32\n",
            "733/733 [==============================] - 2s 3ms/step - loss: 0.6916 - accuracy: 0.5381 - val_loss: 0.6904 - val_accuracy: 0.5025\n",
            "Epoch 28/32\n",
            "733/733 [==============================] - 2s 3ms/step - loss: 0.6813 - accuracy: 0.5854 - val_loss: 0.6878 - val_accuracy: 0.5931\n",
            "Epoch 29/32\n",
            "733/733 [==============================] - 2s 3ms/step - loss: 0.5652 - accuracy: 0.7419 - val_loss: 0.4788 - val_accuracy: 0.7876\n",
            "Epoch 30/32\n",
            "733/733 [==============================] - 2s 3ms/step - loss: 0.4927 - accuracy: 0.7822 - val_loss: 0.4508 - val_accuracy: 0.7935\n",
            "Epoch 31/32\n",
            "733/733 [==============================] - 2s 3ms/step - loss: 0.4777 - accuracy: 0.7845 - val_loss: 0.4764 - val_accuracy: 0.7956\n",
            "Epoch 32/32\n",
            "733/733 [==============================] - 2s 3ms/step - loss: 0.4776 - accuracy: 0.7811 - val_loss: 0.4552 - val_accuracy: 0.7950\n"
          ],
          "name": "stdout"
        }
      ]
    },
    {
      "cell_type": "code",
      "metadata": {
        "colab": {
          "base_uri": "https://localhost:8080/",
          "height": 295
        },
        "id": "mR8lD9m-bXyy",
        "outputId": "9b53cdda-e662-45d1-8cc8-6ecdf3d19b61"
      },
      "source": [
        "# plot the training loss\n",
        "\n",
        "plt.plot(hes.history['loss'], label='Train loss')\n",
        "plt.plot(hes.history['val_loss'], label='Val loss') \n",
        "plt.xlabel('Epochs')\n",
        "plt.ylabel('Loss')\n",
        "plt.title('Plot of Training Loss -- ')\n",
        "plt.legend()\n",
        "plt.show()"
      ],
      "execution_count": 252,
      "outputs": [
        {
          "output_type": "display_data",
          "data": {
            "image/png": "[encoded data removed]",
            "text/plain": [
              "<Figure size 432x288 with 1 Axes>"
            ]
          },
          "metadata": {
            "tags": [],
            "needs_background": "light"
          }
        }
      ]
    },
    {
      "cell_type": "code",
      "metadata": {
        "colab": {
          "base_uri": "https://localhost:8080/",
          "height": 295
        },
        "id": "AyZ6GSrbbcKQ",
        "outputId": "3903e48d-3f5e-467e-dd22-50b6ef556098"
      },
      "source": [
        "# plot the training accuracy\n",
        "\n",
        "plt.plot(hes.history['accuracy'], label='Train Acc')\n",
        "plt.plot(hes.history['val_accuracy'], label='Val Acc')\n",
        "plt.xlabel('Epochs')\n",
        "plt.ylabel('Loss')\n",
        "plt.title('Plot of Training Accuracy  ')\n",
        "plt.legend()\n",
        "plt.show()"
      ],
      "execution_count": 253,
      "outputs": [
        {
          "output_type": "display_data",
          "data": {
            "image/png": "[encoded data removed]",
            "text/plain": [
              "<Figure size 432x288 with 1 Axes>"
            ]
          },
          "metadata": {
            "tags": [],
            "needs_background": "light"
          }
        }
      ]
    },
    {
      "cell_type": "code",
      "metadata": {
        "colab": {
          "base_uri": "https://localhost:8080/"
        },
        "id": "0TdzZzV0jmY6",
        "outputId": "4dec5a84-7255-4f7a-b825-0a35c6e44cd8"
      },
      "source": [
        "# testing the model\n",
        "\n",
        "testLoss, testAccuracy = dnnModel.evaluate( Xtest, Ytest)\n",
        "print('Testing loss \\t', testLoss)\n",
        "print('Testing accuracy ', testAccuracy)\n",
        "\n",
        "print('Testing loss \\t', testLoss)\n",
        "print('Testing accuracy ', testAccuracy)"
      ],
      "execution_count": 254,
      "outputs": [
        {
          "output_type": "stream",
          "text": [
            "516/516 [==============================] - 1s 2ms/step - loss: 0.4575 - accuracy: 0.7968\n",
            "Testing loss \t 0.4574764668941498\n",
            "Testing accuracy  0.7967878580093384\n",
            "Testing loss \t 0.4574764668941498\n",
            "Testing accuracy  0.7967878580093384\n"
          ],
          "name": "stdout"
        }
      ]
    },
    {
      "cell_type": "markdown",
      "metadata": {
        "id": "pVuc4OEQh5at"
      },
      "source": [
        "## New Model-2 with changes in Dropouts and Batch Size "
      ]
    },
    {
      "cell_type": "code",
      "metadata": {
        "colab": {
          "base_uri": "https://localhost:8080/"
        },
        "id": "YF_Lry0xfopu",
        "outputId": "7e880844-9f00-4999-fd69-3c857301298c"
      },
      "source": [
        "dnnModel = models.Sequential()\n",
        "# Layer 1 Hidden layer \n",
        "dnnModel.add(layers.Dense(100, activation=keras.layers.LeakyReLU(alpha=0.01), input_shape= (128,)))\n",
        "#Layer 2 Hidden Layer\n",
        "dnnModel.add(layers.Dense(120, activation=keras.layers.LeakyReLU(alpha=0.01)) )\n",
        "\n",
        "dnnModel.add(layers.Dropout(0.5))\n",
        "\n",
        "#Layer 3 Hidden Layer\n",
        "#dnnModel.add(layers.Dense(100, activation=keras.layers.LeakyReLU(alpha=0.02), kernel_regularizer=regularizers.l2(0.060))) \n",
        "dnnModel.add(layers.Dense(100, activation=keras.layers.LeakyReLU(alpha=0.5))) \n",
        "\n",
        "#Layer 4 Hidden Layer\n",
        "dnnModel.add(layers.Dense(80, activation=keras.layers.LeakyReLU(alpha=0.03))) \n",
        "\n",
        "\n",
        "#Layer 4 Hidden Layer\n",
        "# Add dropout of 20% to layer 4 as we can see that there ios overfitting in the above training accuracy to test accuracy\n",
        "dnnModel.add(layers.Dropout(0.5))\n",
        "#Layer 4 Hidden Layer\n",
        "dnnModel.add(layers.Dense(40, activation=keras.layers.LeakyReLU(alpha=0.02), kernel_regularizer=regularizers.l2(0.020))) \n",
        "\n",
        "dnnModel.add(layers.Dense(2, activation='sigmoid'))\n",
        "#dnnModel.add(layers.Dense(2, activation='softmax'))\n",
        "dnnModel.summary()\n",
        "\n",
        "# Available optimizer: adam, rmsprop, adagrad, sgd\n",
        "# loss:  objective that the model will try to minimize. \n",
        "# Available loss: categorical_crossentropy, binary_crossentropy, mean_squared_error\n",
        "\n",
        "opt = keras.optimizers.Adam(learning_rate=0.09)\n",
        "\n",
        "rms = tf.keras.optimizers.RMSprop(\n",
        "    learning_rate=0.09,\n",
        "    rho=0.9,\n",
        "    momentum=0.0,\n",
        "    epsilon=1e-07,\n",
        "    centered=False,\n",
        "    name=\"RMSprop\"\n",
        ")\n",
        "\n",
        "adg = tf.keras.optimizers.Adagrad(\n",
        "    learning_rate=.5,\n",
        "    initial_accumulator_value=0.1,\n",
        "    epsilon=1e-07,\n",
        "    name=\"Adagrad\", \n",
        ")\n",
        "\n",
        "dnnModel.compile( optimizer = adg, loss = 'binary_crossentropy', metrics=['accuracy'] )\n",
        "\n",
        "#es = EarlyStopping(monitor='val_loss',min_delta=0, mode='min', verbose=1)\n",
        "\n",
        "#hes = dnnModel.fit(Xtrain, Ytrain, validation_split=0.3, epochs=64, verbose=1, callbacks=[es])\n",
        "hes = dnnModel.fit(Xtrain, Ytrain, validation_split=0.3, epochs=32, verbose=1)\n"
      ],
      "execution_count": 255,
      "outputs": [
        {
          "output_type": "stream",
          "text": [
            "Model: \"sequential_22\"\n",
            "_________________________________________________________________\n",
            "Layer (type)                 Output Shape              Param #   \n",
            "=================================================================\n",
            "dense_110 (Dense)            (None, 100)               12900     \n",
            "_________________________________________________________________\n",
            "dense_111 (Dense)            (None, 120)               12120     \n",
            "_________________________________________________________________\n",
            "dropout_27 (Dropout)         (None, 120)               0         \n",
            "_________________________________________________________________\n",
            "dense_112 (Dense)            (None, 100)               12100     \n",
            "_________________________________________________________________\n",
            "dense_113 (Dense)            (None, 80)                8080      \n",
            "_________________________________________________________________\n",
            "dropout_28 (Dropout)         (None, 80)                0         \n",
            "_________________________________________________________________\n",
            "dense_114 (Dense)            (None, 40)                3240      \n",
            "_________________________________________________________________\n",
            "dense_115 (Dense)            (None, 2)                 82        \n",
            "=================================================================\n",
            "Total params: 48,522\n",
            "Trainable params: 48,522\n",
            "Non-trainable params: 0\n",
            "_________________________________________________________________\n",
            "Epoch 1/32\n",
            "733/733 [==============================] - 3s 3ms/step - loss: 0.7395 - accuracy: 0.5883 - val_loss: 0.6084 - val_accuracy: 0.7186\n",
            "Epoch 2/32\n",
            "733/733 [==============================] - 2s 3ms/step - loss: 0.5837 - accuracy: 0.7629 - val_loss: 0.4931 - val_accuracy: 0.7867\n",
            "Epoch 3/32\n",
            "733/733 [==============================] - 2s 3ms/step - loss: 0.5135 - accuracy: 0.7726 - val_loss: 0.5622 - val_accuracy: 0.7699\n",
            "Epoch 4/32\n",
            "733/733 [==============================] - 2s 3ms/step - loss: 0.5027 - accuracy: 0.7857 - val_loss: 0.4842 - val_accuracy: 0.7861\n",
            "Epoch 5/32\n",
            "733/733 [==============================] - 2s 3ms/step - loss: 0.5359 - accuracy: 0.7579 - val_loss: 0.4917 - val_accuracy: 0.7948\n",
            "Epoch 6/32\n",
            "733/733 [==============================] - 2s 3ms/step - loss: 0.5272 - accuracy: 0.7638 - val_loss: 0.4712 - val_accuracy: 0.7923\n",
            "Epoch 7/32\n",
            "733/733 [==============================] - 2s 3ms/step - loss: 0.5062 - accuracy: 0.7770 - val_loss: 0.4570 - val_accuracy: 0.7942\n",
            "Epoch 8/32\n",
            "733/733 [==============================] - 2s 3ms/step - loss: 0.4744 - accuracy: 0.7847 - val_loss: 0.4519 - val_accuracy: 0.7947\n",
            "Epoch 9/32\n",
            "733/733 [==============================] - 2s 3ms/step - loss: 0.4766 - accuracy: 0.7830 - val_loss: 0.4662 - val_accuracy: 0.7932\n",
            "Epoch 10/32\n",
            "733/733 [==============================] - 2s 3ms/step - loss: 0.4649 - accuracy: 0.7874 - val_loss: 0.4494 - val_accuracy: 0.7952\n",
            "Epoch 11/32\n",
            "733/733 [==============================] - 2s 3ms/step - loss: 0.4616 - accuracy: 0.7879 - val_loss: 0.4793 - val_accuracy: 0.7966\n",
            "Epoch 12/32\n",
            "733/733 [==============================] - 2s 3ms/step - loss: 0.4648 - accuracy: 0.7855 - val_loss: 0.4401 - val_accuracy: 0.7977\n",
            "Epoch 13/32\n",
            "733/733 [==============================] - 2s 3ms/step - loss: 0.4526 - accuracy: 0.7948 - val_loss: 0.4404 - val_accuracy: 0.7961\n",
            "Epoch 14/32\n",
            "733/733 [==============================] - 2s 3ms/step - loss: 0.4656 - accuracy: 0.7911 - val_loss: 0.4519 - val_accuracy: 0.7934\n",
            "Epoch 15/32\n",
            "733/733 [==============================] - 2s 3ms/step - loss: 0.4506 - accuracy: 0.7959 - val_loss: 0.5458 - val_accuracy: 0.7793\n",
            "Epoch 16/32\n",
            "733/733 [==============================] - 2s 3ms/step - loss: 0.4697 - accuracy: 0.7989 - val_loss: 0.4530 - val_accuracy: 0.7866\n",
            "Epoch 17/32\n",
            "733/733 [==============================] - 2s 3ms/step - loss: 0.4434 - accuracy: 0.7907 - val_loss: 0.4350 - val_accuracy: 0.7997\n",
            "Epoch 18/32\n",
            "733/733 [==============================] - 2s 3ms/step - loss: 0.4532 - accuracy: 0.7916 - val_loss: 0.4530 - val_accuracy: 0.7987\n",
            "Epoch 19/32\n",
            "733/733 [==============================] - 2s 3ms/step - loss: 0.4459 - accuracy: 0.7961 - val_loss: 0.4426 - val_accuracy: 0.7923\n",
            "Epoch 20/32\n",
            "733/733 [==============================] - 2s 3ms/step - loss: 0.4690 - accuracy: 0.7967 - val_loss: 0.4379 - val_accuracy: 0.7977\n",
            "Epoch 21/32\n",
            "733/733 [==============================] - 2s 3ms/step - loss: 0.4422 - accuracy: 0.7946 - val_loss: 0.4700 - val_accuracy: 0.7943\n",
            "Epoch 22/32\n",
            "733/733 [==============================] - 2s 3ms/step - loss: 0.4434 - accuracy: 0.7994 - val_loss: 0.4430 - val_accuracy: 0.7994\n",
            "Epoch 23/32\n",
            "733/733 [==============================] - 2s 3ms/step - loss: 0.4300 - accuracy: 0.7998 - val_loss: 0.5023 - val_accuracy: 0.7965\n",
            "Epoch 24/32\n",
            "733/733 [==============================] - 2s 3ms/step - loss: 0.4509 - accuracy: 0.7997 - val_loss: 0.4342 - val_accuracy: 0.8030\n",
            "Epoch 25/32\n",
            "733/733 [==============================] - 2s 3ms/step - loss: 0.4262 - accuracy: 0.8054 - val_loss: 0.4392 - val_accuracy: 0.7960\n",
            "Epoch 26/32\n",
            "733/733 [==============================] - 2s 3ms/step - loss: 0.4316 - accuracy: 0.7974 - val_loss: 0.4353 - val_accuracy: 0.8009\n",
            "Epoch 27/32\n",
            "733/733 [==============================] - 2s 3ms/step - loss: 0.4293 - accuracy: 0.8015 - val_loss: 0.4647 - val_accuracy: 0.8000\n",
            "Epoch 28/32\n",
            "733/733 [==============================] - 2s 3ms/step - loss: 0.4413 - accuracy: 0.7996 - val_loss: 0.4504 - val_accuracy: 0.7944\n",
            "Epoch 29/32\n",
            "733/733 [==============================] - 2s 3ms/step - loss: 0.4239 - accuracy: 0.8026 - val_loss: 0.4360 - val_accuracy: 0.8031\n",
            "Epoch 30/32\n",
            "733/733 [==============================] - 2s 3ms/step - loss: 0.4326 - accuracy: 0.7995 - val_loss: 0.4363 - val_accuracy: 0.8001\n",
            "Epoch 31/32\n",
            "733/733 [==============================] - 2s 3ms/step - loss: 0.4302 - accuracy: 0.8053 - val_loss: 0.4365 - val_accuracy: 0.8005\n",
            "Epoch 32/32\n",
            "733/733 [==============================] - 2s 3ms/step - loss: 0.4174 - accuracy: 0.8093 - val_loss: 0.4430 - val_accuracy: 0.8007\n"
          ],
          "name": "stdout"
        }
      ]
    },
    {
      "cell_type": "code",
      "metadata": {
        "colab": {
          "base_uri": "https://localhost:8080/",
          "height": 295
        },
        "id": "T4zymbnmfsAY",
        "outputId": "24e9d5d1-c67e-4e8f-8ec4-78a8503f8d7b"
      },
      "source": [
        "# plot the training loss\n",
        "\n",
        "plt.plot(hes.history['loss'], label='Train loss')\n",
        "plt.plot(hes.history['val_loss'], label='Val loss') \n",
        "plt.xlabel('Epochs')\n",
        "plt.ylabel('Loss')\n",
        "plt.title('Plot of Training Loss --   ')\n",
        "plt.legend()\n",
        "plt.show()"
      ],
      "execution_count": 256,
      "outputs": [
        {
          "output_type": "display_data",
          "data": {
            "image/png": "[encoded data removed]",
            "text/plain": [
              "<Figure size 432x288 with 1 Axes>"
            ]
          },
          "metadata": {
            "tags": [],
            "needs_background": "light"
          }
        }
      ]
    },
    {
      "cell_type": "code",
      "metadata": {
        "colab": {
          "base_uri": "https://localhost:8080/",
          "height": 295
        },
        "id": "pX_6VP9Vfu6a",
        "outputId": "36233b5d-bee6-4a1e-a852-96ef738b386d"
      },
      "source": [
        "# plot the training accuracy\n",
        "\n",
        "plt.plot(hes.history['accuracy'], label='Train Acc')\n",
        "plt.plot(hes.history['val_accuracy'], label='Val Acc')\n",
        "plt.xlabel('Epochs')\n",
        "plt.ylabel('Loss')\n",
        "plt.title('Plot of Training Accuracy  ')\n",
        "plt.legend()\n",
        "plt.show()"
      ],
      "execution_count": 257,
      "outputs": [
        {
          "output_type": "display_data",
          "data": {
            "image/png": "[encoded data removed]",
            "text/plain": [
              "<Figure size 432x288 with 1 Axes>"
            ]
          },
          "metadata": {
            "tags": [],
            "needs_background": "light"
          }
        }
      ]
    },
    {
      "cell_type": "code",
      "metadata": {
        "colab": {
          "base_uri": "https://localhost:8080/"
        },
        "id": "u59Uo9zFjo0r",
        "outputId": "fe0861c3-9f1c-454c-db00-023f093b7074"
      },
      "source": [
        "# testing the model\n",
        "\n",
        "testLoss, testAccuracy = dnnModel.evaluate( Xtest, Ytest)\n",
        "print('Testing loss \\t', testLoss)\n",
        "print('Testing accuracy ', testAccuracy)\n",
        "\n",
        "print('Testing loss \\t', testLoss)\n",
        "print('Testing accuracy ', testAccuracy)"
      ],
      "execution_count": 258,
      "outputs": [
        {
          "output_type": "stream",
          "text": [
            "516/516 [==============================] - 1s 2ms/step - loss: 0.4401 - accuracy: 0.7941\n",
            "Testing loss \t 0.4401419460773468\n",
            "Testing accuracy  0.7941212058067322\n",
            "Testing loss \t 0.4401419460773468\n",
            "Testing accuracy  0.7941212058067322\n"
          ],
          "name": "stdout"
        }
      ]
    }
  ]
}
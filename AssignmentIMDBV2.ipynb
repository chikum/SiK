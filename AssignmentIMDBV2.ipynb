{
  "nbformat": 4,
  "nbformat_minor": 0,
  "metadata": {
    "colab": {
      "name": "AssignmentIMDBV2.ipynb",
      "provenance": [],
      "collapsed_sections": [],
      "authorship_tag": "ABX9TyM8HHLERISQceeTyFMKQo4P",
      "include_colab_link": true
    },
    "kernelspec": {
      "display_name": "Python 3",
      "name": "python3"
    },
    "language_info": {
      "name": "python"
    }
  },
  "cells": [
    {
      "cell_type": "markdown",
      "metadata": {
        "id": "view-in-github",
        "colab_type": "text"
      },
      "source": [
        "<a href=\"https://colab.research.google.com/github/chikum/SiK/blob/AES/AssignmentIMDBV2.ipynb\" target=\"_parent\"><img src=\"https://colab.research.google.com/assets/colab-badge.svg\" alt=\"Open In Colab\"/></a>"
      ]
    },
    {
      "cell_type": "markdown",
      "metadata": {
        "id": "GH2WVvSW7tOt"
      },
      "source": [
        "**Import Libraries/Dataset (0 mark)**"
      ]
    },
    {
      "cell_type": "code",
      "metadata": {
        "colab": {
          "base_uri": "https://localhost:8080/"
        },
        "id": "tHgkyhxuVMRH",
        "outputId": "bf1220a2-7739-475c-c745-8a5e6373af27"
      },
      "source": [
        "from google.colab import drive\n",
        "drive.mount('/content/drive')\n"
      ],
      "execution_count": 944,
      "outputs": [
        {
          "output_type": "stream",
          "text": [
            "Drive already mounted at /content/drive; to attempt to forcibly remount, call drive.mount(\"/content/drive\", force_remount=True).\n"
          ],
          "name": "stdout"
        }
      ]
    },
    {
      "cell_type": "code",
      "metadata": {
        "id": "48is9jwHcgHd"
      },
      "source": [
        "import io\n",
        "import time\n",
        "import os\n",
        "\n",
        "import pandas as pd\n",
        "import numpy as np\n",
        "import matplotlib.pyplot as plt\n",
        "import seaborn as sns\n",
        "import tensorflow as tf\n",
        "\n",
        "from keras.layers import Dense\n",
        "import tensorflow_hub as hub\n",
        "import tensorflow.keras as keras \n",
        "from tensorflow.keras import models\n",
        "from tensorflow.keras import layers\n",
        "from tensorflow.keras.layers import LeakyReLU\n",
        "\n",
        "from tensorflow.keras import regularizers\n",
        "from tensorflow.keras.callbacks import EarlyStopping\n",
        "\n",
        "%matplotlib inline"
      ],
      "execution_count": 945,
      "outputs": []
    },
    {
      "cell_type": "markdown",
      "metadata": {
        "id": "FhXd4qqfu0N3"
      },
      "source": [
        "a. Import the required libraries and the dataset (use Google Drive if required).\n",
        "\n",
        "b. Check the GPU available (recommended- use free GPU provided by Google Colab)."
      ]
    },
    {
      "cell_type": "code",
      "metadata": {
        "id": "1G6GM-NwbM7w"
      },
      "source": [
        "path = \"/content/drive/MyDrive/Data/IMDBDataset.csv\"\n",
        "data = pd.read_csv(path)"
      ],
      "execution_count": 946,
      "outputs": []
    },
    {
      "cell_type": "code",
      "metadata": {
        "colab": {
          "base_uri": "https://localhost:8080/",
          "height": 198
        },
        "id": "6d22OWNbbsnL",
        "outputId": "7b22d7dd-a799-4cea-f3e7-d3a59b1c6e6d"
      },
      "source": [
        "data.head()"
      ],
      "execution_count": 947,
      "outputs": [
        {
          "output_type": "execute_result",
          "data": {
            "text/html": [
              "<div>\n",
              "<style scoped>\n",
              "    .dataframe tbody tr th:only-of-type {\n",
              "        vertical-align: middle;\n",
              "    }\n",
              "\n",
              "    .dataframe tbody tr th {\n",
              "        vertical-align: top;\n",
              "    }\n",
              "\n",
              "    .dataframe thead th {\n",
              "        text-align: right;\n",
              "    }\n",
              "</style>\n",
              "<table border=\"1\" class=\"dataframe\">\n",
              "  <thead>\n",
              "    <tr style=\"text-align: right;\">\n",
              "      <th></th>\n",
              "      <th>review</th>\n",
              "      <th>sentiment</th>\n",
              "    </tr>\n",
              "  </thead>\n",
              "  <tbody>\n",
              "    <tr>\n",
              "      <th>0</th>\n",
              "      <td>One of the other reviewers has mentioned that ...</td>\n",
              "      <td>positive</td>\n",
              "    </tr>\n",
              "    <tr>\n",
              "      <th>1</th>\n",
              "      <td>A wonderful little production. &lt;br /&gt;&lt;br /&gt;The...</td>\n",
              "      <td>positive</td>\n",
              "    </tr>\n",
              "    <tr>\n",
              "      <th>2</th>\n",
              "      <td>I thought this was a wonderful way to spend ti...</td>\n",
              "      <td>positive</td>\n",
              "    </tr>\n",
              "    <tr>\n",
              "      <th>3</th>\n",
              "      <td>Basically there's a family where a little boy ...</td>\n",
              "      <td>negative</td>\n",
              "    </tr>\n",
              "    <tr>\n",
              "      <th>4</th>\n",
              "      <td>Petter Mattei's \"Love in the Time of Money\" is...</td>\n",
              "      <td>positive</td>\n",
              "    </tr>\n",
              "  </tbody>\n",
              "</table>\n",
              "</div>"
            ],
            "text/plain": [
              "                                              review sentiment\n",
              "0  One of the other reviewers has mentioned that ...  positive\n",
              "1  A wonderful little production. <br /><br />The...  positive\n",
              "2  I thought this was a wonderful way to spend ti...  positive\n",
              "3  Basically there's a family where a little boy ...  negative\n",
              "4  Petter Mattei's \"Love in the Time of Money\" is...  positive"
            ]
          },
          "metadata": {
            "tags": []
          },
          "execution_count": 947
        }
      ]
    },
    {
      "cell_type": "code",
      "metadata": {
        "colab": {
          "base_uri": "https://localhost:8080/"
        },
        "id": "UjwvgM5zexnZ",
        "outputId": "26c7e199-cc69-44d9-c6f2-826bda6162d3"
      },
      "source": [
        "print(data.shape)"
      ],
      "execution_count": 948,
      "outputs": [
        {
          "output_type": "stream",
          "text": [
            "(50000, 2)\n"
          ],
          "name": "stdout"
        }
      ]
    },
    {
      "cell_type": "markdown",
      "metadata": {
        "id": "TR2_FMfJ8R4k"
      },
      "source": [
        "**2. Data Visualization (0.75 mark)**\n",
        "\n",
        " a. Print at least two movie reviews from each class of the dataset, for a sanity check that labels match the text."
      ]
    },
    {
      "cell_type": "code",
      "metadata": {
        "colab": {
          "base_uri": "https://localhost:8080/"
        },
        "id": "Bl9rB8AJiJmu",
        "outputId": "3547c28e-912b-4fdd-d3ed-ca6ba09c8598"
      },
      "source": [
        "df = data.to_numpy()\n",
        "print(df.shape)\n",
        "\n",
        "print('Sample 2 positive reviews : ')\n",
        "print('=============================')\n",
        "count=0\n",
        "for i in range(1,50000):\n",
        "  if count ==2:\n",
        "    break\n",
        "\n",
        "  if df[i][1]=='positive':    \n",
        "    print(df[i][0])\n",
        "    print(df[i][1])\n",
        "    count=count+1\n",
        "\n",
        "print('===============================================================')\n",
        "print()"
      ],
      "execution_count": 949,
      "outputs": [
        {
          "output_type": "stream",
          "text": [
            "(50000, 2)\n",
            "Sample 2 positive reviews : \n",
            "=============================\n",
            "A wonderful little production. <br /><br />The filming technique is very unassuming- very old-time-BBC fashion and gives a comforting, and sometimes discomforting, sense of realism to the entire piece. <br /><br />The actors are extremely well chosen- Michael Sheen not only \"has got all the polari\" but he has all the voices down pat too! You can truly see the seamless editing guided by the references to Williams' diary entries, not only is it well worth the watching but it is a terrificly written and performed piece. A masterful production about one of the great master's of comedy and his life. <br /><br />The realism really comes home with the little things: the fantasy of the guard which, rather than use the traditional 'dream' techniques remains solid then disappears. It plays on our knowledge and our senses, particularly with the scenes concerning Orton and Halliwell and the sets (particularly of their flat with Halliwell's murals decorating every surface) are terribly well done.\n",
            "positive\n",
            "I thought this was a wonderful way to spend time on a too hot summer weekend, sitting in the air conditioned theater and watching a light-hearted comedy. The plot is simplistic, but the dialogue is witty and the characters are likable (even the well bread suspected serial killer). While some may be disappointed when they realize this is not Match Point 2: Risk Addiction, I thought it was proof that Woody Allen is still fully in control of the style many of us have grown to love.<br /><br />This was the most I'd laughed at one of Woody's comedies in years (dare I say a decade?). While I've never been impressed with Scarlet Johanson, in this she managed to tone down her \"sexy\" image and jumped right into a average, but spirited young woman.<br /><br />This may not be the crown jewel of his career, but it was wittier than \"Devil Wears Prada\" and more interesting than \"Superman\" a great comedy to go see with friends.\n",
            "positive\n",
            "===============================================================\n",
            "\n"
          ],
          "name": "stdout"
        }
      ]
    },
    {
      "cell_type": "code",
      "metadata": {
        "colab": {
          "base_uri": "https://localhost:8080/"
        },
        "id": "-xhMmkWmDxXh",
        "outputId": "a8eef998-76d3-41ca-badc-b0622510c36b"
      },
      "source": [
        "print('Sample 2 Negative reviews : ')\n",
        "print('=============================')\n",
        "count=0\n",
        "for i in range(1,50000):\n",
        "  if count ==2:\n",
        "    break\n",
        "\n",
        "  if df[i][1]=='negative':    \n",
        "    print(df[i][0])\n",
        "    print(df[i][1])\n",
        "    count=count+1\n",
        "\n",
        "print('===============================================================')\n",
        "print()"
      ],
      "execution_count": 950,
      "outputs": [
        {
          "output_type": "stream",
          "text": [
            "Sample 2 Negative reviews : \n",
            "=============================\n",
            "Basically there's a family where a little boy (Jake) thinks there's a zombie in his closet & his parents are fighting all the time.<br /><br />This movie is slower than a soap opera... and suddenly, Jake decides to become Rambo and kill the zombie.<br /><br />OK, first of all when you're going to make a film you must Decide if its a thriller or a drama! As a drama the movie is watchable. Parents are divorcing & arguing like in real life. And then we have Jake with his closet which totally ruins all the film! I expected to see a BOOGEYMAN similar movie, and instead i watched a drama with some meaningless thriller spots.<br /><br />3 out of 10 just for the well playing parents & descent dialogs. As for the shots with Jake: just ignore them.\n",
            "negative\n",
            "This show was an amazing, fresh & innovative idea in the 70's when it first aired. The first 7 or 8 years were brilliant, but things dropped off after that. By 1990, the show was not really funny anymore, and it's continued its decline further to the complete waste of time it is today.<br /><br />It's truly disgraceful how far this show has fallen. The writing is painfully bad, the performances are almost as bad - if not for the mildly entertaining respite of the guest-hosts, this show probably wouldn't still be on the air. I find it so hard to believe that the same creator that hand-selected the original cast also chose the band of hacks that followed. How can one recognize such brilliance and then see fit to replace it with such mediocrity? I felt I must give 2 stars out of respect for the original cast that made this show such a huge success. As it is now, the show is just awful. I can't believe it's still on the air.\n",
            "negative\n",
            "===============================================================\n",
            "\n"
          ],
          "name": "stdout"
        }
      ]
    },
    {
      "cell_type": "markdown",
      "metadata": {
        "id": "x9nwEGQ48b1g"
      },
      "source": [
        "**b**. Plot a bar graph of class distribution in a dataset. Each bar depicts the number of tweets belonging to a particular sentiment. (recommended - matplotlib/seaborn libraries)"
      ]
    },
    {
      "cell_type": "code",
      "metadata": {
        "colab": {
          "base_uri": "https://localhost:8080/",
          "height": 405
        },
        "id": "d0QP7aoUfOwh",
        "outputId": "ff8eceb8-c0b4-4ca0-be2d-229be67facb9"
      },
      "source": [
        "# print(data['sentiment'].value_counts())\n",
        "\n",
        "fig = plt.figure(figsize = (10,6))\n",
        "sns.countplot(data=data, x='sentiment', palette = [\"green\",\"red\"])"
      ],
      "execution_count": 951,
      "outputs": [
        {
          "output_type": "execute_result",
          "data": {
            "text/plain": [
              "<matplotlib.axes._subplots.AxesSubplot at 0x7f5845493410>"
            ]
          },
          "metadata": {
            "tags": []
          },
          "execution_count": 951
        },
        {
          "output_type": "display_data",
          "data": {
            "image/png": "[encoded data removed]",
            "text/plain": [
              "<Figure size 720x432 with 1 Axes>"
            ]
          },
          "metadata": {
            "tags": [],
            "needs_background": "light"
          }
        }
      ]
    },
    {
      "cell_type": "code",
      "metadata": {
        "id": "opGBZRL1uV2E"
      },
      "source": [
        "data['sentiment'] = [1 if sentiment == 'positive' else 0 for sentiment in data['sentiment'].values]"
      ],
      "execution_count": 952,
      "outputs": []
    },
    {
      "cell_type": "code",
      "metadata": {
        "colab": {
          "base_uri": "https://localhost:8080/",
          "height": 198
        },
        "id": "AtNw0ibKueAI",
        "outputId": "3e004cb0-c80d-420b-86eb-d765717a53bc"
      },
      "source": [
        "data.head()"
      ],
      "execution_count": 953,
      "outputs": [
        {
          "output_type": "execute_result",
          "data": {
            "text/html": [
              "<div>\n",
              "<style scoped>\n",
              "    .dataframe tbody tr th:only-of-type {\n",
              "        vertical-align: middle;\n",
              "    }\n",
              "\n",
              "    .dataframe tbody tr th {\n",
              "        vertical-align: top;\n",
              "    }\n",
              "\n",
              "    .dataframe thead th {\n",
              "        text-align: right;\n",
              "    }\n",
              "</style>\n",
              "<table border=\"1\" class=\"dataframe\">\n",
              "  <thead>\n",
              "    <tr style=\"text-align: right;\">\n",
              "      <th></th>\n",
              "      <th>review</th>\n",
              "      <th>sentiment</th>\n",
              "    </tr>\n",
              "  </thead>\n",
              "  <tbody>\n",
              "    <tr>\n",
              "      <th>0</th>\n",
              "      <td>One of the other reviewers has mentioned that ...</td>\n",
              "      <td>1</td>\n",
              "    </tr>\n",
              "    <tr>\n",
              "      <th>1</th>\n",
              "      <td>A wonderful little production. &lt;br /&gt;&lt;br /&gt;The...</td>\n",
              "      <td>1</td>\n",
              "    </tr>\n",
              "    <tr>\n",
              "      <th>2</th>\n",
              "      <td>I thought this was a wonderful way to spend ti...</td>\n",
              "      <td>1</td>\n",
              "    </tr>\n",
              "    <tr>\n",
              "      <th>3</th>\n",
              "      <td>Basically there's a family where a little boy ...</td>\n",
              "      <td>0</td>\n",
              "    </tr>\n",
              "    <tr>\n",
              "      <th>4</th>\n",
              "      <td>Petter Mattei's \"Love in the Time of Money\" is...</td>\n",
              "      <td>1</td>\n",
              "    </tr>\n",
              "  </tbody>\n",
              "</table>\n",
              "</div>"
            ],
            "text/plain": [
              "                                              review  sentiment\n",
              "0  One of the other reviewers has mentioned that ...          1\n",
              "1  A wonderful little production. <br /><br />The...          1\n",
              "2  I thought this was a wonderful way to spend ti...          1\n",
              "3  Basically there's a family where a little boy ...          0\n",
              "4  Petter Mattei's \"Love in the Time of Money\" is...          1"
            ]
          },
          "metadata": {
            "tags": []
          },
          "execution_count": 953
        }
      ]
    },
    {
      "cell_type": "markdown",
      "metadata": {
        "id": "0Ptn3NPD7ZeF"
      },
      "source": [
        "Train Test Split"
      ]
    },
    {
      "cell_type": "code",
      "metadata": {
        "id": "HWTzeDxYmxBu"
      },
      "source": [
        "from sklearn.model_selection import train_test_split\n",
        "\n",
        "Xtrain,Xtest,Ytrain ,Ytest = train_test_split(data['review'],data['sentiment'],test_size=0.33,random_state=0 )"
      ],
      "execution_count": 954,
      "outputs": []
    },
    {
      "cell_type": "markdown",
      "metadata": {
        "id": "Q9bTzSG2-VqR"
      },
      "source": [
        "## Shapes of train and test data."
      ]
    },
    {
      "cell_type": "code",
      "metadata": {
        "colab": {
          "base_uri": "https://localhost:8080/"
        },
        "id": "OtJidYE37AzP",
        "outputId": "8c2a2d91-7c04-41cf-b7c3-86a1b89ca3b8"
      },
      "source": [
        "print(\"Shapes To Train Data :\")\n",
        "print(Xtrain.shape)\n",
        "print(Ytrain.shape)\n",
        "print(\"Shapes To Test  Data :\")\n",
        "print(Xtest.shape)\n",
        "\n",
        "print(Ytest.shape)"
      ],
      "execution_count": 955,
      "outputs": [
        {
          "output_type": "stream",
          "text": [
            "Shapes To Train Data :\n",
            "(33500,)\n",
            "(33500,)\n",
            "Shapes To Test  Data :\n",
            "(16500,)\n",
            "(16500,)\n"
          ],
          "name": "stdout"
        }
      ]
    },
    {
      "cell_type": "code",
      "metadata": {
        "colab": {
          "base_uri": "https://localhost:8080/"
        },
        "id": "to6xmELe7OvX",
        "outputId": "53425e7b-9128-436c-96e7-490861bcac0d"
      },
      "source": [
        "# print a sample data\n",
        "\n",
        "print('Xtrain \\n', Xtrain[10])\n",
        "print('Ytrain \\n', Ytrain[10])\n",
        "\n",
        "print('Xtest \\n', Xtest[1])\n",
        "print('Ytest \\n', Ytest[1])"
      ],
      "execution_count": 956,
      "outputs": [
        {
          "output_type": "stream",
          "text": [
            "Xtrain \n",
            " Phil the Alien is one of those quirky films where the humour is based around the oddness of everything rather than actual punchlines.<br /><br />At first it was very odd and pretty funny but as the movie progressed I didn't find the jokes or oddness funny anymore.<br /><br />Its a low budget film (thats never a problem in itself), there were some pretty interesting characters, but eventually I just lost interest.<br /><br />I imagine this film would appeal to a stoner who is currently partaking.<br /><br />For something similar but better try \"Brother from another planet\"\n",
            "Ytrain \n",
            " 0\n",
            "Xtest \n",
            " A wonderful little production. <br /><br />The filming technique is very unassuming- very old-time-BBC fashion and gives a comforting, and sometimes discomforting, sense of realism to the entire piece. <br /><br />The actors are extremely well chosen- Michael Sheen not only \"has got all the polari\" but he has all the voices down pat too! You can truly see the seamless editing guided by the references to Williams' diary entries, not only is it well worth the watching but it is a terrificly written and performed piece. A masterful production about one of the great master's of comedy and his life. <br /><br />The realism really comes home with the little things: the fantasy of the guard which, rather than use the traditional 'dream' techniques remains solid then disappears. It plays on our knowledge and our senses, particularly with the scenes concerning Orton and Halliwell and the sets (particularly of their flat with Halliwell's murals decorating every surface) are terribly well done.\n",
            "Ytest \n",
            " 1\n"
          ],
          "name": "stdout"
        }
      ]
    },
    {
      "cell_type": "markdown",
      "metadata": {
        "id": "k7PZ1HiN8zDe"
      },
      "source": [
        "**3. Data Pre-processing (0.25 mark) **\n",
        "\n",
        "**a.**Need for this Step - Since the models we use cannot accept string inputs or cannot be of the string format. We have to come up with a way of handling this step. The discussion of different ways of handling this step is out of the scope of this assignment.\n",
        "\n",
        "\n",
        "**b.** Please use this pre-trained embedding layer from TensorFlow hub for this assignment. This link also has a code snippet on how to convert a sentence to a vector. Refer to that for further clarity on this subject.\n"
      ]
    },
    {
      "cell_type": "code",
      "metadata": {
        "id": "PVr9CHNCdOpN",
        "colab": {
          "base_uri": "https://localhost:8080/"
        },
        "outputId": "539a2acd-11c3-4009-886c-8139fa4f63c1"
      },
      "source": [
        "\n",
        "embed = hub.load(\"https://tfhub.dev/google/nnlm-en-dim128/2\")\n",
        "#embeddings = embed([\"cat is on the mat\", \"dog is in the fog\"])\n",
        "embeddingXtrain = embed(Xtrain)\n",
        "embeddingXtest = embed(Xtest)"
      ],
      "execution_count": 957,
      "outputs": [
        {
          "output_type": "stream",
          "text": [
            "WARNING:tensorflow:9 out of the last 11 calls to <function recreate_function.<locals>.restored_function_body at 0x7f5835447170> triggered tf.function retracing. Tracing is expensive and the excessive number of tracings could be due to (1) creating @tf.function repeatedly in a loop, (2) passing tensors with different shapes, (3) passing Python objects instead of tensors. For (1), please define your @tf.function outside of the loop. For (2), @tf.function has experimental_relax_shapes=True option that relaxes argument shapes that can avoid unnecessary retracing. For (3), please refer to https://www.tensorflow.org/guide/function#controlling_retracing and https://www.tensorflow.org/api_docs/python/tf/function for  more details.\n"
          ],
          "name": "stdout"
        },
        {
          "output_type": "stream",
          "text": [
            "WARNING:tensorflow:9 out of the last 11 calls to <function recreate_function.<locals>.restored_function_body at 0x7f5835447170> triggered tf.function retracing. Tracing is expensive and the excessive number of tracings could be due to (1) creating @tf.function repeatedly in a loop, (2) passing tensors with different shapes, (3) passing Python objects instead of tensors. For (1), please define your @tf.function outside of the loop. For (2), @tf.function has experimental_relax_shapes=True option that relaxes argument shapes that can avoid unnecessary retracing. For (3), please refer to https://www.tensorflow.org/guide/function#controlling_retracing and https://www.tensorflow.org/api_docs/python/tf/function for  more details.\n"
          ],
          "name": "stderr"
        },
        {
          "output_type": "stream",
          "text": [
            "WARNING:tensorflow:9 out of the last 11 calls to <function recreate_function.<locals>.restored_function_body at 0x7f5835447830> triggered tf.function retracing. Tracing is expensive and the excessive number of tracings could be due to (1) creating @tf.function repeatedly in a loop, (2) passing tensors with different shapes, (3) passing Python objects instead of tensors. For (1), please define your @tf.function outside of the loop. For (2), @tf.function has experimental_relax_shapes=True option that relaxes argument shapes that can avoid unnecessary retracing. For (3), please refer to https://www.tensorflow.org/guide/function#controlling_retracing and https://www.tensorflow.org/api_docs/python/tf/function for  more details.\n"
          ],
          "name": "stdout"
        },
        {
          "output_type": "stream",
          "text": [
            "WARNING:tensorflow:9 out of the last 11 calls to <function recreate_function.<locals>.restored_function_body at 0x7f5835447830> triggered tf.function retracing. Tracing is expensive and the excessive number of tracings could be due to (1) creating @tf.function repeatedly in a loop, (2) passing tensors with different shapes, (3) passing Python objects instead of tensors. For (1), please define your @tf.function outside of the loop. For (2), @tf.function has experimental_relax_shapes=True option that relaxes argument shapes that can avoid unnecessary retracing. For (3), please refer to https://www.tensorflow.org/guide/function#controlling_retracing and https://www.tensorflow.org/api_docs/python/tf/function for  more details.\n"
          ],
          "name": "stderr"
        },
        {
          "output_type": "stream",
          "text": [
            "WARNING:tensorflow:9 out of the last 11 calls to <function recreate_function.<locals>.restored_function_body at 0x7f5835446200> triggered tf.function retracing. Tracing is expensive and the excessive number of tracings could be due to (1) creating @tf.function repeatedly in a loop, (2) passing tensors with different shapes, (3) passing Python objects instead of tensors. For (1), please define your @tf.function outside of the loop. For (2), @tf.function has experimental_relax_shapes=True option that relaxes argument shapes that can avoid unnecessary retracing. For (3), please refer to https://www.tensorflow.org/guide/function#controlling_retracing and https://www.tensorflow.org/api_docs/python/tf/function for  more details.\n"
          ],
          "name": "stdout"
        },
        {
          "output_type": "stream",
          "text": [
            "WARNING:tensorflow:9 out of the last 11 calls to <function recreate_function.<locals>.restored_function_body at 0x7f5835446200> triggered tf.function retracing. Tracing is expensive and the excessive number of tracings could be due to (1) creating @tf.function repeatedly in a loop, (2) passing tensors with different shapes, (3) passing Python objects instead of tensors. For (1), please define your @tf.function outside of the loop. For (2), @tf.function has experimental_relax_shapes=True option that relaxes argument shapes that can avoid unnecessary retracing. For (3), please refer to https://www.tensorflow.org/guide/function#controlling_retracing and https://www.tensorflow.org/api_docs/python/tf/function for  more details.\n"
          ],
          "name": "stderr"
        }
      ]
    },
    {
      "cell_type": "markdown",
      "metadata": {
        "id": "-_SKvoVj9bHk"
      },
      "source": [
        "**c.** Bring the train and test data in the required format."
      ]
    },
    {
      "cell_type": "code",
      "metadata": {
        "colab": {
          "base_uri": "https://localhost:8080/"
        },
        "id": "EdRvINno9Ri1",
        "outputId": "a52c69fe-30ba-47c0-cff9-da7a46ea099f"
      },
      "source": [
        "Xtrain = embeddingXtrain\n",
        "Xtest = embeddingXtest\n",
        "\n",
        "\n",
        "\n",
        "print(Xtrain.shape)\n",
        "print(Ytrain.shape)\n",
        "\n",
        "print(Xtest.shape)\n",
        "print(Ytest.shape)\n"
      ],
      "execution_count": 958,
      "outputs": [
        {
          "output_type": "stream",
          "text": [
            "(33500, 128)\n",
            "(33500,)\n",
            "(16500, 128)\n",
            "(16500,)\n"
          ],
          "name": "stdout"
        }
      ]
    },
    {
      "cell_type": "code",
      "metadata": {
        "id": "SoKNYvHcA6j3"
      },
      "source": [
        "Ytrain = tf.keras.utils.to_categorical(Ytrain)\n",
        "Ytest = tf.keras.utils.to_categorical(Ytest)"
      ],
      "execution_count": 959,
      "outputs": []
    },
    {
      "cell_type": "code",
      "metadata": {
        "colab": {
          "base_uri": "https://localhost:8080/"
        },
        "id": "Gfu6KJLFHj7c",
        "outputId": "71e2b7da-e29e-4236-a5ed-60fb81774b93"
      },
      "source": [
        "print(Xtrain.shape)\n",
        "print(Ytrain.shape)\n",
        "\n",
        "print(Xtest.shape)\n",
        "print(Ytest.shape)"
      ],
      "execution_count": 960,
      "outputs": [
        {
          "output_type": "stream",
          "text": [
            "(33500, 128)\n",
            "(33500, 2)\n",
            "(16500, 128)\n",
            "(16500, 2)\n"
          ],
          "name": "stdout"
        }
      ]
    },
    {
      "cell_type": "markdown",
      "metadata": {
        "id": "gN3ddPq49kbn"
      },
      "source": [
        "##4. Model Building "
      ]
    },
    {
      "cell_type": "markdown",
      "metadata": {
        "id": "TgMYNeDc99O2"
      },
      "source": [
        "##a.Sequential Model layers- Use AT LEAST 3 hidden layers with appropriate input for each. Choose the best number for hidden units and give reasons.\n",
        "\n"
      ]
    },
    {
      "cell_type": "code",
      "metadata": {
        "id": "z3clU7SCfu42"
      },
      "source": [
        "dnnModel = models.Sequential()"
      ],
      "execution_count": 961,
      "outputs": []
    },
    {
      "cell_type": "markdown",
      "metadata": {
        "id": "Uh4hy2I1X98b"
      },
      "source": [
        "**Activation Function: Relu is most useful for hidden layer as this helps in training the hdden layer quickly .**\n",
        "It does not activate all the neurons at the same time.\n",
        "This means that the neurons will only be deactivated if the output of the linear transformation is less than 0.\n",
        "\n",
        "We found that when we use Leaky Relu it helps in improving the Accuracy of the Training set as it does not make any negative neuron dead. it keep them small but alive.\n",
        "Softwmax is used for the final Output layer as that selects that neuron whose weight means probablity is heighest amongst all.\n",
        "\n",
        "\n",
        "\n"
      ]
    },
    {
      "cell_type": "code",
      "metadata": {
        "id": "f-brZAhVgHEA"
      },
      "source": [
        "# Layer 1 Hidden layer \n",
        "# adding Relu activation function as  # LeakyRelu\n",
        "#dnnModel.add(layers.Dense(40, activation='relu', input_shape= (128,)))\n",
        "dnnModel.add(layers.Dense(40, activation=keras.layers.LeakyReLU(alpha=0.03), input_shape= (128,)))"
      ],
      "execution_count": 962,
      "outputs": []
    },
    {
      "cell_type": "code",
      "metadata": {
        "id": "UpDaz4shgWDb"
      },
      "source": [
        "# Layer 2 = hidden layer  with Regularizers\n",
        "#dnnModel.add(layers.Dense(60, activation='relu', kernel_regularizer=regularizers.l2(0.01), activity_regularizer=regularizers.l2(0.01)) )\n",
        "dnnModel.add(layers.Dense(60, activation=keras.layers.LeakyReLU(alpha=0.02)))"
      ],
      "execution_count": 963,
      "outputs": []
    },
    {
      "cell_type": "markdown",
      "metadata": {
        "id": "2bZfiDguKvId"
      },
      "source": [
        "##d. Choose the appropriate activation function for all the layers."
      ]
    },
    {
      "cell_type": "code",
      "metadata": {
        "id": "hMy827TGgZlo"
      },
      "source": [
        "#Layer 3 Hidden Layer\n",
        "dnnModel.add(layers.Dense(30, activation=keras.layers.LeakyReLU(alpha=0.01)))"
      ],
      "execution_count": 964,
      "outputs": []
    },
    {
      "cell_type": "markdown",
      "metadata": {
        "id": "oQAKXvHyKk9U"
      },
      "source": [
        "##c. Add one layer of dropout at the appropriate position and give reasons."
      ]
    },
    {
      "cell_type": "markdown",
      "metadata": {
        "id": "iN4G_CNObhSl"
      },
      "source": [
        "**As this probem is Binary classification so Sigmoid Activation should be used as that give  output bw 0 and 1 .\n",
        "It is useful in the binary classfication problem**"
      ]
    },
    {
      "cell_type": "code",
      "metadata": {
        "id": "TSWuueG0gb-J"
      },
      "source": [
        "#Layer 4 Output Layer\n",
        "#dnnModel.add(layers.Dense(2, activation='softmax'))\n",
        "dnnModel.add(layers.Dense(2, activation='sigmoid'))"
      ],
      "execution_count": 965,
      "outputs": []
    },
    {
      "cell_type": "markdown",
      "metadata": {
        "id": "T-NlmoJHKrGi"
      },
      "source": [
        "##e. Print the model summary."
      ]
    },
    {
      "cell_type": "code",
      "metadata": {
        "colab": {
          "base_uri": "https://localhost:8080/"
        },
        "id": "krFiw8Zhgcnh",
        "outputId": "6a41c423-6ae8-4582-b239-200937cde986"
      },
      "source": [
        "dnnModel.summary()"
      ],
      "execution_count": 966,
      "outputs": [
        {
          "output_type": "stream",
          "text": [
            "Model: \"sequential_25\"\n",
            "_________________________________________________________________\n",
            "Layer (type)                 Output Shape              Param #   \n",
            "=================================================================\n",
            "dense_247 (Dense)            (None, 40)                5160      \n",
            "_________________________________________________________________\n",
            "dense_248 (Dense)            (None, 60)                2460      \n",
            "_________________________________________________________________\n",
            "dense_249 (Dense)            (None, 30)                1830      \n",
            "_________________________________________________________________\n",
            "dense_250 (Dense)            (None, 2)                 62        \n",
            "=================================================================\n",
            "Total params: 9,512\n",
            "Trainable params: 9,512\n",
            "Non-trainable params: 0\n",
            "_________________________________________________________________\n"
          ],
          "name": "stdout"
        }
      ]
    },
    {
      "cell_type": "markdown",
      "metadata": {
        "id": "B9a8fWHAf4ey"
      },
      "source": [
        "**Optimization function**: Gradient Descent has disadvantage that it can stuck in Local Minima. \n",
        "Other Optimization functions learning rate is constant for all parameters and for each cycle. We found when we use **Adagrad** which changes the learning rate automatically internally for each cycle for optimum result gives better results in the accuracy and finding the better results.\n",
        "**Adagrad tends to benefit from higher initial learning rate values compared to other optimizers. To match the exact form in the original paper, use 1.0.**\n"
      ]
    },
    {
      "cell_type": "code",
      "metadata": {
        "colab": {
          "base_uri": "https://localhost:8080/"
        },
        "id": "S7Hy2giLgniq",
        "outputId": "c12cb3a9-1f14-4d55-f933-2455e5f482e3"
      },
      "source": [
        "# Configure  the model for training, by using appropriate optimizers and regularizations\n",
        "# Available optimizer: adam, rmsprop, adagrad, sgd\n",
        "# loss:  objective that the model will try to minimize. \n",
        "# Available loss: categorical_crossentropy, binary_crossentropy, mean_squared_error\n",
        "# metrics: List of metrics to be evaluated by the model during training and testing. \n",
        "\n",
        "opt = keras.optimizers.Adam(learning_rate=0.06)\n",
        "\n",
        "rms = tf.keras.optimizers.RMSprop(\n",
        "    learning_rate=0.06,\n",
        "    rho=0.9,\n",
        "    momentum=0.0,\n",
        "    epsilon=1e-07,\n",
        "    centered=False,\n",
        "    name=\"RMSprop\"\n",
        ")\n",
        "# Adagrad tends to benefit from higher initial learning rate values compared to other optimizers. To match the exact form in the original paper, use 1.0.\n",
        "adg = tf.keras.optimizers.Adagrad(\n",
        "    learning_rate=1.0,\n",
        "    initial_accumulator_value=0.1,\n",
        "    epsilon=1e-07,\n",
        "    name=\"Adagrad\", \n",
        ")\n",
        "\n",
        "dnnModel.compile( optimizer = adg, loss = 'binary_crossentropy', metrics=['accuracy'] )\n",
        "#dnnModel.compile( optimizer = 'adam', loss = 'binary_crossentropy', metrics=['accuracy'] )\n",
        "print(Xtrain.shape)\n",
        "print(Ytrain.shape)\n",
        "\n",
        "print(Xtrain[0])\n",
        "print(Ytrain[0])\n",
        "\n"
      ],
      "execution_count": 967,
      "outputs": [
        {
          "output_type": "stream",
          "text": [
            "(33500, 128)\n",
            "(33500, 2)\n",
            "tf.Tensor(\n",
            "[ 1.47242510e+00 -1.60027221e-01  1.47459224e-01  4.85372335e-01\n",
            "  9.34651494e-02 -2.93215156e-01  4.27043065e-02 -3.20206851e-01\n",
            " -2.11031377e-01 -5.66693693e-02  5.47432639e-02 -6.85985982e-01\n",
            " -2.83679128e-01 -5.21231234e-01 -1.89524174e-01 -3.57939526e-02\n",
            " -1.63974568e-01  1.46641387e-02 -1.72429025e-01  9.96929944e-01\n",
            "  1.14356034e-01  1.68717623e-01 -3.91296782e-02  1.86212704e-01\n",
            " -1.25741526e-01 -3.25104058e-01 -4.42002788e-02  1.25886230e-02\n",
            " -2.18402594e-02 -4.23970446e-02  1.60016567e-01  1.72809049e-01\n",
            "  3.28686357e-01 -5.12002893e-02  3.03797364e-01 -5.04753031e-02\n",
            " -3.31442505e-01 -4.63478148e-01 -1.65949285e-01  4.00649399e-01\n",
            " -1.10821307e-01  5.88939004e-02 -1.34986505e-01 -1.15372628e-01\n",
            "  2.43344948e-01  9.67528373e-02  8.97682384e-02 -3.76606554e-01\n",
            " -3.37005824e-01  9.92517918e-02 -3.45435031e-02  2.25428164e-01\n",
            " -1.27526522e-01  2.87392765e-01 -1.74793005e-01 -3.16415668e-01\n",
            " -1.43903434e-01 -7.64355063e-02  2.84669966e-01  6.62018284e-02\n",
            " -3.57499599e-01  2.90056199e-01  1.74480721e-01 -8.62062424e-02\n",
            " -1.42619818e-01  9.70088691e-02 -7.43612796e-02 -2.19667971e-01\n",
            "  3.86816472e-01  1.24044120e-01 -3.73896062e-01 -2.23864466e-02\n",
            "  1.14205629e-02  8.03102776e-02  2.57116467e-01  3.82217556e-01\n",
            " -3.00660193e-01 -4.87322837e-01 -2.66585857e-01  5.55894226e-02\n",
            "  9.75660458e-02 -1.11705050e-01 -1.69928372e-01  1.07009321e-01\n",
            "  3.00905183e-02 -3.72425616e-02 -1.09174110e-01  2.82359719e-01\n",
            "  8.76196802e-01  3.58409047e-01 -1.24051735e-01  5.86377382e-02\n",
            "  6.03928056e-04 -1.74729303e-01 -2.14157719e-02  1.26241922e-01\n",
            "  2.23910093e-01 -2.47138202e-01  3.08378100e-01  1.52112931e-01\n",
            "  2.23845303e-01 -1.00709856e-01  4.91933882e-01  1.30708620e-01\n",
            "  2.79738784e-01 -5.09668708e-01 -3.41640823e-02 -4.47872914e-02\n",
            " -3.91830981e-01  6.14267401e-02 -3.96775812e-01 -1.55321822e-01\n",
            " -4.51932520e-01 -3.17023158e-01 -1.60745606e-01 -4.34169054e-01\n",
            " -2.57560253e-01  3.55012804e-01 -6.49808869e-02  1.32666565e-02\n",
            "  1.94953263e-01 -1.52905121e-01  1.79769918e-01 -1.09092392e-01\n",
            "  7.30402842e-02 -1.63312986e-01 -1.50191829e-01  2.37441748e-01], shape=(128,), dtype=float32)\n",
            "[0. 1.]\n"
          ],
          "name": "stdout"
        }
      ]
    },
    {
      "cell_type": "code",
      "metadata": {
        "id": "62MOH4uyGChD"
      },
      "source": [
        "#es = EarlyStopping(monitor='val_loss', mode='min', verbose=1)"
      ],
      "execution_count": 968,
      "outputs": []
    },
    {
      "cell_type": "code",
      "metadata": {
        "colab": {
          "base_uri": "https://localhost:8080/"
        },
        "id": "PJ0TyuAggqDZ",
        "outputId": "6312fad7-a3ba-44f9-91ae-a35e39a70874"
      },
      "source": [
        "start = time.time()\n",
        "h  = dnnModel.fit( Xtrain, Ytrain,validation_split=0.2, epochs=25, batch_size=64)\n",
        "\n",
        "# fit model\n",
        "#hes = dnnModel.fit(Xtrain, Ytrain, validation_split=0.2, epochs=25, verbose=0, callbacks=[es])"
      ],
      "execution_count": 969,
      "outputs": [
        {
          "output_type": "stream",
          "text": [
            "Epoch 1/25\n",
            "419/419 [==============================] - 1s 2ms/step - loss: 0.7043 - accuracy: 0.5135 - val_loss: 0.6930 - val_accuracy: 0.5001\n",
            "Epoch 2/25\n",
            "419/419 [==============================] - 1s 2ms/step - loss: 0.6940 - accuracy: 0.5193 - val_loss: 0.6921 - val_accuracy: 0.4999\n",
            "Epoch 3/25\n",
            "419/419 [==============================] - 1s 2ms/step - loss: 0.6923 - accuracy: 0.5167 - val_loss: 0.6966 - val_accuracy: 0.5000\n",
            "Epoch 4/25\n",
            "419/419 [==============================] - 1s 2ms/step - loss: 0.6932 - accuracy: 0.5411 - val_loss: 0.6932 - val_accuracy: 0.5001\n",
            "Epoch 5/25\n",
            "419/419 [==============================] - 1s 2ms/step - loss: 0.6935 - accuracy: 0.4992 - val_loss: 0.6931 - val_accuracy: 0.4999\n",
            "Epoch 6/25\n",
            "419/419 [==============================] - 1s 2ms/step - loss: 0.6934 - accuracy: 0.5082 - val_loss: 0.6946 - val_accuracy: 0.5001\n",
            "Epoch 7/25\n",
            "419/419 [==============================] - 1s 2ms/step - loss: 0.6937 - accuracy: 0.4949 - val_loss: 0.6933 - val_accuracy: 0.5001\n",
            "Epoch 8/25\n",
            "419/419 [==============================] - 1s 2ms/step - loss: 0.6934 - accuracy: 0.5013 - val_loss: 0.6931 - val_accuracy: 0.4999\n",
            "Epoch 9/25\n",
            "419/419 [==============================] - 1s 2ms/step - loss: 0.6931 - accuracy: 0.4974 - val_loss: 0.6933 - val_accuracy: 0.4999\n",
            "Epoch 10/25\n",
            "419/419 [==============================] - 1s 2ms/step - loss: 0.6934 - accuracy: 0.4978 - val_loss: 0.6928 - val_accuracy: 0.4999\n",
            "Epoch 11/25\n",
            "419/419 [==============================] - 1s 2ms/step - loss: 0.6920 - accuracy: 0.5174 - val_loss: 0.6937 - val_accuracy: 0.4999\n",
            "Epoch 12/25\n",
            "419/419 [==============================] - 1s 2ms/step - loss: 0.6524 - accuracy: 0.5956 - val_loss: 0.4845 - val_accuracy: 0.7813\n",
            "Epoch 13/25\n",
            "419/419 [==============================] - 1s 2ms/step - loss: 0.5179 - accuracy: 0.7529 - val_loss: 0.4789 - val_accuracy: 0.7615\n",
            "Epoch 14/25\n",
            "419/419 [==============================] - 1s 2ms/step - loss: 0.4676 - accuracy: 0.7818 - val_loss: 0.4882 - val_accuracy: 0.7696\n",
            "Epoch 15/25\n",
            "419/419 [==============================] - 1s 2ms/step - loss: 0.4473 - accuracy: 0.7929 - val_loss: 0.4429 - val_accuracy: 0.7867\n",
            "Epoch 16/25\n",
            "419/419 [==============================] - 1s 2ms/step - loss: 0.4576 - accuracy: 0.7844 - val_loss: 0.4390 - val_accuracy: 0.7958\n",
            "Epoch 17/25\n",
            "419/419 [==============================] - 1s 2ms/step - loss: 0.4455 - accuracy: 0.7937 - val_loss: 0.4525 - val_accuracy: 0.7890\n",
            "Epoch 18/25\n",
            "419/419 [==============================] - 1s 2ms/step - loss: 0.4458 - accuracy: 0.7900 - val_loss: 0.4392 - val_accuracy: 0.7927\n",
            "Epoch 19/25\n",
            "419/419 [==============================] - 1s 2ms/step - loss: 0.4462 - accuracy: 0.7912 - val_loss: 0.4419 - val_accuracy: 0.7876\n",
            "Epoch 20/25\n",
            "419/419 [==============================] - 1s 2ms/step - loss: 0.4457 - accuracy: 0.7913 - val_loss: 0.4526 - val_accuracy: 0.7903\n",
            "Epoch 21/25\n",
            "419/419 [==============================] - 1s 2ms/step - loss: 0.4417 - accuracy: 0.7934 - val_loss: 0.4425 - val_accuracy: 0.7948\n",
            "Epoch 22/25\n",
            "419/419 [==============================] - 1s 2ms/step - loss: 0.4348 - accuracy: 0.7983 - val_loss: 0.4380 - val_accuracy: 0.7954\n",
            "Epoch 23/25\n",
            "419/419 [==============================] - 1s 2ms/step - loss: 0.4303 - accuracy: 0.8015 - val_loss: 0.4389 - val_accuracy: 0.7910\n",
            "Epoch 24/25\n",
            "419/419 [==============================] - 1s 2ms/step - loss: 0.4350 - accuracy: 0.7979 - val_loss: 0.4372 - val_accuracy: 0.7943\n",
            "Epoch 25/25\n",
            "419/419 [==============================] - 1s 2ms/step - loss: 0.4312 - accuracy: 0.8008 - val_loss: 0.4354 - val_accuracy: 0.7978\n"
          ],
          "name": "stdout"
        }
      ]
    },
    {
      "cell_type": "markdown",
      "metadata": {
        "id": "7FucaeofaPLx"
      },
      "source": [
        "##Total Time In Training "
      ]
    },
    {
      "cell_type": "code",
      "metadata": {
        "colab": {
          "base_uri": "https://localhost:8080/"
        },
        "id": "ykI8ioOvaSSa",
        "outputId": "b29c892e-12c2-4f3c-b39c-eee54d9882e5"
      },
      "source": [
        "print(\"Total time: \", time.time() - start, \"seconds\")"
      ],
      "execution_count": 970,
      "outputs": [
        {
          "output_type": "stream",
          "text": [
            "Total time:  20.20331335067749 seconds\n"
          ],
          "name": "stdout"
        }
      ]
    },
    {
      "cell_type": "code",
      "metadata": {
        "colab": {
          "base_uri": "https://localhost:8080/"
        },
        "id": "BNYZ2aZleKPN",
        "outputId": "bdd4c6db-9444-4208-a175-5ba1937176e4"
      },
      "source": [
        "print('Final training loss \\t', h.history['loss'][-1])\n",
        "print('Final training accuracy ', h.history['accuracy'][-1])"
      ],
      "execution_count": 971,
      "outputs": [
        {
          "output_type": "stream",
          "text": [
            "Final training loss \t 0.4333455264568329\n",
            "Final training accuracy  0.7994776368141174\n"
          ],
          "name": "stdout"
        }
      ]
    },
    {
      "cell_type": "code",
      "metadata": {
        "colab": {
          "base_uri": "https://localhost:8080/",
          "height": 295
        },
        "id": "OycnytJneMwc",
        "outputId": "7ec4b15f-558d-4450-cc3b-28746f40d73b"
      },
      "source": [
        "# plot the training  accuracy  \n",
        "import matplotlib.pyplot as plt\n",
        "\n",
        "plt.plot(h.history['accuracy'], label='train')\n",
        "plt.plot(h.history['val_accuracy'], label='validation')\n",
        "plt.xlabel('Epochs')\n",
        "plt.ylabel('Loss')\n",
        "plt.title('Plot of Accuracy')\n",
        "plt.legend()\n",
        "plt.show()"
      ],
      "execution_count": 972,
      "outputs": [
        {
          "output_type": "display_data",
          "data": {
            "image/png": "[encoded data removed]",
            "text/plain": [
              "<Figure size 432x288 with 1 Axes>"
            ]
          },
          "metadata": {
            "tags": [],
            "needs_background": "light"
          }
        }
      ]
    },
    {
      "cell_type": "code",
      "metadata": {
        "colab": {
          "base_uri": "https://localhost:8080/",
          "height": 295
        },
        "id": "uaOwPQcVjVLX",
        "outputId": "58f42ba7-8967-47a6-800b-0f5a8c47f894"
      },
      "source": [
        "# plot the traininig loss \n",
        "\n",
        "\n",
        "plt.plot(h.history['loss'], label='train')\n",
        "plt.plot(h.history['val_loss'], label='validation')\n",
        "plt.xlabel('Epochs')\n",
        "plt.ylabel('Loss')\n",
        "plt.title('Plot of Loss')\n",
        "plt.legend()\n",
        "plt.show()"
      ],
      "execution_count": 973,
      "outputs": [
        {
          "output_type": "display_data",
          "data": {
            "image/png": "[encoded data removed]",
            "text/plain": [
              "<Figure size 432x288 with 1 Axes>"
            ]
          },
          "metadata": {
            "tags": [],
            "needs_background": "light"
          }
        }
      ]
    },
    {
      "cell_type": "code",
      "metadata": {
        "colab": {
          "base_uri": "https://localhost:8080/"
        },
        "id": "RdJUN_WY_fW0",
        "outputId": "d0bf2629-2d2f-47b1-d4b9-5455a870d356"
      },
      "source": [
        "# testing the model\n",
        "\n",
        "testLoss, testAccuracy = dnnModel.evaluate( Xtest, Ytest)\n",
        "print('Testing loss \\t', testLoss)\n",
        "print('Testing accuracy ', testAccuracy)"
      ],
      "execution_count": 974,
      "outputs": [
        {
          "output_type": "stream",
          "text": [
            "516/516 [==============================] - 1s 1ms/step - loss: 0.4345 - accuracy: 0.7963\n",
            "Testing loss \t 0.43449899554252625\n",
            "Testing accuracy  0.7963030338287354\n"
          ],
          "name": "stdout"
        }
      ]
    },
    {
      "cell_type": "markdown",
      "metadata": {
        "id": "SBsWVQJOeXdX"
      },
      "source": [
        "##As per the above graph we can see that Accuracy is very good for training Data but for validation data it is not good. Our Model is overfitting. For that We will apply the L2 and L1 Regularization techniques ##\n",
        "\n"
      ]
    },
    {
      "cell_type": "markdown",
      "metadata": {
        "id": "kzIVrIhtBD3D"
      },
      "source": [
        "##L2 Regularisation "
      ]
    },
    {
      "cell_type": "code",
      "metadata": {
        "colab": {
          "base_uri": "https://localhost:8080/"
        },
        "id": "IVlneOVKmiee",
        "outputId": "94476abe-09f0-4240-9a31-9addffc4f27f"
      },
      "source": [
        "# Layer 1 Hidden layer \n",
        "dnnModel.add(layers.Dense(40, activation=keras.layers.LeakyReLU(alpha=0.01), input_shape= (128,)))\n",
        "#Layer 2 Hidden Layer\n",
        "dnnModel.add(layers.Dense(60, activation=keras.layers.LeakyReLU(alpha=0.01), kernel_regularizer=regularizers.l2(0.020), activity_regularizer=regularizers.l2(0.02)) )\n",
        "\n",
        "#Layer 3 Hidden Layer\n",
        "dnnModel.add(layers.Dense(30, activation=keras.layers.LeakyReLU(alpha=0.01), kernel_regularizer=regularizers.l2(0.020), activity_regularizer=regularizers.l2(0.02))) \n",
        "\n",
        "#Layer 4 Hidden Layer\n",
        "# Add dropout of 20% to layer 4 as we can see that there ios overfitting in the above training accuracy to test accuracy\n",
        "dnnModel.add(layers.Dropout(0.2))\n",
        "\n",
        "dnnModel.add(layers.Dense(2, activation='sigmoid'))\n",
        "#dnnModel.add(layers.Dense(2, activation='softmax'))\n",
        "dnnModel.summary()\n",
        "\n",
        "# Available optimizer: adam, rmsprop, adagrad, sgd\n",
        "# loss:  objective that the model will try to minimize. \n",
        "# Available loss: categorical_crossentropy, binary_crossentropy, mean_squared_error\n",
        "\n",
        "opt = keras.optimizers.Adam(learning_rate=0.06)\n",
        "\n",
        "rms = tf.keras.optimizers.RMSprop(\n",
        "    learning_rate=0.001,\n",
        "    rho=0.9,\n",
        "    momentum=0.0,\n",
        "    epsilon=1e-07,\n",
        "    centered=False,\n",
        "    name=\"RMSprop\"\n",
        ")\n",
        "\n",
        "adg = tf.keras.optimizers.Adagrad(\n",
        "    learning_rate=1.0,\n",
        "    initial_accumulator_value=0.1,\n",
        "    epsilon=1e-07,\n",
        "    name=\"Adagrad\", \n",
        ")\n",
        "\n",
        "dnnModel.compile( optimizer = adg, loss = 'binary_crossentropy', metrics=['accuracy'] )\n",
        "\n",
        "es = EarlyStopping(monitor='val_loss', mode='min', verbose=1)\n",
        "\n",
        "hes = dnnModel.fit(Xtrain, Ytrain, validation_split=0.2, epochs=25, verbose=1, callbacks=[es])\n",
        "\n",
        "\n"
      ],
      "execution_count": 975,
      "outputs": [
        {
          "output_type": "stream",
          "text": [
            "Model: \"sequential_25\"\n",
            "_________________________________________________________________\n",
            "Layer (type)                 Output Shape              Param #   \n",
            "=================================================================\n",
            "dense_247 (Dense)            (None, 40)                5160      \n",
            "_________________________________________________________________\n",
            "dense_248 (Dense)            (None, 60)                2460      \n",
            "_________________________________________________________________\n",
            "dense_249 (Dense)            (None, 30)                1830      \n",
            "_________________________________________________________________\n",
            "dense_250 (Dense)            (None, 2)                 62        \n",
            "_________________________________________________________________\n",
            "dense_251 (Dense)            (None, 40)                120       \n",
            "_________________________________________________________________\n",
            "dense_252 (Dense)            (None, 60)                2460      \n",
            "_________________________________________________________________\n",
            "dense_253 (Dense)            (None, 30)                1830      \n",
            "_________________________________________________________________\n",
            "dropout_35 (Dropout)         (None, 30)                0         \n",
            "_________________________________________________________________\n",
            "dense_254 (Dense)            (None, 2)                 62        \n",
            "=================================================================\n",
            "Total params: 13,984\n",
            "Trainable params: 13,984\n",
            "Non-trainable params: 0\n",
            "_________________________________________________________________\n",
            "Epoch 1/25\n",
            "838/838 [==============================] - 3s 2ms/step - loss: 0.7472 - accuracy: 0.5052 - val_loss: 0.6931 - val_accuracy: 0.5001\n",
            "Epoch 2/25\n",
            "838/838 [==============================] - 2s 2ms/step - loss: 0.6940 - accuracy: 0.4950 - val_loss: 0.6944 - val_accuracy: 0.5001\n",
            "Epoch 00002: early stopping\n"
          ],
          "name": "stdout"
        }
      ]
    },
    {
      "cell_type": "code",
      "metadata": {
        "id": "H_jbh2CvG46u",
        "colab": {
          "base_uri": "https://localhost:8080/",
          "height": 295
        },
        "outputId": "3d573ee8-08cd-4e59-a64a-a1f8bcbc92ae"
      },
      "source": [
        "# plot the training loss\n",
        "\n",
        "plt.plot(hes.history['loss'], label='Train loss')\n",
        "plt.plot(hes.history['val_loss'], label='Val loss') \n",
        "plt.xlabel('Epochs')\n",
        "plt.ylabel('Loss')\n",
        "plt.title('Plot of Training Loss -- Early Stopping')\n",
        "plt.legend()\n",
        "plt.show()"
      ],
      "execution_count": 976,
      "outputs": [
        {
          "output_type": "display_data",
          "data": {
            "image/png": "[encoded data removed]",
            "text/plain": [
              "<Figure size 432x288 with 1 Axes>"
            ]
          },
          "metadata": {
            "tags": [],
            "needs_background": "light"
          }
        }
      ]
    },
    {
      "cell_type": "code",
      "metadata": {
        "id": "AMdsey9OHDCj",
        "colab": {
          "base_uri": "https://localhost:8080/",
          "height": 295
        },
        "outputId": "496a4f8a-1d18-4989-92ad-89d45f342b82"
      },
      "source": [
        "# plot the training accuracy\n",
        "\n",
        "plt.plot(hes.history['accuracy'], label='Train Acc')\n",
        "plt.plot(hes.history['val_accuracy'], label='Val Acc')\n",
        "plt.xlabel('Epochs')\n",
        "plt.ylabel('Loss')\n",
        "plt.title('Plot of Training Accuracy With L2 Regularization')\n",
        "plt.legend()\n",
        "plt.show()"
      ],
      "execution_count": 977,
      "outputs": [
        {
          "output_type": "display_data",
          "data": {
            "image/png": "[encoded data removed]",
            "text/plain": [
              "<Figure size 432x288 with 1 Axes>"
            ]
          },
          "metadata": {
            "tags": [],
            "needs_background": "light"
          }
        }
      ]
    },
    {
      "cell_type": "code",
      "metadata": {
        "id": "gm4HldTr_Q5x",
        "colab": {
          "base_uri": "https://localhost:8080/"
        },
        "outputId": "80798dd5-1c58-461a-9348-7065553a5d92"
      },
      "source": [
        "# testing the model\n",
        "testLoss, testAccuracy = dnnModel.evaluate( Xtest, Ytest)\n"
      ],
      "execution_count": 978,
      "outputs": [
        {
          "output_type": "stream",
          "text": [
            "516/516 [==============================] - 1s 1ms/step - loss: 0.6942 - accuracy: 0.5019\n"
          ],
          "name": "stdout"
        }
      ]
    },
    {
      "cell_type": "code",
      "metadata": {
        "id": "8Xr68j-F_nJj",
        "colab": {
          "base_uri": "https://localhost:8080/"
        },
        "outputId": "39a0c533-73eb-425a-e9ec-371b7f5fb347"
      },
      "source": [
        "print('Testing loss \\t', testLoss)\n",
        "print('Testing accuracy ', testAccuracy)"
      ],
      "execution_count": 979,
      "outputs": [
        {
          "output_type": "stream",
          "text": [
            "Testing loss \t 0.6942268013954163\n",
            "Testing accuracy  0.5018787980079651\n"
          ],
          "name": "stdout"
        }
      ]
    },
    {
      "cell_type": "markdown",
      "metadata": {
        "id": "Ol_CXiALzvED"
      },
      "source": [
        "Testing the Model"
      ]
    },
    {
      "cell_type": "markdown",
      "metadata": {
        "id": "iiHZE6josTTA"
      },
      "source": [
        "## L1 Regularization "
      ]
    },
    {
      "cell_type": "code",
      "metadata": {
        "id": "LZDkfKjEsSWT",
        "colab": {
          "base_uri": "https://localhost:8080/"
        },
        "outputId": "147c8d94-a6f4-4df2-879d-a7b0c0d41f31"
      },
      "source": [
        "# Layer 1 Hidden layer \n",
        "dnnModel.add(layers.Dense(40, activation=keras.layers.LeakyReLU(alpha=0.01), input_shape= (128,)))\n",
        "#Layer 2 Hidden Layer\n",
        "dnnModel.add(layers.Dense(60, activation=keras.layers.LeakyReLU(alpha=0.01), kernel_regularizer=regularizers.l1(0.10), activity_regularizer=regularizers.l1(0.05)) )\n",
        "\n",
        "#Layer 3 Hidden Layer\n",
        "dnnModel.add(layers.Dense(30, activation=keras.layers.LeakyReLU(alpha=0.01), kernel_regularizer=regularizers.l1(0.10), activity_regularizer=regularizers.l1(0.05)) )\n",
        "#Layer 4 Hidden Layer\n",
        "\n",
        "# Add dropout of 20% to layer 4 as we can see that there ios overfitting in the above training accuracy to test accuracy\n",
        "dnnModel.add(layers.Dropout(0.2))\n",
        "\n",
        "\n",
        "#Layer 4 Hidden Layer\n",
        "#dnnModel.add(layers.Dense(2, activation='softmax'))\n",
        "dnnModel.add(layers.Dense(2, activation='sigmoid'))\n",
        "dnnModel.summary()\n",
        "\n",
        "# Available optimizer: adam, rmsprop, adagrad, sgd\n",
        "# loss:  objective that the model will try to minimize. \n",
        "# Available loss: categorical_crossentropy, binary_crossentropy, mean_squared_error\n",
        "\n",
        "opt = keras.optimizers.Adam(learning_rate=0.06)\n",
        "\n",
        "rms = tf.keras.optimizers.RMSprop(\n",
        "    learning_rate=0.001,\n",
        "    rho=0.9,\n",
        "    momentum=0.0,\n",
        "    epsilon=1e-07,\n",
        "    centered=False,\n",
        "    name=\"RMSprop\"\n",
        ")\n",
        "\n",
        "adg = tf.keras.optimizers.Adagrad(\n",
        "    learning_rate=1.0,\n",
        "    initial_accumulator_value=0.1,\n",
        "    epsilon=1e-07,\n",
        "    name=\"Adagrad\", \n",
        ")\n",
        "\n",
        "dnnModel.compile( optimizer = adg, loss = 'binary_crossentropy', metrics=['accuracy'] )\n",
        "es = EarlyStopping(monitor='val_loss', mode='min', verbose=1)\n",
        "\n",
        "hes = dnnModel.fit(Xtrain, Ytrain, validation_split=0.2, epochs=25, verbose=1, callbacks=[es])"
      ],
      "execution_count": 980,
      "outputs": [
        {
          "output_type": "stream",
          "text": [
            "Model: \"sequential_25\"\n",
            "_________________________________________________________________\n",
            "Layer (type)                 Output Shape              Param #   \n",
            "=================================================================\n",
            "dense_247 (Dense)            (None, 40)                5160      \n",
            "_________________________________________________________________\n",
            "dense_248 (Dense)            (None, 60)                2460      \n",
            "_________________________________________________________________\n",
            "dense_249 (Dense)            (None, 30)                1830      \n",
            "_________________________________________________________________\n",
            "dense_250 (Dense)            (None, 2)                 62        \n",
            "_________________________________________________________________\n",
            "dense_251 (Dense)            (None, 40)                120       \n",
            "_________________________________________________________________\n",
            "dense_252 (Dense)            (None, 60)                2460      \n",
            "_________________________________________________________________\n",
            "dense_253 (Dense)            (None, 30)                1830      \n",
            "_________________________________________________________________\n",
            "dropout_35 (Dropout)         (None, 30)                0         \n",
            "_________________________________________________________________\n",
            "dense_254 (Dense)            (None, 2)                 62        \n",
            "_________________________________________________________________\n",
            "dense_255 (Dense)            (None, 40)                120       \n",
            "_________________________________________________________________\n",
            "dense_256 (Dense)            (None, 60)                2460      \n",
            "_________________________________________________________________\n",
            "dense_257 (Dense)            (None, 30)                1830      \n",
            "_________________________________________________________________\n",
            "dropout_36 (Dropout)         (None, 30)                0         \n",
            "_________________________________________________________________\n",
            "dense_258 (Dense)            (None, 2)                 62        \n",
            "=================================================================\n",
            "Total params: 18,456\n",
            "Trainable params: 18,456\n",
            "Non-trainable params: 0\n",
            "_________________________________________________________________\n",
            "Epoch 1/25\n",
            "838/838 [==============================] - 3s 3ms/step - loss: 21.4834 - accuracy: 0.5068 - val_loss: 6.5223 - val_accuracy: 0.5001\n",
            "Epoch 2/25\n",
            "838/838 [==============================] - 2s 2ms/step - loss: 7.2147 - accuracy: 0.5029 - val_loss: 4.8808 - val_accuracy: 0.5001\n",
            "Epoch 3/25\n",
            "838/838 [==============================] - 2s 2ms/step - loss: 5.5316 - accuracy: 0.4935 - val_loss: 4.1675 - val_accuracy: 0.4999\n",
            "Epoch 4/25\n",
            "838/838 [==============================] - 2s 2ms/step - loss: 4.7159 - accuracy: 0.5014 - val_loss: 3.7686 - val_accuracy: 0.5001\n",
            "Epoch 5/25\n",
            "838/838 [==============================] - 2s 2ms/step - loss: 4.2103 - accuracy: 0.4981 - val_loss: 3.6291 - val_accuracy: 0.5001\n",
            "Epoch 6/25\n",
            "838/838 [==============================] - 2s 2ms/step - loss: 3.8588 - accuracy: 0.4986 - val_loss: 3.4288 - val_accuracy: 0.4999\n",
            "Epoch 7/25\n",
            "838/838 [==============================] - 2s 2ms/step - loss: 3.5949 - accuracy: 0.4991 - val_loss: 3.3023 - val_accuracy: 0.4999\n",
            "Epoch 8/25\n",
            "838/838 [==============================] - 2s 2ms/step - loss: 3.3874 - accuracy: 0.5079 - val_loss: 3.1495 - val_accuracy: 0.4999\n",
            "Epoch 9/25\n",
            "838/838 [==============================] - 2s 3ms/step - loss: 3.2194 - accuracy: 0.4961 - val_loss: 3.0369 - val_accuracy: 0.5001\n",
            "Epoch 10/25\n",
            "838/838 [==============================] - 2s 2ms/step - loss: 3.0790 - accuracy: 0.4969 - val_loss: 2.9422 - val_accuracy: 0.4999\n",
            "Epoch 11/25\n",
            "838/838 [==============================] - 2s 2ms/step - loss: 2.9597 - accuracy: 0.4987 - val_loss: 2.8779 - val_accuracy: 0.5001\n",
            "Epoch 12/25\n",
            "838/838 [==============================] - 2s 2ms/step - loss: 2.8567 - accuracy: 0.5026 - val_loss: 2.8159 - val_accuracy: 0.4999\n",
            "Epoch 13/25\n",
            "838/838 [==============================] - 2s 3ms/step - loss: 2.7666 - accuracy: 0.5027 - val_loss: 2.6940 - val_accuracy: 0.5001\n",
            "Epoch 14/25\n",
            "838/838 [==============================] - 2s 3ms/step - loss: 2.6867 - accuracy: 0.4972 - val_loss: 2.6296 - val_accuracy: 0.4999\n",
            "Epoch 15/25\n",
            "838/838 [==============================] - 2s 2ms/step - loss: 2.6155 - accuracy: 0.5071 - val_loss: 2.5138 - val_accuracy: 0.4999\n",
            "Epoch 16/25\n",
            "838/838 [==============================] - 2s 2ms/step - loss: 2.5512 - accuracy: 0.4990 - val_loss: 2.4793 - val_accuracy: 0.5001\n",
            "Epoch 17/25\n",
            "838/838 [==============================] - 2s 2ms/step - loss: 2.4932 - accuracy: 0.4950 - val_loss: 2.4206 - val_accuracy: 0.5001\n",
            "Epoch 18/25\n",
            "838/838 [==============================] - 2s 2ms/step - loss: 2.4401 - accuracy: 0.5049 - val_loss: 2.3654 - val_accuracy: 0.4999\n",
            "Epoch 19/25\n",
            "838/838 [==============================] - 2s 2ms/step - loss: 2.3918 - accuracy: 0.4978 - val_loss: 2.3442 - val_accuracy: 0.4999\n",
            "Epoch 20/25\n",
            "838/838 [==============================] - 2s 3ms/step - loss: 2.3471 - accuracy: 0.4987 - val_loss: 2.3117 - val_accuracy: 0.5001\n",
            "Epoch 21/25\n",
            "838/838 [==============================] - 2s 3ms/step - loss: 2.3059 - accuracy: 0.5111 - val_loss: 2.2459 - val_accuracy: 0.4999\n",
            "Epoch 22/25\n",
            "838/838 [==============================] - 2s 3ms/step - loss: 2.2678 - accuracy: 0.5031 - val_loss: 2.2088 - val_accuracy: 0.4999\n",
            "Epoch 23/25\n",
            "838/838 [==============================] - 2s 3ms/step - loss: 2.2319 - accuracy: 0.5037 - val_loss: 2.1829 - val_accuracy: 0.5001\n",
            "Epoch 24/25\n",
            "838/838 [==============================] - 2s 2ms/step - loss: 2.1987 - accuracy: 0.4913 - val_loss: 2.1369 - val_accuracy: 0.4999\n",
            "Epoch 25/25\n",
            "838/838 [==============================] - 2s 2ms/step - loss: 2.1669 - accuracy: 0.5072 - val_loss: 2.1241 - val_accuracy: 0.5001\n"
          ],
          "name": "stdout"
        }
      ]
    },
    {
      "cell_type": "code",
      "metadata": {
        "id": "gjV4hM5U6P6B",
        "colab": {
          "base_uri": "https://localhost:8080/",
          "height": 295
        },
        "outputId": "583518c4-6ceb-47ca-950a-e718ea511056"
      },
      "source": [
        "# plot the training loss\n",
        "\n",
        "plt.plot(hes.history['loss'], label='Train loss')\n",
        "plt.plot(hes.history['val_loss'], label='Val loss') \n",
        "plt.xlabel('Epochs')\n",
        "plt.ylabel('Loss')\n",
        "plt.title('Plot of Training Loss --  L1 Regularisation with Early Stopping ')\n",
        "plt.legend()\n",
        "plt.show()"
      ],
      "execution_count": 981,
      "outputs": [
        {
          "output_type": "display_data",
          "data": {
            "image/png": "[encoded data removed]",
            "text/plain": [
              "<Figure size 432x288 with 1 Axes>"
            ]
          },
          "metadata": {
            "tags": [],
            "needs_background": "light"
          }
        }
      ]
    },
    {
      "cell_type": "code",
      "metadata": {
        "id": "3in2JrnJ6U7r",
        "colab": {
          "base_uri": "https://localhost:8080/",
          "height": 295
        },
        "outputId": "31679276-9fce-4eea-c38b-16eed8e42a1f"
      },
      "source": [
        "# plot the training accuracy\n",
        "\n",
        "plt.plot(hes.history['accuracy'], label='Train Acc')\n",
        "plt.plot(hes.history['val_accuracy'], label='Val Acc')\n",
        "plt.xlabel('Epochs')\n",
        "plt.ylabel('Loss')\n",
        "plt.title('Plot of Training Accuracy L1 Regularisation with Early Stopping ')\n",
        "plt.legend()\n",
        "plt.show()"
      ],
      "execution_count": 982,
      "outputs": [
        {
          "output_type": "display_data",
          "data": {
            "image/png": "[encoded data removed]",
            "text/plain": [
              "<Figure size 432x288 with 1 Axes>"
            ]
          },
          "metadata": {
            "tags": [],
            "needs_background": "light"
          }
        }
      ]
    },
    {
      "cell_type": "code",
      "metadata": {
        "id": "J2yEl8W_zy9t",
        "colab": {
          "base_uri": "https://localhost:8080/"
        },
        "outputId": "c37022c4-8cba-4b0b-e889-794a608cb0ee"
      },
      "source": [
        "# testing the model\n",
        "\n",
        "testLoss, testAccuracy = dnnModel.evaluate( Xtest, Ytest)\n",
        "print('Testing loss \\t', testLoss)\n",
        "print('Testing accuracy ', testAccuracy)"
      ],
      "execution_count": 983,
      "outputs": [
        {
          "output_type": "stream",
          "text": [
            "516/516 [==============================] - 1s 1ms/step - loss: 2.1241 - accuracy: 0.5019\n",
            "Testing loss \t 2.124128818511963\n",
            "Testing accuracy  0.5018787980079651\n"
          ],
          "name": "stdout"
        }
      ]
    },
    {
      "cell_type": "code",
      "metadata": {
        "id": "cBCW7Wtlz59v",
        "colab": {
          "base_uri": "https://localhost:8080/"
        },
        "outputId": "d9d42598-2a7e-4b61-d07f-70bf288d7f81"
      },
      "source": [
        "print('Testing loss \\t', testLoss)\n",
        "print('Testing accuracy ', testAccuracy)"
      ],
      "execution_count": 984,
      "outputs": [
        {
          "output_type": "stream",
          "text": [
            "Testing loss \t 2.124128818511963\n",
            "Testing accuracy  0.5018787980079651\n"
          ],
          "name": "stdout"
        }
      ]
    },
    {
      "cell_type": "markdown",
      "metadata": {
        "id": "rm9j6tvUQIQ1"
      },
      "source": [
        "##Here we can see that L2 Regularisation gives better results it is because \n",
        "##L1’s effect on pushing towards 0 (sparsity) or we can say that reducing the number of features"
      ]
    }
  ]
}
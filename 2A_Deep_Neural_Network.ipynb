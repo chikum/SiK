{
  "nbformat": 4,
  "nbformat_minor": 0,
  "metadata": {
    "kernelspec": {
      "display_name": "Python 3",
      "language": "python",
      "name": "python3"
    },
    "language_info": {
      "codemirror_mode": {
        "name": "ipython",
        "version": 3
      },
      "file_extension": ".py",
      "mimetype": "text/x-python",
      "name": "python",
      "nbconvert_exporter": "python",
      "pygments_lexer": "ipython3",
      "version": "3.7.3"
    },
    "colab": {
      "name": "2A_Deep_Neural_Network.ipynb",
      "provenance": [],
      "collapsed_sections": [],
      "include_colab_link": true
    },
    "accelerator": "GPU"
  },
  "cells": [
    {
      "cell_type": "markdown",
      "metadata": {
        "id": "view-in-github",
        "colab_type": "text"
      },
      "source": [
        "<a href=\"https://colab.research.google.com/github/chikum/SiK/blob/AES/2A_Deep_Neural_Network.ipynb\" target=\"_parent\"><img src=\"https://colab.research.google.com/assets/colab-badge.svg\" alt=\"Open In Colab\"/></a>"
      ]
    },
    {
      "cell_type": "markdown",
      "metadata": {
        "id": "K6LryClJIP7s"
      },
      "source": [
        "# Deep Neural Network using Keras"
      ]
    },
    {
      "cell_type": "code",
      "metadata": {
        "colab": {
          "base_uri": "https://localhost:8080/"
        },
        "id": "U-_rqY20JwMq",
        "outputId": "a56f7dab-0046-4333-aa47-538887e9a62a"
      },
      "source": [
        "!nvidia-smi"
      ],
      "execution_count": 35,
      "outputs": [
        {
          "output_type": "stream",
          "text": [
            "Wed May 12 15:19:32 2021       \n",
            "+-----------------------------------------------------------------------------+\n",
            "| NVIDIA-SMI 465.19.01    Driver Version: 460.32.03    CUDA Version: 11.2     |\n",
            "|-------------------------------+----------------------+----------------------+\n",
            "| GPU  Name        Persistence-M| Bus-Id        Disp.A | Volatile Uncorr. ECC |\n",
            "| Fan  Temp  Perf  Pwr:Usage/Cap|         Memory-Usage | GPU-Util  Compute M. |\n",
            "|                               |                      |               MIG M. |\n",
            "|===============================+======================+======================|\n",
            "|   0  Tesla T4            Off  | 00000000:00:04.0 Off |                    0 |\n",
            "| N/A   50C    P0    28W /  70W |    224MiB / 15109MiB |      0%      Default |\n",
            "|                               |                      |                  N/A |\n",
            "+-------------------------------+----------------------+----------------------+\n",
            "                                                                               \n",
            "+-----------------------------------------------------------------------------+\n",
            "| Processes:                                                                  |\n",
            "|  GPU   GI   CI        PID   Type   Process name                  GPU Memory |\n",
            "|        ID   ID                                                   Usage      |\n",
            "|=============================================================================|\n",
            "+-----------------------------------------------------------------------------+\n"
          ],
          "name": "stdout"
        }
      ]
    },
    {
      "cell_type": "code",
      "metadata": {
        "id": "mhJV32FlIP73"
      },
      "source": [
        "import tensorflow as tf\n",
        "\n",
        "from tensorflow.keras import models\n",
        "from tensorflow.keras import layers\n",
        "\n",
        "import random\n",
        "import numpy as np"
      ],
      "execution_count": 112,
      "outputs": []
    },
    {
      "cell_type": "code",
      "metadata": {
        "id": "r58PX42WIP8U"
      },
      "source": [
        "random.seed(42)         # Initialize the random number generator.\n",
        "np.random.seed(42)      # With the seed reset, the same set of \n",
        "                        # numbers will appear every time. \n",
        "tf.random.set_seed(42)  # sets the graph-level random seed"
      ],
      "execution_count": 113,
      "outputs": []
    },
    {
      "cell_type": "markdown",
      "metadata": {
        "id": "VADdGGHtIP8j"
      },
      "source": [
        "## Dataset"
      ]
    },
    {
      "cell_type": "code",
      "metadata": {
        "id": "_2I4muxNIP8k"
      },
      "source": [
        "# Use the MNIST dataset  of Keras.\n",
        "\n",
        "mnist = tf.keras.datasets.mnist\n",
        "(Xtrain, Ytrain) , (Xtest, Ytest) = mnist.load_data()"
      ],
      "execution_count": 114,
      "outputs": []
    },
    {
      "cell_type": "code",
      "metadata": {
        "colab": {
          "base_uri": "https://localhost:8080/",
          "height": 298
        },
        "id": "Q_7M8bZARfzW",
        "outputId": "e81f0632-95e6-4507-9511-f9411cbf63ae"
      },
      "source": [
        "import matplotlib.pyplot as plt\n",
        "# Only use this if using iPython\n",
        "%matplotlib inline \n",
        "# You may select anything up to 60,000\n",
        "image_index = 7777 \n",
        "# The label is 8\n",
        "print(Ytrain[image_index]) \n",
        "plt.imshow(Xtrain[image_index], cmap='Greys')"
      ],
      "execution_count": 115,
      "outputs": [
        {
          "output_type": "stream",
          "text": [
            "8\n"
          ],
          "name": "stdout"
        },
        {
          "output_type": "execute_result",
          "data": {
            "text/plain": [
              "<matplotlib.image.AxesImage at 0x7f16f0256110>"
            ]
          },
          "metadata": {
            "tags": []
          },
          "execution_count": 115
        },
        {
          "output_type": "display_data",
          "data": {
            "image/png": "[encoded data removed]",
            "text/plain": [
              "<Figure size 432x288 with 1 Axes>"
            ]
          },
          "metadata": {
            "tags": [],
            "needs_background": "light"
          }
        }
      ]
    },
    {
      "cell_type": "code",
      "metadata": {
        "id": "Cjy-XrrtIP8u",
        "colab": {
          "base_uri": "https://localhost:8080/"
        },
        "outputId": "b3616998-221b-4b95-b519-d1bb29da951e"
      },
      "source": [
        "# size of the datsets\n",
        "\n",
        "print(Xtrain.shape)\n",
        "print(Xtest.shape)\n",
        "print(Ytrain.shape)\n",
        "print(Ytest.shape)"
      ],
      "execution_count": 118,
      "outputs": [
        {
          "output_type": "stream",
          "text": [
            "(60000, 28, 28)\n",
            "(10000, 28, 28)\n",
            "(60000,)\n",
            "(10000,)\n"
          ],
          "name": "stdout"
        }
      ]
    },
    {
      "cell_type": "code",
      "metadata": {
        "id": "7L1l_nfZIP83",
        "colab": {
          "base_uri": "https://localhost:8080/"
        },
        "outputId": "56a87054-03bf-4162-fb61-0865c3eacd96"
      },
      "source": [
        "# print a sample data\n",
        "\n",
        "print('Xtrain \\n', Xtrain[10,10])\n",
        "print('Xtest \\n', Xtest[10,10])\n",
        "print('Ytrain \\n', Ytrain[10])\n",
        "print('Ytest \\n', Ytest[10])"
      ],
      "execution_count": 120,
      "outputs": [
        {
          "output_type": "stream",
          "text": [
            "Xtrain \n",
            " [  0   0   0   0   0   0   0   0   0   0   0   0   0  24 209 254 254 254\n",
            " 171   0   0   0   0   0   0   0   0   0]\n",
            "Xtest \n",
            " [  0   0   0   0   0   0   0   0 194 254 103   0   0   0   0   0   0   0\n",
            "   0   0 150 254 213   0   0   0   0   0]\n",
            "Ytrain \n",
            " 3\n",
            "Ytest \n",
            " 0\n"
          ],
          "name": "stdout"
        }
      ]
    },
    {
      "cell_type": "code",
      "metadata": {
        "id": "YVtoOHBBIP8_"
      },
      "source": [
        "# Normalize the data\n",
        "# 60000 input images are in the train set.\n",
        "# 10000 input images are in the test set.\n",
        "\n",
        "Xtrain = Xtrain.reshape((60000, 28*28))    # reshape the input set to size 28*28. VEctor of length 784\n",
        "Xtrain = Xtrain.astype('float32')/255      # normalize to grayscale; set datatype as float32\n",
        "\n",
        "Xtest = Xtest.reshape((10000, 28*28))      # reshape the input set to size 28*28. \n",
        "Xtest = Xtest.astype('float32')/255        # normalize to grayscale; set datatype as float32\n",
        "\n",
        "Ytrain = tf.keras.utils.to_categorical(Ytrain)\n",
        "Ytest = tf.keras.utils.to_categorical(Ytest)"
      ],
      "execution_count": 121,
      "outputs": []
    },
    {
      "cell_type": "code",
      "metadata": {
        "id": "8zimNIJlIP9G",
        "colab": {
          "base_uri": "https://localhost:8080/"
        },
        "outputId": "7c1cf522-c30b-4460-c7fe-df4ac6439b19"
      },
      "source": [
        "# print a sample data\n",
        "\n",
        "print('Xtrain \\n', Xtrain[10,10])\n",
        "print('Xtest \\n', Xtest[10,10])\n",
        "print('Ytrain \\n', Ytrain[10])\n",
        "print('Ytest \\n', Ytest[10])"
      ],
      "execution_count": 122,
      "outputs": [
        {
          "output_type": "stream",
          "text": [
            "Xtrain \n",
            " 0.0\n",
            "Xtest \n",
            " 0.0\n",
            "Ytrain \n",
            " [0. 0. 0. 1. 0. 0. 0. 0. 0. 0.]\n",
            "Ytest \n",
            " [1. 0. 0. 0. 0. 0. 0. 0. 0. 0.]\n"
          ],
          "name": "stdout"
        }
      ]
    },
    {
      "cell_type": "markdown",
      "metadata": {
        "id": "8N_kd_UjIP9N"
      },
      "source": [
        "## DNN Model"
      ]
    },
    {
      "cell_type": "markdown",
      "metadata": {
        "id": "LKoWFRwCIP9N"
      },
      "source": [
        "Using Keras, create the DNN or Sequential Model"
      ]
    },
    {
      "cell_type": "code",
      "metadata": {
        "id": "9YQZ9rwDIP9P"
      },
      "source": [
        "# Create a model object\n",
        "\n",
        "dnnModel = models.Sequential()"
      ],
      "execution_count": 123,
      "outputs": []
    },
    {
      "cell_type": "markdown",
      "metadata": {
        "id": "vdVw-JFnIP9W"
      },
      "source": [
        "Add dense layers, specifying the number of units in each layer and the activation function used in the layer."
      ]
    },
    {
      "cell_type": "code",
      "metadata": {
        "id": "BDLNg0JoIP9W",
        "colab": {
          "base_uri": "https://localhost:8080/"
        },
        "outputId": "a0066a87-c0db-44cf-83fb-181cdf6ee56d"
      },
      "source": [
        "# Layer 1 = input layer\n",
        "# specify the input size in the first layer.\n",
        "\n",
        "dnnModel.add(layers.Dense(100, activation='relu', input_shape= (28*28,)))\n",
        "\n",
        "# Layer 2 = hidden layer \n",
        "dnnModel.add(layers.Dense(120, activation='relu'))\n",
        "\n",
        "# Layer 3 = hidden layer \n",
        "dnnModel.add(layers.Dense(30, activation='relu'))\n",
        "\n",
        "# Layer 3 = hidden layer \n",
        "dnnModel.add(layers.Dense(30, activation='relu'))\n",
        "\n",
        "\n",
        "# Layer 4 = output layer\n",
        "dnnModel.add(layers.Dense(10, activation='softmax'))\n",
        "\n",
        "dnnModel.summary()"
      ],
      "execution_count": 133,
      "outputs": [
        {
          "output_type": "stream",
          "text": [
            "Model: \"sequential_6\"\n",
            "_________________________________________________________________\n",
            "Layer (type)                 Output Shape              Param #   \n",
            "=================================================================\n",
            "dense_37 (Dense)             (None, 50)                39250     \n",
            "_________________________________________________________________\n",
            "dense_38 (Dense)             (None, 60)                3060      \n",
            "_________________________________________________________________\n",
            "dense_39 (Dense)             (None, 30)                1830      \n",
            "_________________________________________________________________\n",
            "dense_40 (Dense)             (None, 10)                310       \n",
            "_________________________________________________________________\n",
            "dense_41 (Dense)             (None, 100)               1100      \n",
            "_________________________________________________________________\n",
            "dense_42 (Dense)             (None, 120)               12120     \n",
            "_________________________________________________________________\n",
            "dense_43 (Dense)             (None, 30)                3630      \n",
            "_________________________________________________________________\n",
            "dense_44 (Dense)             (None, 10)                310       \n",
            "=================================================================\n",
            "Total params: 61,610\n",
            "Trainable params: 61,610\n",
            "Non-trainable params: 0\n",
            "_________________________________________________________________\n"
          ],
          "name": "stdout"
        }
      ]
    },
    {
      "cell_type": "markdown",
      "metadata": {
        "id": "28IYxqFrIP9e"
      },
      "source": [
        "## Regularization and Optimizations of DNN"
      ]
    },
    {
      "cell_type": "code",
      "metadata": {
        "id": "BCP1FDGcIP9f"
      },
      "source": [
        "# Configure  the model for training, by using appropriate optimizers and regularizations\n",
        "# Available optimizer: adam, rmsprop, adagrad, sgd\n",
        "# loss:  objective that the model will try to minimize. \n",
        "# Available loss: categorical_crossentropy, binary_crossentropy, mean_squared_error\n",
        "# metrics: List of metrics to be evaluated by the model during training and testing. \n",
        "        \n",
        "dnnModel.compile( optimizer = 'rmsprop', loss = 'categorical_crossentropy', metrics=['accuracy'] )"
      ],
      "execution_count": 140,
      "outputs": []
    },
    {
      "cell_type": "markdown",
      "metadata": {
        "id": "ZUzQWRg7IP9m"
      },
      "source": [
        "## Train the Model"
      ]
    },
    {
      "cell_type": "code",
      "metadata": {
        "id": "08bomXmVIP9m",
        "colab": {
          "base_uri": "https://localhost:8080/"
        },
        "outputId": "02bf9d5f-5b2d-4ef3-8822-a45c0e659132"
      },
      "source": [
        "# train the model\n",
        "\n",
        "h  = dnnModel.fit( Xtrain, Ytrain, epochs=25, batch_size=64)"
      ],
      "execution_count": 141,
      "outputs": [
        {
          "output_type": "stream",
          "text": [
            "Epoch 1/25\n",
            "938/938 [==============================] - 4s 3ms/step - loss: 0.0106 - accuracy: 0.9986\n",
            "Epoch 2/25\n",
            "938/938 [==============================] - 3s 3ms/step - loss: 0.0027 - accuracy: 0.9995\n",
            "Epoch 3/25\n",
            "938/938 [==============================] - 3s 3ms/step - loss: 0.0033 - accuracy: 0.9997\n",
            "Epoch 4/25\n",
            "938/938 [==============================] - 3s 3ms/step - loss: 0.0011 - accuracy: 0.9999\n",
            "Epoch 5/25\n",
            "938/938 [==============================] - 3s 3ms/step - loss: 0.0013 - accuracy: 0.9999\n",
            "Epoch 6/25\n",
            "938/938 [==============================] - 3s 3ms/step - loss: 0.0013 - accuracy: 0.9999\n",
            "Epoch 7/25\n",
            "938/938 [==============================] - 3s 3ms/step - loss: 0.0013 - accuracy: 0.9999\n",
            "Epoch 8/25\n",
            "938/938 [==============================] - 3s 3ms/step - loss: 2.7070e-04 - accuracy: 0.9999\n",
            "Epoch 9/25\n",
            "938/938 [==============================] - 3s 3ms/step - loss: 2.1153e-04 - accuracy: 1.0000\n",
            "Epoch 10/25\n",
            "938/938 [==============================] - 3s 3ms/step - loss: 0.0014 - accuracy: 0.9999\n",
            "Epoch 11/25\n",
            "938/938 [==============================] - 3s 3ms/step - loss: 5.6845e-04 - accuracy: 0.9999\n",
            "Epoch 12/25\n",
            "938/938 [==============================] - 3s 3ms/step - loss: 6.4372e-07 - accuracy: 1.0000\n",
            "Epoch 13/25\n",
            "938/938 [==============================] - 3s 3ms/step - loss: 5.9840e-05 - accuracy: 1.0000\n",
            "Epoch 14/25\n",
            "938/938 [==============================] - 3s 3ms/step - loss: 2.8366e-05 - accuracy: 1.0000\n",
            "Epoch 15/25\n",
            "938/938 [==============================] - 3s 3ms/step - loss: 1.2464e-05 - accuracy: 1.0000\n",
            "Epoch 16/25\n",
            "938/938 [==============================] - 3s 3ms/step - loss: 1.9436e-10 - accuracy: 1.0000\n",
            "Epoch 17/25\n",
            "938/938 [==============================] - 3s 3ms/step - loss: 7.9850e-12 - accuracy: 1.0000\n",
            "Epoch 18/25\n",
            "938/938 [==============================] - 3s 3ms/step - loss: 0.0000e+00 - accuracy: 1.0000\n",
            "Epoch 19/25\n",
            "938/938 [==============================] - 3s 3ms/step - loss: 0.0000e+00 - accuracy: 1.0000\n",
            "Epoch 20/25\n",
            "938/938 [==============================] - 3s 3ms/step - loss: 0.0000e+00 - accuracy: 1.0000\n",
            "Epoch 21/25\n",
            "938/938 [==============================] - 3s 3ms/step - loss: 0.0000e+00 - accuracy: 1.0000\n",
            "Epoch 22/25\n",
            "938/938 [==============================] - 3s 3ms/step - loss: 0.0000e+00 - accuracy: 1.0000\n",
            "Epoch 23/25\n",
            "938/938 [==============================] - 3s 3ms/step - loss: 0.0000e+00 - accuracy: 1.0000\n",
            "Epoch 24/25\n",
            "938/938 [==============================] - 3s 3ms/step - loss: 0.0000e+00 - accuracy: 1.0000\n",
            "Epoch 25/25\n",
            "938/938 [==============================] - 3s 3ms/step - loss: 0.0000e+00 - accuracy: 1.0000\n"
          ],
          "name": "stdout"
        }
      ]
    },
    {
      "cell_type": "code",
      "metadata": {
        "id": "UQWxcD0cIP9v",
        "colab": {
          "base_uri": "https://localhost:8080/"
        },
        "outputId": "4a05ab4e-e380-4625-a25b-fe794acdf448"
      },
      "source": [
        "print('Final training loss \\t', h.history['loss'][-1])\n",
        "print('Final training accuracy ', h.history['accuracy'][-1])"
      ],
      "execution_count": 142,
      "outputs": [
        {
          "output_type": "stream",
          "text": [
            "Final training loss \t 0.0\n",
            "Final training accuracy  1.0\n"
          ],
          "name": "stdout"
        }
      ]
    },
    {
      "cell_type": "markdown",
      "metadata": {
        "id": "8MVmi3UHIP91"
      },
      "source": [
        "## Testing the Model"
      ]
    },
    {
      "cell_type": "code",
      "metadata": {
        "id": "GATeGSFdIP92",
        "colab": {
          "base_uri": "https://localhost:8080/"
        },
        "outputId": "b3dc9d05-04b4-4ad7-e4a0-2a9123f86eab"
      },
      "source": [
        "# testing the model\n",
        "\n",
        "testLoss, testAccuracy = dnnModel.evaluate( Xtest, Ytest)"
      ],
      "execution_count": 143,
      "outputs": [
        {
          "output_type": "stream",
          "text": [
            "313/313 [==============================] - 1s 2ms/step - loss: 0.5365 - accuracy: 0.9770\n"
          ],
          "name": "stdout"
        }
      ]
    },
    {
      "cell_type": "code",
      "metadata": {
        "id": "YBXNTA_cIP99",
        "colab": {
          "base_uri": "https://localhost:8080/"
        },
        "outputId": "12a44047-1be7-41ba-ea90-49360d70394d"
      },
      "source": [
        "print('Testing loss \\t', testLoss)\n",
        "print('Testing accuracy ', testAccuracy)"
      ],
      "execution_count": 144,
      "outputs": [
        {
          "output_type": "stream",
          "text": [
            "Testing loss \t 0.5364682078361511\n",
            "Testing accuracy  0.9769999980926514\n"
          ],
          "name": "stdout"
        }
      ]
    },
    {
      "cell_type": "markdown",
      "metadata": {
        "id": "tOoG9gbsIP-G"
      },
      "source": [
        "# Exercise \n",
        "\n",
        "Modify the code to get a better testing accuracy.\n",
        "- Change the number of hidden units\n",
        "- Increase the number of hidden layers\n",
        "- Use a different optimizer"
      ]
    }
  ]
}